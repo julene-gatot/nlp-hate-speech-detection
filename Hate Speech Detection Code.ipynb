{
 "cells": [
  {
   "cell_type": "markdown",
   "metadata": {},
   "source": [
    "## Contents\n",
    "\n",
    "**EDA**\n",
    "* [Distribution of classes](#Dataset-full-count,-Distribution-of-classes)\n",
    "* [Hashtags](#Explore-hashtags-for-each-class)\n",
    "* [Usernames](#Explore-Usernames)\n",
    "\n",
    "**Data Preprocessing**\n",
    "* [Clean and Tokenize](#Clean-data-and-tokenize)\n",
    "* [Lemmatize](#Lemmatize-tokens)\n",
    "* [Removing of StopWords](#Remove-stop-words-from-tokens)\n",
    "* [Exploring Clean Tweets](#Check-Clean-Tweets)\n",
    "* [Transform target label](#Transform-Target-Label)\n",
    "\n",
    "[**Naive Bayes**](#Using-Naive-Bayes)\n",
    "* [Different Vectorizers used](#Using-Tf-Idf-as-vectorizer)\n",
    "\n",
    "[**Logistic Regression**](#Using-Logistic-Regression)\n",
    "* [Feature importance](#Look-at-feature-importance-for-each-classes)\n",
    "* [Logistic Regression without Blank Tweets](#Removing-blank-tweets)\n",
    "* [Logistic Regression with Stopwords](#Logistic-Regression-with-Stopwords)\n",
    "\n",
    "[**Prediction on Test Set**](#Test-on-actual-Test-set)\n",
    "* [Hypothesis on prediction results (class 2)](#Exploring-prediction-for-class-2)\n"
   ]
  },
  {
   "cell_type": "markdown",
   "metadata": {},
   "source": [
    " "
   ]
  },
  {
   "cell_type": "code",
   "execution_count": 1,
   "metadata": {},
   "outputs": [
    {
     "name": "stderr",
     "output_type": "stream",
     "text": [
      "C:\\Users\\Julene\\Anaconda3\\lib\\site-packages\\spacy\\util.py:275: UserWarning: [W031] Model 'en_core_web_sm' (2.2.0) requires spaCy v2.2 and is incompatible with the current spaCy version (2.3.2). This may lead to unexpected results or runtime errors. To resolve this, download a newer compatible model or retrain your custom model with the current spaCy version. For more details and available updates, run: python -m spacy validate\n",
      "  warnings.warn(warn_msg)\n"
     ]
    }
   ],
   "source": [
    "import pandas as pd\n",
    "import numpy as np\n",
    "from matplotlib import pyplot as plt\n",
    "import seaborn as sns\n",
    "\n",
    "import re\n",
    "import string\n",
    "import unidecode\n",
    "\n",
    "from collections import Counter\n",
    "\n",
    "import nltk\n",
    "from nltk.stem import WordNetLemmatizer\n",
    "from nltk.tokenize import TweetTokenizer, word_tokenize, sent_tokenize\n",
    "from nltk.corpus import stopwords\n",
    "from nltk.corpus import wordnet\n",
    "\n",
    "from sklearn import preprocessing\n",
    "from sklearn import metrics\n",
    "from sklearn.metrics import plot_confusion_matrix\n",
    "from sklearn.pipeline import Pipeline\n",
    "from sklearn.feature_extraction.text import CountVectorizer\n",
    "from sklearn.feature_extraction.text import TfidfVectorizer\n",
    "from sklearn.feature_extraction.text import TfidfTransformer\n",
    "\n",
    "from sklearn.model_selection import train_test_split\n",
    "from sklearn.model_selection import GridSearchCV\n",
    "from sklearn.naive_bayes import MultinomialNB\n",
    "from sklearn.linear_model import LogisticRegression\n",
    "\n",
    "import en_core_web_sm\n",
    "import spacy\n",
    "from spacy.lang.en.stop_words import STOP_WORDS"
   ]
  },
  {
   "cell_type": "code",
   "execution_count": 2,
   "metadata": {},
   "outputs": [
    {
     "name": "stderr",
     "output_type": "stream",
     "text": [
      "C:\\Users\\Julene\\Anaconda3\\lib\\site-packages\\ipykernel_launcher.py:1: FutureWarning: Passing a negative integer is deprecated in version 1.0 and will not be supported in future version. Instead, use None to not limit the column width.\n",
      "  \"\"\"Entry point for launching an IPython kernel.\n"
     ]
    },
    {
     "data": {
      "text/html": [
       "<style>\n",
       ".output {\n",
       "    flex-direction: row;\n",
       "}\n",
       "</style>"
      ],
      "text/plain": [
       "<IPython.core.display.HTML object>"
      ]
     },
     "execution_count": 2,
     "metadata": {},
     "output_type": "execute_result"
    }
   ],
   "source": [
    "pd.set_option('display.max_colwidth', -1)\n",
    "\n",
    "from IPython.display import display, HTML, display_html\n",
    "\n",
    "CSS = \"\"\"\n",
    ".output {\n",
    "    flex-direction: row;\n",
    "}\n",
    "\"\"\"\n",
    "\n",
    "HTML('<style>{}</style>'.format(CSS))"
   ]
  },
  {
   "cell_type": "markdown",
   "metadata": {},
   "source": [
    "### Load dataset"
   ]
  },
  {
   "cell_type": "code",
   "execution_count": 3,
   "metadata": {
    "scrolled": false
   },
   "outputs": [
    {
     "data": {
      "text/html": [
       "<div>\n",
       "<style scoped>\n",
       "    .dataframe tbody tr th:only-of-type {\n",
       "        vertical-align: middle;\n",
       "    }\n",
       "\n",
       "    .dataframe tbody tr th {\n",
       "        vertical-align: top;\n",
       "    }\n",
       "\n",
       "    .dataframe thead th {\n",
       "        text-align: right;\n",
       "    }\n",
       "</style>\n",
       "<table border=\"1\" class=\"dataframe\">\n",
       "  <thead>\n",
       "    <tr style=\"text-align: right;\">\n",
       "      <th></th>\n",
       "      <th>id</th>\n",
       "      <th>Tweets</th>\n",
       "      <th>Label</th>\n",
       "    </tr>\n",
       "  </thead>\n",
       "  <tbody>\n",
       "    <tr>\n",
       "      <th>0</th>\n",
       "      <td>7281</td>\n",
       "      <td>The jokes and puns are flying free in this camping episode.\\n#mkr #mkr2015</td>\n",
       "      <td>none</td>\n",
       "    </tr>\n",
       "    <tr>\n",
       "      <th>1</th>\n",
       "      <td>7282</td>\n",
       "      <td>#MKR Lets see who the producers think are going to be better TV - Kat or Nikki and Katie??</td>\n",
       "      <td>none</td>\n",
       "    </tr>\n",
       "    <tr>\n",
       "      <th>2</th>\n",
       "      <td>7283</td>\n",
       "      <td>Praying Jac and Shaz do well! They're my faves. #MKR</td>\n",
       "      <td>none</td>\n",
       "    </tr>\n",
       "    <tr>\n",
       "      <th>3</th>\n",
       "      <td>7284</td>\n",
       "      <td>RT @realityraver: Pete Evans the Paleo Capitalist has had his cookbook pulled http://t.co/VubeLWZ9l9 #mkr</td>\n",
       "      <td>none</td>\n",
       "    </tr>\n",
       "    <tr>\n",
       "      <th>4</th>\n",
       "      <td>7285</td>\n",
       "      <td>If Kat and Andre stay tonight I will stop watching My Kitchen Rules. #mkr</td>\n",
       "      <td>none</td>\n",
       "    </tr>\n",
       "    <tr>\n",
       "      <th>5</th>\n",
       "      <td>7286</td>\n",
       "      <td>#mkr Kat is defining fair..... #hypocrite</td>\n",
       "      <td>none</td>\n",
       "    </tr>\n",
       "    <tr>\n",
       "      <th>6</th>\n",
       "      <td>7287</td>\n",
       "      <td>Twist in the plot.. The bottom 2 teams leave!! I think everyone would be happy!! #MKR</td>\n",
       "      <td>none</td>\n",
       "    </tr>\n",
       "    <tr>\n",
       "      <th>7</th>\n",
       "      <td>7288</td>\n",
       "      <td>Doesn't anyone have a gif of Manu saying \"no you get out\" cos that would be awesome\\n#mkr</td>\n",
       "      <td>none</td>\n",
       "    </tr>\n",
       "    <tr>\n",
       "      <th>8</th>\n",
       "      <td>7289</td>\n",
       "      <td>How Bianca puts up with Drasko is beyond me. #MKR</td>\n",
       "      <td>none</td>\n",
       "    </tr>\n",
       "    <tr>\n",
       "      <th>9</th>\n",
       "      <td>7290</td>\n",
       "      <td>What's Irene doing on #mkr?</td>\n",
       "      <td>none</td>\n",
       "    </tr>\n",
       "  </tbody>\n",
       "</table>\n",
       "</div>"
      ],
      "text/plain": [
       "     id  \\\n",
       "0  7281   \n",
       "1  7282   \n",
       "2  7283   \n",
       "3  7284   \n",
       "4  7285   \n",
       "5  7286   \n",
       "6  7287   \n",
       "7  7288   \n",
       "8  7289   \n",
       "9  7290   \n",
       "\n",
       "                                                                                                      Tweets  \\\n",
       "0  The jokes and puns are flying free in this camping episode.\\n#mkr #mkr2015                                  \n",
       "1  #MKR Lets see who the producers think are going to be better TV - Kat or Nikki and Katie??                  \n",
       "2  Praying Jac and Shaz do well! They're my faves. #MKR                                                        \n",
       "3  RT @realityraver: Pete Evans the Paleo Capitalist has had his cookbook pulled http://t.co/VubeLWZ9l9 #mkr   \n",
       "4  If Kat and Andre stay tonight I will stop watching My Kitchen Rules. #mkr                                   \n",
       "5  #mkr Kat is defining fair..... #hypocrite                                                                   \n",
       "6  Twist in the plot.. The bottom 2 teams leave!! I think everyone would be happy!! #MKR                       \n",
       "7  Doesn't anyone have a gif of Manu saying \"no you get out\" cos that would be awesome\\n#mkr                   \n",
       "8  How Bianca puts up with Drasko is beyond me. #MKR                                                           \n",
       "9  What's Irene doing on #mkr?                                                                                 \n",
       "\n",
       "  Label  \n",
       "0  none  \n",
       "1  none  \n",
       "2  none  \n",
       "3  none  \n",
       "4  none  \n",
       "5  none  \n",
       "6  none  \n",
       "7  none  \n",
       "8  none  \n",
       "9  none  "
      ]
     },
     "execution_count": 3,
     "metadata": {},
     "output_type": "execute_result"
    }
   ],
   "source": [
    "train = pd.read_csv(\"dataset_train.csv\", engine='python')\n",
    "train.head(10)"
   ]
  },
  {
   "cell_type": "markdown",
   "metadata": {},
   "source": [
    "### Dataset full count, Distribution of classes"
   ]
  },
  {
   "cell_type": "code",
   "execution_count": 4,
   "metadata": {},
   "outputs": [
    {
     "data": {
      "text/plain": [
       "(12829, 3)"
      ]
     },
     "execution_count": 4,
     "metadata": {},
     "output_type": "execute_result"
    }
   ],
   "source": [
    "train.shape"
   ]
  },
  {
   "cell_type": "code",
   "execution_count": 5,
   "metadata": {},
   "outputs": [
    {
     "data": {
      "text/plain": [
       "none      8747\n",
       "sexism    2534\n",
       "racism    1548\n",
       "Name: Label, dtype: int64"
      ]
     },
     "execution_count": 5,
     "metadata": {},
     "output_type": "execute_result"
    }
   ],
   "source": [
    "train.Label.value_counts()"
   ]
  },
  {
   "cell_type": "code",
   "execution_count": 6,
   "metadata": {},
   "outputs": [
    {
     "data": {
      "text/plain": [
       "none      0.681815\n",
       "sexism    0.197521\n",
       "racism    0.120664\n",
       "Name: Label, dtype: float64"
      ]
     },
     "execution_count": 6,
     "metadata": {},
     "output_type": "execute_result"
    }
   ],
   "source": [
    "train.Label.value_counts(normalize = True)"
   ]
  },
  {
   "cell_type": "markdown",
   "metadata": {},
   "source": [
    " "
   ]
  },
  {
   "cell_type": "markdown",
   "metadata": {},
   "source": [
    "### Explore hashtags for each class\n",
    "Should the '#' be kept?"
   ]
  },
  {
   "cell_type": "code",
   "execution_count": 7,
   "metadata": {},
   "outputs": [],
   "source": [
    "hashtags = []\n",
    "for i in train['Tweets']:\n",
    "    tags = re.findall(r'(#\\w+)', i.lower())\n",
    "    hashtags.append(\" \".join(tags))"
   ]
  },
  {
   "cell_type": "code",
   "execution_count": 8,
   "metadata": {},
   "outputs": [],
   "source": [
    "train['hashtags'] = hashtags"
   ]
  },
  {
   "cell_type": "code",
   "execution_count": 9,
   "metadata": {},
   "outputs": [
    {
     "data": {
      "text/plain": [
       "#mkr                   1003\n",
       "#stopwadhwa2015        46  \n",
       "#mkr #mkr2015          43  \n",
       "#yesallwomen           25  \n",
       "#islam                 22  \n",
       "#mkr #hungrycampers    22  \n",
       "#gamergate             19  \n",
       "#mkr2015 #mkr          18  \n",
       "#isis                  13  \n",
       "#ggautoblocker         11  \n",
       "Name: hashtags, dtype: int64"
      ]
     },
     "execution_count": 9,
     "metadata": {},
     "output_type": "execute_result"
    }
   ],
   "source": [
    "train[(train['Label'] == 'none') & (train['hashtags'] != '') ]['hashtags'].value_counts()[:10]"
   ]
  },
  {
   "cell_type": "code",
   "execution_count": 10,
   "metadata": {
    "scrolled": true
   },
   "outputs": [
    {
     "data": {
      "text/html": [
       "<div>\n",
       "<style scoped>\n",
       "    .dataframe tbody tr th:only-of-type {\n",
       "        vertical-align: middle;\n",
       "    }\n",
       "\n",
       "    .dataframe tbody tr th {\n",
       "        vertical-align: top;\n",
       "    }\n",
       "\n",
       "    .dataframe thead th {\n",
       "        text-align: right;\n",
       "    }\n",
       "</style>\n",
       "<table border=\"1\" class=\"dataframe\">\n",
       "  <thead>\n",
       "    <tr style=\"text-align: right;\">\n",
       "      <th></th>\n",
       "      <th>id</th>\n",
       "      <th>Tweets</th>\n",
       "      <th>Label</th>\n",
       "      <th>hashtags</th>\n",
       "    </tr>\n",
       "  </thead>\n",
       "  <tbody>\n",
       "    <tr>\n",
       "      <th>4892</th>\n",
       "      <td>12173</td>\n",
       "      <td>@imkhan1104 Here is what #Islam thinks about Merkel's democracy. http://t.co/mwDPks3JP7</td>\n",
       "      <td>none</td>\n",
       "      <td>#islam</td>\n",
       "    </tr>\n",
       "    <tr>\n",
       "      <th>4902</th>\n",
       "      <td>12183</td>\n",
       "      <td>What is Sharia law.  Here are some of its rules. #Islam http://t.co/fI49gUT884</td>\n",
       "      <td>none</td>\n",
       "      <td>#islam</td>\n",
       "    </tr>\n",
       "    <tr>\n",
       "      <th>5060</th>\n",
       "      <td>12341</td>\n",
       "      <td>So, will the French terrorists be heading to Turkey where Erdogan can protect them and send them safely to ISIS? #Islam</td>\n",
       "      <td>none</td>\n",
       "      <td>#islam</td>\n",
       "    </tr>\n",
       "    <tr>\n",
       "      <th>5073</th>\n",
       "      <td>12354</td>\n",
       "      <td>@SafeensS And the dress is only symbolic of the broader sexism.  #Islam http://t.co/SdI0ERuYia</td>\n",
       "      <td>none</td>\n",
       "      <td>#islam</td>\n",
       "    </tr>\n",
       "    <tr>\n",
       "      <th>5075</th>\n",
       "      <td>12356</td>\n",
       "      <td>Here are some of the elements of Sharia law. #Islam http://t.co/L5K7ESAVCi</td>\n",
       "      <td>none</td>\n",
       "      <td>#islam</td>\n",
       "    </tr>\n",
       "    <tr>\n",
       "      <th>5126</th>\n",
       "      <td>12407</td>\n",
       "      <td>@NiyamaKandeGrif This is Islamophobia. #Islam http://t.co/wVzM9DtMcm</td>\n",
       "      <td>none</td>\n",
       "      <td>#islam</td>\n",
       "    </tr>\n",
       "    <tr>\n",
       "      <th>5228</th>\n",
       "      <td>12509</td>\n",
       "      <td>@1oNo1_Islam Chat now, they are waiting for you. http://t.co/ATdf0IiETD #Islam</td>\n",
       "      <td>none</td>\n",
       "      <td>#islam</td>\n",
       "    </tr>\n",
       "    <tr>\n",
       "      <th>5267</th>\n",
       "      <td>12548</td>\n",
       "      <td>@NNdabbour64 The punishment for apostacy in #Islam is death.  Here is the proof. http://t.co/dDajGBXvCZ</td>\n",
       "      <td>none</td>\n",
       "      <td>#islam</td>\n",
       "    </tr>\n",
       "    <tr>\n",
       "      <th>5287</th>\n",
       "      <td>12568</td>\n",
       "      <td>We may have to do business with the Saudis, but we don't have to pretend that they are anything but a backwards Islamic dictatorship. #Islam</td>\n",
       "      <td>none</td>\n",
       "      <td>#islam</td>\n",
       "    </tr>\n",
       "    <tr>\n",
       "      <th>5969</th>\n",
       "      <td>13250</td>\n",
       "      <td>Finally, an Egyptian broadcaster says what the Politically correct American and European left refuse to say. http://t.co/NzEVQaoAPv #Islam</td>\n",
       "      <td>none</td>\n",
       "      <td>#islam</td>\n",
       "    </tr>\n",
       "  </tbody>\n",
       "</table>\n",
       "</div>"
      ],
      "text/plain": [
       "         id  \\\n",
       "4892  12173   \n",
       "4902  12183   \n",
       "5060  12341   \n",
       "5073  12354   \n",
       "5075  12356   \n",
       "5126  12407   \n",
       "5228  12509   \n",
       "5267  12548   \n",
       "5287  12568   \n",
       "5969  13250   \n",
       "\n",
       "                                                                                                                                            Tweets  \\\n",
       "4892  @imkhan1104 Here is what #Islam thinks about Merkel's democracy. http://t.co/mwDPks3JP7                                                        \n",
       "4902  What is Sharia law.  Here are some of its rules. #Islam http://t.co/fI49gUT884                                                                 \n",
       "5060  So, will the French terrorists be heading to Turkey where Erdogan can protect them and send them safely to ISIS? #Islam                        \n",
       "5073  @SafeensS And the dress is only symbolic of the broader sexism.  #Islam http://t.co/SdI0ERuYia                                                 \n",
       "5075  Here are some of the elements of Sharia law. #Islam http://t.co/L5K7ESAVCi                                                                     \n",
       "5126  @NiyamaKandeGrif This is Islamophobia. #Islam http://t.co/wVzM9DtMcm                                                                           \n",
       "5228  @1oNo1_Islam Chat now, they are waiting for you. http://t.co/ATdf0IiETD #Islam                                                                 \n",
       "5267  @NNdabbour64 The punishment for apostacy in #Islam is death.  Here is the proof. http://t.co/dDajGBXvCZ                                        \n",
       "5287  We may have to do business with the Saudis, but we don't have to pretend that they are anything but a backwards Islamic dictatorship. #Islam   \n",
       "5969  Finally, an Egyptian broadcaster says what the Politically correct American and European left refuse to say. http://t.co/NzEVQaoAPv #Islam     \n",
       "\n",
       "     Label hashtags  \n",
       "4892  none  #islam   \n",
       "4902  none  #islam   \n",
       "5060  none  #islam   \n",
       "5073  none  #islam   \n",
       "5075  none  #islam   \n",
       "5126  none  #islam   \n",
       "5228  none  #islam   \n",
       "5267  none  #islam   \n",
       "5287  none  #islam   \n",
       "5969  none  #islam   "
      ]
     },
     "execution_count": 10,
     "metadata": {},
     "output_type": "execute_result"
    }
   ],
   "source": [
    "train[(train['Label'] == 'none') & (train['hashtags'] == '#islam')].head(10)"
   ]
  },
  {
   "cell_type": "code",
   "execution_count": 11,
   "metadata": {},
   "outputs": [
    {
     "data": {
      "text/plain": [
       "#mkr                        139\n",
       "#notsexist                  90 \n",
       "#questionsformen            23 \n",
       "#gamergate                  14 \n",
       "#womenagainstfeminism       14 \n",
       "#adviceforyoungfeminists    9  \n",
       "#mkr #mkr2015               9  \n",
       "#sorrynotsorry              5  \n",
       "#mkr2015 #mkr               5  \n",
       "#twitterfeminism            5  \n",
       "Name: hashtags, dtype: int64"
      ]
     },
     "execution_count": 11,
     "metadata": {},
     "output_type": "execute_result"
    }
   ],
   "source": [
    "train[(train['Label'] == 'sexism') & (train['hashtags'] != '') ]['hashtags'].value_counts()[:10]"
   ]
  },
  {
   "cell_type": "code",
   "execution_count": 12,
   "metadata": {
    "scrolled": true
   },
   "outputs": [
    {
     "data": {
      "text/html": [
       "<div>\n",
       "<style scoped>\n",
       "    .dataframe tbody tr th:only-of-type {\n",
       "        vertical-align: middle;\n",
       "    }\n",
       "\n",
       "    .dataframe tbody tr th {\n",
       "        vertical-align: top;\n",
       "    }\n",
       "\n",
       "    .dataframe thead th {\n",
       "        text-align: right;\n",
       "    }\n",
       "</style>\n",
       "<table border=\"1\" class=\"dataframe\">\n",
       "  <thead>\n",
       "    <tr style=\"text-align: right;\">\n",
       "      <th></th>\n",
       "      <th>id</th>\n",
       "      <th>Tweets</th>\n",
       "      <th>Label</th>\n",
       "      <th>hashtags</th>\n",
       "    </tr>\n",
       "  </thead>\n",
       "  <tbody>\n",
       "    <tr>\n",
       "      <th>10394</th>\n",
       "      <td>2661</td>\n",
       "      <td>@aamattyhealy Bet I can prove that you, like most feminists, oppose equality quickly, A B or C? #WomenAgainstFeminism http://t.co/QFTAQLYtNd</td>\n",
       "      <td>sexism</td>\n",
       "      <td>#womenagainstfeminism</td>\n",
       "    </tr>\n",
       "    <tr>\n",
       "      <th>10457</th>\n",
       "      <td>2724</td>\n",
       "      <td>RT @asredasmyhair: My response 2 feminists' \"not all feminists are like that...feminism is about equality\" argmnt #WomenAgainstFeminism htt…</td>\n",
       "      <td>sexism</td>\n",
       "      <td>#womenagainstfeminism</td>\n",
       "    </tr>\n",
       "    <tr>\n",
       "      <th>10557</th>\n",
       "      <td>2824</td>\n",
       "      <td>.@TheGags29 If feminists knew how many women \"internalized\" my \"misogyny\" theyd need safe space #WomenAgainstFeminism http://t.co/qT4laFeK7u</td>\n",
       "      <td>sexism</td>\n",
       "      <td>#womenagainstfeminism</td>\n",
       "    </tr>\n",
       "    <tr>\n",
       "      <th>10570</th>\n",
       "      <td>2837</td>\n",
       "      <td>.@RealTrumpsFeels Evidently Twit'n'Run feminist coward @Auragasmic unblocks me long enough to reply &amp;amp; then reblocks me #WomenAgainstFeminism</td>\n",
       "      <td>sexism</td>\n",
       "      <td>#womenagainstfeminism</td>\n",
       "    </tr>\n",
       "    <tr>\n",
       "      <th>10752</th>\n",
       "      <td>3019</td>\n",
       "      <td>RT @asredasmyhair: Just going to keep this here so I can direct fems to it when they want to argue. My #WomenAgainstFeminism blog http://t.…</td>\n",
       "      <td>sexism</td>\n",
       "      <td>#womenagainstfeminism</td>\n",
       "    </tr>\n",
       "    <tr>\n",
       "      <th>10944</th>\n",
       "      <td>3211</td>\n",
       "      <td>RT @GreyUmopepisdn: When a radical feminist or SJW tries to argue with you, try these tips. #WomenAgainstFeminism http://t.co/UP62bkHAEL</td>\n",
       "      <td>sexism</td>\n",
       "      <td>#womenagainstfeminism</td>\n",
       "    </tr>\n",
       "    <tr>\n",
       "      <th>11078</th>\n",
       "      <td>3345</td>\n",
       "      <td>RT @victorymonk: If she is not one of #WomenAgainstFeminism I don't know who is: https://t.co/um5svJgazu</td>\n",
       "      <td>sexism</td>\n",
       "      <td>#womenagainstfeminism</td>\n",
       "    </tr>\n",
       "    <tr>\n",
       "      <th>11081</th>\n",
       "      <td>3348</td>\n",
       "      <td>Yeah, uh, @CharlTaylorPage #WomenAgainstFeminism aren't bigots who hate men and don't mind sharing equality w them like you hypocrites. FYI.</td>\n",
       "      <td>sexism</td>\n",
       "      <td>#womenagainstfeminism</td>\n",
       "    </tr>\n",
       "    <tr>\n",
       "      <th>11083</th>\n",
       "      <td>3350</td>\n",
       "      <td>RT @ChloeSeashell: Not a fan of this comic (too SJW-ish for me) but this is spot-on. http://t.co/fchqFYHkDB #WomenAgainstFeminism http://t.…</td>\n",
       "      <td>sexism</td>\n",
       "      <td>#womenagainstfeminism</td>\n",
       "    </tr>\n",
       "    <tr>\n",
       "      <th>11122</th>\n",
       "      <td>3389</td>\n",
       "      <td>RT @victorymonk: That awkward moment when a comment is more informative than the article. http://t.co/mGSaftUnXs #WomenAgainstFeminism http…</td>\n",
       "      <td>sexism</td>\n",
       "      <td>#womenagainstfeminism</td>\n",
       "    </tr>\n",
       "  </tbody>\n",
       "</table>\n",
       "</div>"
      ],
      "text/plain": [
       "         id  \\\n",
       "10394  2661   \n",
       "10457  2724   \n",
       "10557  2824   \n",
       "10570  2837   \n",
       "10752  3019   \n",
       "10944  3211   \n",
       "11078  3345   \n",
       "11081  3348   \n",
       "11083  3350   \n",
       "11122  3389   \n",
       "\n",
       "                                                                                                                                                 Tweets  \\\n",
       "10394  @aamattyhealy Bet I can prove that you, like most feminists, oppose equality quickly, A B or C? #WomenAgainstFeminism http://t.co/QFTAQLYtNd       \n",
       "10457  RT @asredasmyhair: My response 2 feminists' \"not all feminists are like that...feminism is about equality\" argmnt #WomenAgainstFeminism htt…       \n",
       "10557  .@TheGags29 If feminists knew how many women \"internalized\" my \"misogyny\" theyd need safe space #WomenAgainstFeminism http://t.co/qT4laFeK7u       \n",
       "10570  .@RealTrumpsFeels Evidently Twit'n'Run feminist coward @Auragasmic unblocks me long enough to reply &amp; then reblocks me #WomenAgainstFeminism   \n",
       "10752  RT @asredasmyhair: Just going to keep this here so I can direct fems to it when they want to argue. My #WomenAgainstFeminism blog http://t.…       \n",
       "10944  RT @GreyUmopepisdn: When a radical feminist or SJW tries to argue with you, try these tips. #WomenAgainstFeminism http://t.co/UP62bkHAEL           \n",
       "11078  RT @victorymonk: If she is not one of #WomenAgainstFeminism I don't know who is: https://t.co/um5svJgazu                                           \n",
       "11081  Yeah, uh, @CharlTaylorPage #WomenAgainstFeminism aren't bigots who hate men and don't mind sharing equality w them like you hypocrites. FYI.       \n",
       "11083  RT @ChloeSeashell: Not a fan of this comic (too SJW-ish for me) but this is spot-on. http://t.co/fchqFYHkDB #WomenAgainstFeminism http://t.…       \n",
       "11122  RT @victorymonk: That awkward moment when a comment is more informative than the article. http://t.co/mGSaftUnXs #WomenAgainstFeminism http…       \n",
       "\n",
       "        Label               hashtags  \n",
       "10394  sexism  #womenagainstfeminism  \n",
       "10457  sexism  #womenagainstfeminism  \n",
       "10557  sexism  #womenagainstfeminism  \n",
       "10570  sexism  #womenagainstfeminism  \n",
       "10752  sexism  #womenagainstfeminism  \n",
       "10944  sexism  #womenagainstfeminism  \n",
       "11078  sexism  #womenagainstfeminism  \n",
       "11081  sexism  #womenagainstfeminism  \n",
       "11083  sexism  #womenagainstfeminism  \n",
       "11122  sexism  #womenagainstfeminism  "
      ]
     },
     "execution_count": 12,
     "metadata": {},
     "output_type": "execute_result"
    }
   ],
   "source": [
    "train[(train['Label'] == 'sexism') & (train['hashtags'] == '#womenagainstfeminism')].head(10)"
   ]
  },
  {
   "cell_type": "code",
   "execution_count": 13,
   "metadata": {},
   "outputs": [
    {
     "data": {
      "text/plain": [
       "#islam                       49\n",
       "#ferguson                    5 \n",
       "#mkr                         4 \n",
       "#tikrit                      2 \n",
       "#islam #daesh                2 \n",
       "#isis                        2 \n",
       "#islam #iraq                 2 \n",
       "#islamloveswomen #iwd2015    1 \n",
       "#pmlive                      1 \n",
       "#egyptian                    1 \n",
       "Name: hashtags, dtype: int64"
      ]
     },
     "execution_count": 13,
     "metadata": {},
     "output_type": "execute_result"
    }
   ],
   "source": [
    "train[(train['Label'] == 'racism') & (train['hashtags'] != '') ]['hashtags'].value_counts()[:10]"
   ]
  },
  {
   "cell_type": "markdown",
   "metadata": {},
   "source": [
    " "
   ]
  },
  {
   "cell_type": "markdown",
   "metadata": {},
   "source": [
    "### Explore Usernames"
   ]
  },
  {
   "cell_type": "code",
   "execution_count": 14,
   "metadata": {},
   "outputs": [],
   "source": [
    "usernames = [\" \".join(re.findall(r'@[\\w+]*', i.lower())) for i in train['Tweets']]"
   ]
  },
  {
   "cell_type": "code",
   "execution_count": 15,
   "metadata": {
    "scrolled": true
   },
   "outputs": [
    {
     "data": {
      "text/html": [
       "<div>\n",
       "<style scoped>\n",
       "    .dataframe tbody tr th:only-of-type {\n",
       "        vertical-align: middle;\n",
       "    }\n",
       "\n",
       "    .dataframe tbody tr th {\n",
       "        vertical-align: top;\n",
       "    }\n",
       "\n",
       "    .dataframe thead th {\n",
       "        text-align: right;\n",
       "    }\n",
       "</style>\n",
       "<table border=\"1\" class=\"dataframe\">\n",
       "  <thead>\n",
       "    <tr style=\"text-align: right;\">\n",
       "      <th></th>\n",
       "      <th>id</th>\n",
       "      <th>Tweets</th>\n",
       "      <th>Label</th>\n",
       "      <th>hashtags</th>\n",
       "      <th>usernames</th>\n",
       "    </tr>\n",
       "  </thead>\n",
       "  <tbody>\n",
       "    <tr>\n",
       "      <th>0</th>\n",
       "      <td>7281</td>\n",
       "      <td>The jokes and puns are flying free in this camping episode.\\n#mkr #mkr2015</td>\n",
       "      <td>none</td>\n",
       "      <td>#mkr #mkr2015</td>\n",
       "      <td></td>\n",
       "    </tr>\n",
       "    <tr>\n",
       "      <th>1</th>\n",
       "      <td>7282</td>\n",
       "      <td>#MKR Lets see who the producers think are going to be better TV - Kat or Nikki and Katie??</td>\n",
       "      <td>none</td>\n",
       "      <td>#mkr</td>\n",
       "      <td></td>\n",
       "    </tr>\n",
       "    <tr>\n",
       "      <th>2</th>\n",
       "      <td>7283</td>\n",
       "      <td>Praying Jac and Shaz do well! They're my faves. #MKR</td>\n",
       "      <td>none</td>\n",
       "      <td>#mkr</td>\n",
       "      <td></td>\n",
       "    </tr>\n",
       "    <tr>\n",
       "      <th>3</th>\n",
       "      <td>7284</td>\n",
       "      <td>RT @realityraver: Pete Evans the Paleo Capitalist has had his cookbook pulled http://t.co/VubeLWZ9l9 #mkr</td>\n",
       "      <td>none</td>\n",
       "      <td>#mkr</td>\n",
       "      <td>@realityraver</td>\n",
       "    </tr>\n",
       "    <tr>\n",
       "      <th>4</th>\n",
       "      <td>7285</td>\n",
       "      <td>If Kat and Andre stay tonight I will stop watching My Kitchen Rules. #mkr</td>\n",
       "      <td>none</td>\n",
       "      <td>#mkr</td>\n",
       "      <td></td>\n",
       "    </tr>\n",
       "    <tr>\n",
       "      <th>5</th>\n",
       "      <td>7286</td>\n",
       "      <td>#mkr Kat is defining fair..... #hypocrite</td>\n",
       "      <td>none</td>\n",
       "      <td>#mkr #hypocrite</td>\n",
       "      <td></td>\n",
       "    </tr>\n",
       "    <tr>\n",
       "      <th>6</th>\n",
       "      <td>7287</td>\n",
       "      <td>Twist in the plot.. The bottom 2 teams leave!! I think everyone would be happy!! #MKR</td>\n",
       "      <td>none</td>\n",
       "      <td>#mkr</td>\n",
       "      <td></td>\n",
       "    </tr>\n",
       "    <tr>\n",
       "      <th>7</th>\n",
       "      <td>7288</td>\n",
       "      <td>Doesn't anyone have a gif of Manu saying \"no you get out\" cos that would be awesome\\n#mkr</td>\n",
       "      <td>none</td>\n",
       "      <td>#mkr</td>\n",
       "      <td></td>\n",
       "    </tr>\n",
       "    <tr>\n",
       "      <th>8</th>\n",
       "      <td>7289</td>\n",
       "      <td>How Bianca puts up with Drasko is beyond me. #MKR</td>\n",
       "      <td>none</td>\n",
       "      <td>#mkr</td>\n",
       "      <td></td>\n",
       "    </tr>\n",
       "    <tr>\n",
       "      <th>9</th>\n",
       "      <td>7290</td>\n",
       "      <td>What's Irene doing on #mkr?</td>\n",
       "      <td>none</td>\n",
       "      <td>#mkr</td>\n",
       "      <td></td>\n",
       "    </tr>\n",
       "    <tr>\n",
       "      <th>10</th>\n",
       "      <td>7291</td>\n",
       "      <td>Last nights #mkr looked like a crossover with #TheWalkingDead. #Zombies heading towards the food.</td>\n",
       "      <td>none</td>\n",
       "      <td>#mkr #thewalkingdead #zombies</td>\n",
       "      <td></td>\n",
       "    </tr>\n",
       "    <tr>\n",
       "      <th>11</th>\n",
       "      <td>7292</td>\n",
       "      <td>High quality food &amp;amp; they have frozen beef cheeks?! #mkr</td>\n",
       "      <td>none</td>\n",
       "      <td>#mkr</td>\n",
       "      <td></td>\n",
       "    </tr>\n",
       "    <tr>\n",
       "      <th>12</th>\n",
       "      <td>7293</td>\n",
       "      <td>Someone today said that Pete Evans of #mkr has never been filmed putting food into his mouth. Is this true?</td>\n",
       "      <td>none</td>\n",
       "      <td>#mkr</td>\n",
       "      <td></td>\n",
       "    </tr>\n",
       "    <tr>\n",
       "      <th>13</th>\n",
       "      <td>7294</td>\n",
       "      <td>It was such a pleasure to catch up with my mentor and former boss Colin Fassnidge. #MKR #4InHand #Fourfourteen... http://t.co/ckSSefyifz</td>\n",
       "      <td>none</td>\n",
       "      <td>#mkr #4inhand #fourfourteen</td>\n",
       "      <td></td>\n",
       "    </tr>\n",
       "    <tr>\n",
       "      <th>14</th>\n",
       "      <td>7295</td>\n",
       "      <td>@IrinaLV143 I went with a different thought altogether but it didn't fit so I had to simplify. :) #MKR #MKR2015</td>\n",
       "      <td>none</td>\n",
       "      <td>#mkr #mkr2015</td>\n",
       "      <td>@irinalv143</td>\n",
       "    </tr>\n",
       "    <tr>\n",
       "      <th>15</th>\n",
       "      <td>7296</td>\n",
       "      <td>RT @lliam_BL2: #MKR and #GoggleboxAU Can both go FUCK them selves!!!</td>\n",
       "      <td>none</td>\n",
       "      <td>#mkr #goggleboxau</td>\n",
       "      <td>@lliam_bl2</td>\n",
       "    </tr>\n",
       "    <tr>\n",
       "      <th>16</th>\n",
       "      <td>7297</td>\n",
       "      <td>By 'fought hard' Kat means 'voted strategically' #mkr</td>\n",
       "      <td>none</td>\n",
       "      <td>#mkr</td>\n",
       "      <td></td>\n",
       "    </tr>\n",
       "    <tr>\n",
       "      <th>17</th>\n",
       "      <td>7298</td>\n",
       "      <td>Teams deserve an Oscar for their performance tonight in \"Holy Shit this is a terrible meal but I'll pretend to love it. #MKR #killerblondes</td>\n",
       "      <td>none</td>\n",
       "      <td>#mkr #killerblondes</td>\n",
       "      <td></td>\n",
       "    </tr>\n",
       "    <tr>\n",
       "      <th>18</th>\n",
       "      <td>7299</td>\n",
       "      <td>Rose and Josh are great haha. #MKR</td>\n",
       "      <td>none</td>\n",
       "      <td>#mkr</td>\n",
       "      <td></td>\n",
       "    </tr>\n",
       "    <tr>\n",
       "      <th>19</th>\n",
       "      <td>7300</td>\n",
       "      <td>#mkr View here http://t.co/etRq4qxjIH</td>\n",
       "      <td>none</td>\n",
       "      <td>#mkr</td>\n",
       "      <td></td>\n",
       "    </tr>\n",
       "  </tbody>\n",
       "</table>\n",
       "</div>"
      ],
      "text/plain": [
       "      id  \\\n",
       "0   7281   \n",
       "1   7282   \n",
       "2   7283   \n",
       "3   7284   \n",
       "4   7285   \n",
       "5   7286   \n",
       "6   7287   \n",
       "7   7288   \n",
       "8   7289   \n",
       "9   7290   \n",
       "10  7291   \n",
       "11  7292   \n",
       "12  7293   \n",
       "13  7294   \n",
       "14  7295   \n",
       "15  7296   \n",
       "16  7297   \n",
       "17  7298   \n",
       "18  7299   \n",
       "19  7300   \n",
       "\n",
       "                                                                                                                                         Tweets  \\\n",
       "0   The jokes and puns are flying free in this camping episode.\\n#mkr #mkr2015                                                                    \n",
       "1   #MKR Lets see who the producers think are going to be better TV - Kat or Nikki and Katie??                                                    \n",
       "2   Praying Jac and Shaz do well! They're my faves. #MKR                                                                                          \n",
       "3   RT @realityraver: Pete Evans the Paleo Capitalist has had his cookbook pulled http://t.co/VubeLWZ9l9 #mkr                                     \n",
       "4   If Kat and Andre stay tonight I will stop watching My Kitchen Rules. #mkr                                                                     \n",
       "5   #mkr Kat is defining fair..... #hypocrite                                                                                                     \n",
       "6   Twist in the plot.. The bottom 2 teams leave!! I think everyone would be happy!! #MKR                                                         \n",
       "7   Doesn't anyone have a gif of Manu saying \"no you get out\" cos that would be awesome\\n#mkr                                                     \n",
       "8   How Bianca puts up with Drasko is beyond me. #MKR                                                                                             \n",
       "9   What's Irene doing on #mkr?                                                                                                                   \n",
       "10  Last nights #mkr looked like a crossover with #TheWalkingDead. #Zombies heading towards the food.                                             \n",
       "11  High quality food &amp; they have frozen beef cheeks?! #mkr                                                                                   \n",
       "12  Someone today said that Pete Evans of #mkr has never been filmed putting food into his mouth. Is this true?                                   \n",
       "13  It was such a pleasure to catch up with my mentor and former boss Colin Fassnidge. #MKR #4InHand #Fourfourteen... http://t.co/ckSSefyifz      \n",
       "14  @IrinaLV143 I went with a different thought altogether but it didn't fit so I had to simplify. :) #MKR #MKR2015                               \n",
       "15  RT @lliam_BL2: #MKR and #GoggleboxAU Can both go FUCK them selves!!!                                                                          \n",
       "16  By 'fought hard' Kat means 'voted strategically' #mkr                                                                                         \n",
       "17  Teams deserve an Oscar for their performance tonight in \"Holy Shit this is a terrible meal but I'll pretend to love it. #MKR #killerblondes   \n",
       "18  Rose and Josh are great haha. #MKR                                                                                                            \n",
       "19  #mkr View here http://t.co/etRq4qxjIH                                                                                                         \n",
       "\n",
       "   Label                       hashtags      usernames  \n",
       "0   none  #mkr #mkr2015                                 \n",
       "1   none  #mkr                                          \n",
       "2   none  #mkr                                          \n",
       "3   none  #mkr                           @realityraver  \n",
       "4   none  #mkr                                          \n",
       "5   none  #mkr #hypocrite                               \n",
       "6   none  #mkr                                          \n",
       "7   none  #mkr                                          \n",
       "8   none  #mkr                                          \n",
       "9   none  #mkr                                          \n",
       "10  none  #mkr #thewalkingdead #zombies                 \n",
       "11  none  #mkr                                          \n",
       "12  none  #mkr                                          \n",
       "13  none  #mkr #4inhand #fourfourteen                   \n",
       "14  none  #mkr #mkr2015                  @irinalv143    \n",
       "15  none  #mkr #goggleboxau              @lliam_bl2     \n",
       "16  none  #mkr                                          \n",
       "17  none  #mkr #killerblondes                           \n",
       "18  none  #mkr                                          \n",
       "19  none  #mkr                                          "
      ]
     },
     "execution_count": 15,
     "metadata": {},
     "output_type": "execute_result"
    }
   ],
   "source": [
    "train['usernames'] = usernames\n",
    "train.head(20)"
   ]
  },
  {
   "cell_type": "code",
   "execution_count": 16,
   "metadata": {
    "scrolled": true
   },
   "outputs": [
    {
     "data": {
      "text/plain": [
       "                                                      48\n",
       "@discerningmumin                                      40\n",
       "@vandaliser @sajid_fairooz @israeliregime             36\n",
       "@qoloob4 @vandaliser @sajid_fairooz @israeliregime    32\n",
       "@dankmtl                                              27\n",
       "@maxblumenthal                                        23\n",
       "@harmlesstree2                                        22\n",
       "@lifeinkhilafah                                       22\n",
       "@truaemusic                                           20\n",
       "@obsurfer84                                           18\n",
       "Name: usernames, dtype: int64"
      ]
     },
     "execution_count": 16,
     "metadata": {},
     "output_type": "execute_result"
    }
   ],
   "source": [
    "train[train['Label'] == 'racism'].usernames.value_counts()[:10]"
   ]
  },
  {
   "cell_type": "code",
   "execution_count": 17,
   "metadata": {},
   "outputs": [
    {
     "data": {
      "text/plain": [
       "                             180\n",
       "@blackopal80                 13 \n",
       "@uberfeminist                10 \n",
       "@asredasmyhair               10 \n",
       "@shaner38                    10 \n",
       "@mykitchenrules              8  \n",
       "@comattwow @chubssays        8  \n",
       "@dreysander1                 8  \n",
       "@anniekfox                   8  \n",
       "@feministlah @greenweiner    8  \n",
       "Name: usernames, dtype: int64"
      ]
     },
     "execution_count": 17,
     "metadata": {},
     "output_type": "execute_result"
    }
   ],
   "source": [
    "train[train['Label'] == 'sexism'].usernames.value_counts()[:10]"
   ]
  },
  {
   "cell_type": "markdown",
   "metadata": {},
   "source": [
    "#### Thoughts on usernames:\n",
    "- Usernames might be an indicator (and the only indicator of the document) for the label \n",
    "- e.g. '@israeliregime' for racism, '@uberfeminist' for sexism\n",
    "- They will still be taken out during cleaning to reduce noise in vocab"
   ]
  },
  {
   "cell_type": "markdown",
   "metadata": {},
   "source": [
    " "
   ]
  },
  {
   "cell_type": "markdown",
   "metadata": {},
   "source": [
    "# Data Preprocessing"
   ]
  },
  {
   "cell_type": "markdown",
   "metadata": {},
   "source": [
    "### Clean data and tokenize\n",
    "- Cleaning: Remove punctuation (incl. #), hyperlinks, usernames (word after @), word accents. Lowercase tweets \n",
    "- Tokenize: Using TweetTokenizer"
   ]
  },
  {
   "cell_type": "code",
   "execution_count": 18,
   "metadata": {},
   "outputs": [],
   "source": [
    "tknzr = TweetTokenizer()\n",
    "\n",
    "def clean_tokenizer(column):\n",
    "    \n",
    "    # Clean tweets\n",
    "    clean = [i.lower() for i in column] ## lowercase tweets\n",
    "    clean = [re.sub(r'@[\\w+]*', '', i) for i in clean] ## remove usernames\n",
    "    clean = [unidecode.unidecode(i) for i in clean] ## remove accent characters\n",
    "    clean = [i.translate(str.maketrans('', '', string.punctuation)) for i in clean] ## remove punctuation\n",
    "    clean = [re.sub(r'(http\\w+)', '', i) for i in clean] ## remove hyperlinks\n",
    "    clean = [re.sub(r'\\d+', '', i ) for i in clean] ## remove numbers\n",
    "    \n",
    "    # Tokenize tweets\n",
    "    all_tokens = [tknzr.tokenize(t) for t in clean]\n",
    "    \n",
    "    return all_tokens"
   ]
  },
  {
   "cell_type": "code",
   "execution_count": 19,
   "metadata": {},
   "outputs": [],
   "source": [
    "clean_tokens = clean_tokenizer(train['Tweets'])"
   ]
  },
  {
   "cell_type": "markdown",
   "metadata": {},
   "source": [
    "### Lemmatize tokens \n",
    "#### By mapping tokens to their POS tag, and getting the base POS (using first alphabet)"
   ]
  },
  {
   "cell_type": "code",
   "execution_count": 20,
   "metadata": {
    "scrolled": true
   },
   "outputs": [],
   "source": [
    "def get_wordnet_pos(word):\n",
    "    \"\"\"Map POS tag to first character lemmatize() accepts\"\"\"\n",
    "    tag = nltk.pos_tag([word])[0][1][0].upper()\n",
    "    tag_dict = {\"J\": wordnet.ADJ,\n",
    "                \"N\": wordnet.NOUN,\n",
    "                \"V\": wordnet.VERB,\n",
    "                \"R\": wordnet.ADV}\n",
    "\n",
    "    return tag_dict.get(tag, wordnet.NOUN)\n",
    "\n",
    "lemmatizer = WordNetLemmatizer()"
   ]
  },
  {
   "cell_type": "code",
   "execution_count": 21,
   "metadata": {},
   "outputs": [],
   "source": [
    "tweets_lemmatized = [[lemmatizer.lemmatize(token, get_wordnet_pos(token)) for token in tweet] for tweet in clean_tokens]"
   ]
  },
  {
   "cell_type": "markdown",
   "metadata": {},
   "source": [
    "### Remove stop words from tokens\n",
    "#### Includes word 'not' based on Research Paper"
   ]
  },
  {
   "cell_type": "code",
   "execution_count": 22,
   "metadata": {},
   "outputs": [],
   "source": [
    "stopword_list = stopwords.words('english')\n",
    "stopword_list.remove('not')"
   ]
  },
  {
   "cell_type": "code",
   "execution_count": 23,
   "metadata": {
    "scrolled": true
   },
   "outputs": [
    {
     "data": {
      "text/plain": [
       "['i',\n",
       " 'me',\n",
       " 'my',\n",
       " 'myself',\n",
       " 'we',\n",
       " 'our',\n",
       " 'ours',\n",
       " 'ourselves',\n",
       " 'you',\n",
       " \"you're\",\n",
       " \"you've\",\n",
       " \"you'll\",\n",
       " \"you'd\",\n",
       " 'your',\n",
       " 'yours',\n",
       " 'yourself',\n",
       " 'yourselves',\n",
       " 'he',\n",
       " 'him',\n",
       " 'his']"
      ]
     },
     "execution_count": 23,
     "metadata": {},
     "output_type": "execute_result"
    }
   ],
   "source": [
    "stopword_list[:20]"
   ]
  },
  {
   "cell_type": "code",
   "execution_count": 24,
   "metadata": {},
   "outputs": [],
   "source": [
    "# remove stopwords (excl. \"not\") and remove 'rt'\n",
    "tweets_train = [[w for w in t if w not in stopword_list and w != ('rt')] for t in tweets_lemmatized]"
   ]
  },
  {
   "cell_type": "code",
   "execution_count": 25,
   "metadata": {},
   "outputs": [
    {
     "data": {
      "text/html": [
       "<div>\n",
       "<style scoped>\n",
       "    .dataframe tbody tr th:only-of-type {\n",
       "        vertical-align: middle;\n",
       "    }\n",
       "\n",
       "    .dataframe tbody tr th {\n",
       "        vertical-align: top;\n",
       "    }\n",
       "\n",
       "    .dataframe thead th {\n",
       "        text-align: right;\n",
       "    }\n",
       "</style>\n",
       "<table border=\"1\" class=\"dataframe\">\n",
       "  <thead>\n",
       "    <tr style=\"text-align: right;\">\n",
       "      <th></th>\n",
       "      <th>id</th>\n",
       "      <th>Tweets</th>\n",
       "      <th>Label</th>\n",
       "      <th>hashtags</th>\n",
       "      <th>usernames</th>\n",
       "      <th>tweets_train</th>\n",
       "    </tr>\n",
       "  </thead>\n",
       "  <tbody>\n",
       "    <tr>\n",
       "      <th>0</th>\n",
       "      <td>7281</td>\n",
       "      <td>The jokes and puns are flying free in this camping episode.\\n#mkr #mkr2015</td>\n",
       "      <td>none</td>\n",
       "      <td>#mkr #mkr2015</td>\n",
       "      <td></td>\n",
       "      <td>joke pun fly free camp episode mkr mkr</td>\n",
       "    </tr>\n",
       "    <tr>\n",
       "      <th>1</th>\n",
       "      <td>7282</td>\n",
       "      <td>#MKR Lets see who the producers think are going to be better TV - Kat or Nikki and Katie??</td>\n",
       "      <td>none</td>\n",
       "      <td>#mkr</td>\n",
       "      <td></td>\n",
       "      <td>mkr let see producer think go well tv kat nikki katie</td>\n",
       "    </tr>\n",
       "    <tr>\n",
       "      <th>2</th>\n",
       "      <td>7283</td>\n",
       "      <td>Praying Jac and Shaz do well! They're my faves. #MKR</td>\n",
       "      <td>none</td>\n",
       "      <td>#mkr</td>\n",
       "      <td></td>\n",
       "      <td>pray jac shaz well theyre faves mkr</td>\n",
       "    </tr>\n",
       "    <tr>\n",
       "      <th>3</th>\n",
       "      <td>7284</td>\n",
       "      <td>RT @realityraver: Pete Evans the Paleo Capitalist has had his cookbook pulled http://t.co/VubeLWZ9l9 #mkr</td>\n",
       "      <td>none</td>\n",
       "      <td>#mkr</td>\n",
       "      <td>@realityraver</td>\n",
       "      <td>pete evans paleo capitalist cookbook pull mkr</td>\n",
       "    </tr>\n",
       "    <tr>\n",
       "      <th>4</th>\n",
       "      <td>7285</td>\n",
       "      <td>If Kat and Andre stay tonight I will stop watching My Kitchen Rules. #mkr</td>\n",
       "      <td>none</td>\n",
       "      <td>#mkr</td>\n",
       "      <td></td>\n",
       "      <td>kat andre stay tonight stop watch kitchen rule mkr</td>\n",
       "    </tr>\n",
       "    <tr>\n",
       "      <th>5</th>\n",
       "      <td>7286</td>\n",
       "      <td>#mkr Kat is defining fair..... #hypocrite</td>\n",
       "      <td>none</td>\n",
       "      <td>#mkr #hypocrite</td>\n",
       "      <td></td>\n",
       "      <td>mkr kat define fair hypocrite</td>\n",
       "    </tr>\n",
       "    <tr>\n",
       "      <th>6</th>\n",
       "      <td>7287</td>\n",
       "      <td>Twist in the plot.. The bottom 2 teams leave!! I think everyone would be happy!! #MKR</td>\n",
       "      <td>none</td>\n",
       "      <td>#mkr</td>\n",
       "      <td></td>\n",
       "      <td>twist plot bottom team leave think everyone would happy mkr</td>\n",
       "    </tr>\n",
       "    <tr>\n",
       "      <th>7</th>\n",
       "      <td>7288</td>\n",
       "      <td>Doesn't anyone have a gif of Manu saying \"no you get out\" cos that would be awesome\\n#mkr</td>\n",
       "      <td>none</td>\n",
       "      <td>#mkr</td>\n",
       "      <td></td>\n",
       "      <td>doesnt anyone gif manu say get co would awesome mkr</td>\n",
       "    </tr>\n",
       "    <tr>\n",
       "      <th>8</th>\n",
       "      <td>7289</td>\n",
       "      <td>How Bianca puts up with Drasko is beyond me. #MKR</td>\n",
       "      <td>none</td>\n",
       "      <td>#mkr</td>\n",
       "      <td></td>\n",
       "      <td>bianca put drasko beyond mkr</td>\n",
       "    </tr>\n",
       "    <tr>\n",
       "      <th>9</th>\n",
       "      <td>7290</td>\n",
       "      <td>What's Irene doing on #mkr?</td>\n",
       "      <td>none</td>\n",
       "      <td>#mkr</td>\n",
       "      <td></td>\n",
       "      <td>whats irene mkr</td>\n",
       "    </tr>\n",
       "  </tbody>\n",
       "</table>\n",
       "</div>"
      ],
      "text/plain": [
       "     id  \\\n",
       "0  7281   \n",
       "1  7282   \n",
       "2  7283   \n",
       "3  7284   \n",
       "4  7285   \n",
       "5  7286   \n",
       "6  7287   \n",
       "7  7288   \n",
       "8  7289   \n",
       "9  7290   \n",
       "\n",
       "                                                                                                      Tweets  \\\n",
       "0  The jokes and puns are flying free in this camping episode.\\n#mkr #mkr2015                                  \n",
       "1  #MKR Lets see who the producers think are going to be better TV - Kat or Nikki and Katie??                  \n",
       "2  Praying Jac and Shaz do well! They're my faves. #MKR                                                        \n",
       "3  RT @realityraver: Pete Evans the Paleo Capitalist has had his cookbook pulled http://t.co/VubeLWZ9l9 #mkr   \n",
       "4  If Kat and Andre stay tonight I will stop watching My Kitchen Rules. #mkr                                   \n",
       "5  #mkr Kat is defining fair..... #hypocrite                                                                   \n",
       "6  Twist in the plot.. The bottom 2 teams leave!! I think everyone would be happy!! #MKR                       \n",
       "7  Doesn't anyone have a gif of Manu saying \"no you get out\" cos that would be awesome\\n#mkr                   \n",
       "8  How Bianca puts up with Drasko is beyond me. #MKR                                                           \n",
       "9  What's Irene doing on #mkr?                                                                                 \n",
       "\n",
       "  Label         hashtags      usernames  \\\n",
       "0  none  #mkr #mkr2015                    \n",
       "1  none  #mkr                             \n",
       "2  none  #mkr                             \n",
       "3  none  #mkr             @realityraver   \n",
       "4  none  #mkr                             \n",
       "5  none  #mkr #hypocrite                  \n",
       "6  none  #mkr                             \n",
       "7  none  #mkr                             \n",
       "8  none  #mkr                             \n",
       "9  none  #mkr                             \n",
       "\n",
       "                                                  tweets_train  \n",
       "0  joke pun fly free camp episode mkr mkr                       \n",
       "1  mkr let see producer think go well tv kat nikki katie        \n",
       "2  pray jac shaz well theyre faves mkr                          \n",
       "3  pete evans paleo capitalist cookbook pull mkr                \n",
       "4  kat andre stay tonight stop watch kitchen rule mkr           \n",
       "5  mkr kat define fair hypocrite                                \n",
       "6  twist plot bottom team leave think everyone would happy mkr  \n",
       "7  doesnt anyone gif manu say get co would awesome mkr          \n",
       "8  bianca put drasko beyond mkr                                 \n",
       "9  whats irene mkr                                              "
      ]
     },
     "execution_count": 25,
     "metadata": {},
     "output_type": "execute_result"
    }
   ],
   "source": [
    "# joining it back to the df\n",
    "\n",
    "train['tweets_train'] = tweets_train\n",
    "train['tweets_train'] = train['tweets_train'].apply(lambda x: ' '.join([w for w in x]))\n",
    "train.head(10)"
   ]
  },
  {
   "cell_type": "markdown",
   "metadata": {},
   "source": [
    " "
   ]
  },
  {
   "cell_type": "markdown",
   "metadata": {},
   "source": [
    "### Check Clean Tweets"
   ]
  },
  {
   "cell_type": "code",
   "execution_count": 26,
   "metadata": {
    "scrolled": true
   },
   "outputs": [
    {
     "data": {
      "text/plain": [
       "                                                                     299\n",
       "yes                                                                  23 \n",
       "yup                                                                  17 \n",
       "say                                                                  8  \n",
       "lt                                                                   7  \n",
       "                                                                    ..  \n",
       "mosul christian pastor pauljacob sentence death behead isi iraq      1  \n",
       "dont see u tweet sanitary towel getmeafuckinbeer slag                1  \n",
       "im not sexist gd funny                                               1  \n",
       "oh gosh parody                                                       1  \n",
       "complaint abt dress code clearly base arousal not bodily autonomy    1  \n",
       "Name: tweets_train, Length: 12225, dtype: int64"
      ]
     },
     "execution_count": 26,
     "metadata": {},
     "output_type": "execute_result"
    }
   ],
   "source": [
    "train['tweets_train'].value_counts()"
   ]
  },
  {
   "cell_type": "markdown",
   "metadata": {},
   "source": [
    "#### Where are the blanks coming from? \n",
    "What is the original tweet and can/should I remove them?"
   ]
  },
  {
   "cell_type": "code",
   "execution_count": 27,
   "metadata": {},
   "outputs": [
    {
     "data": {
      "text/plain": [
       "none      288\n",
       "sexism    11 \n",
       "Name: Label, dtype: int64"
      ]
     },
     "execution_count": 27,
     "metadata": {},
     "output_type": "execute_result"
    }
   ],
   "source": [
    "train[train['tweets_train'] == ''].Label.value_counts()"
   ]
  },
  {
   "cell_type": "markdown",
   "metadata": {},
   "source": [
    "#### Thoughts on labels:\n",
    "- When labels were annotated, there could be some context provided for the labeling not seen in text in the Tweets\n",
    "- e.g. id 3534 is tweet with an attached picture about femenism (from the hyperlink)\n",
    "- Else, if the following tweets were looked at independently, many of them (e.g. id 2972) seems neutral\n",
    "\n",
    "- id 3504 might be categorized as such as annotation is also based on screen name (from research paper)"
   ]
  },
  {
   "cell_type": "code",
   "execution_count": 28,
   "metadata": {},
   "outputs": [
    {
     "data": {
      "text/html": [
       "<div>\n",
       "<style scoped>\n",
       "    .dataframe tbody tr th:only-of-type {\n",
       "        vertical-align: middle;\n",
       "    }\n",
       "\n",
       "    .dataframe tbody tr th {\n",
       "        vertical-align: top;\n",
       "    }\n",
       "\n",
       "    .dataframe thead th {\n",
       "        text-align: right;\n",
       "    }\n",
       "</style>\n",
       "<table border=\"1\" class=\"dataframe\">\n",
       "  <thead>\n",
       "    <tr style=\"text-align: right;\">\n",
       "      <th></th>\n",
       "      <th>id</th>\n",
       "      <th>Tweets</th>\n",
       "      <th>Label</th>\n",
       "      <th>hashtags</th>\n",
       "      <th>usernames</th>\n",
       "      <th>tweets_train</th>\n",
       "    </tr>\n",
       "  </thead>\n",
       "  <tbody>\n",
       "    <tr>\n",
       "      <th>10495</th>\n",
       "      <td>2762</td>\n",
       "      <td>@BLUNTmoms How?</td>\n",
       "      <td>sexism</td>\n",
       "      <td></td>\n",
       "      <td>@bluntmoms</td>\n",
       "      <td></td>\n",
       "    </tr>\n",
       "    <tr>\n",
       "      <th>10705</th>\n",
       "      <td>2972</td>\n",
       "      <td>@ILivUndrUrBed @CarolynnEva No.</td>\n",
       "      <td>sexism</td>\n",
       "      <td></td>\n",
       "      <td>@ilivundrurbed @carolynneva</td>\n",
       "      <td></td>\n",
       "    </tr>\n",
       "    <tr>\n",
       "      <th>10765</th>\n",
       "      <td>3032</td>\n",
       "      <td>@thesledgetobias ?</td>\n",
       "      <td>sexism</td>\n",
       "      <td></td>\n",
       "      <td>@thesledgetobias</td>\n",
       "      <td></td>\n",
       "    </tr>\n",
       "    <tr>\n",
       "      <th>10856</th>\n",
       "      <td>3123</td>\n",
       "      <td>@purposelyflawed http://t.co/P6KTLT0XBZ</td>\n",
       "      <td>sexism</td>\n",
       "      <td></td>\n",
       "      <td>@purposelyflawed</td>\n",
       "      <td></td>\n",
       "    </tr>\n",
       "    <tr>\n",
       "      <th>10901</th>\n",
       "      <td>3168</td>\n",
       "      <td>@AmarinaW You, too.</td>\n",
       "      <td>sexism</td>\n",
       "      <td></td>\n",
       "      <td>@amarinaw</td>\n",
       "      <td></td>\n",
       "    </tr>\n",
       "    <tr>\n",
       "      <th>10903</th>\n",
       "      <td>3170</td>\n",
       "      <td>@Menrwizards @Maniac_McGee27 @sara771987 Where is what from?</td>\n",
       "      <td>sexism</td>\n",
       "      <td></td>\n",
       "      <td>@menrwizards @maniac_mcgee27 @sara771987</td>\n",
       "      <td></td>\n",
       "    </tr>\n",
       "    <tr>\n",
       "      <th>10937</th>\n",
       "      <td>3204</td>\n",
       "      <td>RT @MrShikaki: @_shemmie_ @srhbutts @cainejw @_icze4r @Dylof_ http://t.co/f1uyMrdg5G</td>\n",
       "      <td>sexism</td>\n",
       "      <td></td>\n",
       "      <td>@mrshikaki @_shemmie_ @srhbutts @cainejw @_icze4r @dylof_</td>\n",
       "      <td></td>\n",
       "    </tr>\n",
       "    <tr>\n",
       "      <th>11169</th>\n",
       "      <td>3436</td>\n",
       "      <td>RT @Dekashoko: @theesadiemarie @MT8_9 http://t.co/3u6PChDs6f http://t.co/rgjJNBUtAo http://t.co/kAzMqMyn3Q http://t.co/ROSx40h9t6 http://t.…</td>\n",
       "      <td>sexism</td>\n",
       "      <td></td>\n",
       "      <td>@dekashoko @theesadiemarie @mt8_9</td>\n",
       "      <td></td>\n",
       "    </tr>\n",
       "    <tr>\n",
       "      <th>11193</th>\n",
       "      <td>3460</td>\n",
       "      <td>@g56yu What is that?</td>\n",
       "      <td>sexism</td>\n",
       "      <td></td>\n",
       "      <td>@g56yu</td>\n",
       "      <td></td>\n",
       "    </tr>\n",
       "    <tr>\n",
       "      <th>11237</th>\n",
       "      <td>3504</td>\n",
       "      <td>@beerandfeminism @Wyowanderer777 Which is?</td>\n",
       "      <td>sexism</td>\n",
       "      <td></td>\n",
       "      <td>@beerandfeminism @wyowanderer777</td>\n",
       "      <td></td>\n",
       "    </tr>\n",
       "    <tr>\n",
       "      <th>11267</th>\n",
       "      <td>3534</td>\n",
       "      <td>RT @rapebombing: @TamedInsanity @MT8_9 http://t.co/QCLsQaxoJr</td>\n",
       "      <td>sexism</td>\n",
       "      <td></td>\n",
       "      <td>@rapebombing @tamedinsanity @mt8_9</td>\n",
       "      <td></td>\n",
       "    </tr>\n",
       "  </tbody>\n",
       "</table>\n",
       "</div>"
      ],
      "text/plain": [
       "         id  \\\n",
       "10495  2762   \n",
       "10705  2972   \n",
       "10765  3032   \n",
       "10856  3123   \n",
       "10901  3168   \n",
       "10903  3170   \n",
       "10937  3204   \n",
       "11169  3436   \n",
       "11193  3460   \n",
       "11237  3504   \n",
       "11267  3534   \n",
       "\n",
       "                                                                                                                                             Tweets  \\\n",
       "10495  @BLUNTmoms How?                                                                                                                                \n",
       "10705  @ILivUndrUrBed @CarolynnEva No.                                                                                                                \n",
       "10765  @thesledgetobias ?                                                                                                                             \n",
       "10856  @purposelyflawed http://t.co/P6KTLT0XBZ                                                                                                        \n",
       "10901  @AmarinaW You, too.                                                                                                                            \n",
       "10903  @Menrwizards @Maniac_McGee27 @sara771987 Where is what from?                                                                                   \n",
       "10937  RT @MrShikaki: @_shemmie_ @srhbutts @cainejw @_icze4r @Dylof_ http://t.co/f1uyMrdg5G                                                           \n",
       "11169  RT @Dekashoko: @theesadiemarie @MT8_9 http://t.co/3u6PChDs6f http://t.co/rgjJNBUtAo http://t.co/kAzMqMyn3Q http://t.co/ROSx40h9t6 http://t.…   \n",
       "11193  @g56yu What is that?                                                                                                                           \n",
       "11237  @beerandfeminism @Wyowanderer777 Which is?                                                                                                     \n",
       "11267  RT @rapebombing: @TamedInsanity @MT8_9 http://t.co/QCLsQaxoJr                                                                                  \n",
       "\n",
       "        Label hashtags  \\\n",
       "10495  sexism            \n",
       "10705  sexism            \n",
       "10765  sexism            \n",
       "10856  sexism            \n",
       "10901  sexism            \n",
       "10903  sexism            \n",
       "10937  sexism            \n",
       "11169  sexism            \n",
       "11193  sexism            \n",
       "11237  sexism            \n",
       "11267  sexism            \n",
       "\n",
       "                                                       usernames tweets_train  \n",
       "10495  @bluntmoms                                                              \n",
       "10705  @ilivundrurbed @carolynneva                                             \n",
       "10765  @thesledgetobias                                                        \n",
       "10856  @purposelyflawed                                                        \n",
       "10901  @amarinaw                                                               \n",
       "10903  @menrwizards @maniac_mcgee27 @sara771987                                \n",
       "10937  @mrshikaki @_shemmie_ @srhbutts @cainejw @_icze4r @dylof_               \n",
       "11169  @dekashoko @theesadiemarie @mt8_9                                       \n",
       "11193  @g56yu                                                                  \n",
       "11237  @beerandfeminism @wyowanderer777                                        \n",
       "11267  @rapebombing @tamedinsanity @mt8_9                                      "
      ]
     },
     "execution_count": 28,
     "metadata": {},
     "output_type": "execute_result"
    }
   ],
   "source": [
    "# clean tweets that are = '' and labelled 'sexism'\n",
    "train[(train['tweets_train'] == '') & (train['Label'] == 'sexism')]"
   ]
  },
  {
   "cell_type": "markdown",
   "metadata": {},
   "source": [
    "*The blanks are not removed for now*"
   ]
  },
  {
   "cell_type": "markdown",
   "metadata": {},
   "source": [
    " "
   ]
  },
  {
   "cell_type": "markdown",
   "metadata": {},
   "source": [
    "### Top frequency of tokens for each class"
   ]
  },
  {
   "cell_type": "markdown",
   "metadata": {},
   "source": [
    "#### for racism"
   ]
  },
  {
   "cell_type": "code",
   "execution_count": 29,
   "metadata": {},
   "outputs": [],
   "source": [
    "top_tokens_r = train[train['Label'] == 'racism']['tweets_train'].str.split(expand=True).stack().value_counts()[:10]\n",
    "top_tokens_r_norm = train[train['Label'] == 'racism']['tweets_train'].str.split(expand=True).stack().value_counts(normalize=True)[:10]"
   ]
  },
  {
   "cell_type": "code",
   "execution_count": 30,
   "metadata": {},
   "outputs": [
    {
     "data": {
      "text/html": [
       "<div>\n",
       "<style scoped>\n",
       "    .dataframe tbody tr th:only-of-type {\n",
       "        vertical-align: middle;\n",
       "    }\n",
       "\n",
       "    .dataframe tbody tr th {\n",
       "        vertical-align: top;\n",
       "    }\n",
       "\n",
       "    .dataframe thead th {\n",
       "        text-align: right;\n",
       "    }\n",
       "</style>\n",
       "<table border=\"1\" class=\"dataframe\">\n",
       "  <thead>\n",
       "    <tr style=\"text-align: right;\">\n",
       "      <th></th>\n",
       "      <th>Token Count</th>\n",
       "      <th>Distribution (%)</th>\n",
       "    </tr>\n",
       "  </thead>\n",
       "  <tbody>\n",
       "    <tr>\n",
       "      <th>muslim</th>\n",
       "      <td>485.0</td>\n",
       "      <td>3.66</td>\n",
       "    </tr>\n",
       "    <tr>\n",
       "      <th>islam</th>\n",
       "      <td>452.0</td>\n",
       "      <td>3.41</td>\n",
       "    </tr>\n",
       "    <tr>\n",
       "      <th>mohammed</th>\n",
       "      <td>169.0</td>\n",
       "      <td>1.28</td>\n",
       "    </tr>\n",
       "    <tr>\n",
       "      <th>not</th>\n",
       "      <td>143.0</td>\n",
       "      <td>1.08</td>\n",
       "    </tr>\n",
       "    <tr>\n",
       "      <th>isi</th>\n",
       "      <td>128.0</td>\n",
       "      <td>0.97</td>\n",
       "    </tr>\n",
       "    <tr>\n",
       "      <th>murder</th>\n",
       "      <td>128.0</td>\n",
       "      <td>0.97</td>\n",
       "    </tr>\n",
       "    <tr>\n",
       "      <th>jew</th>\n",
       "      <td>127.0</td>\n",
       "      <td>0.96</td>\n",
       "    </tr>\n",
       "    <tr>\n",
       "      <th>quran</th>\n",
       "      <td>111.0</td>\n",
       "      <td>0.84</td>\n",
       "    </tr>\n",
       "    <tr>\n",
       "      <th>religion</th>\n",
       "      <td>101.0</td>\n",
       "      <td>0.76</td>\n",
       "    </tr>\n",
       "    <tr>\n",
       "      <th>prophet</th>\n",
       "      <td>96.0</td>\n",
       "      <td>0.72</td>\n",
       "    </tr>\n",
       "  </tbody>\n",
       "</table>\n",
       "</div>"
      ],
      "text/plain": [
       "          Token Count  Distribution (%)\n",
       "muslim    485.0        3.66            \n",
       "islam     452.0        3.41            \n",
       "mohammed  169.0        1.28            \n",
       "not       143.0        1.08            \n",
       "isi       128.0        0.97            \n",
       "murder    128.0        0.97            \n",
       "jew       127.0        0.96            \n",
       "quran     111.0        0.84            \n",
       "religion  101.0        0.76            \n",
       "prophet   96.0         0.72            "
      ]
     },
     "execution_count": 30,
     "metadata": {},
     "output_type": "execute_result"
    }
   ],
   "source": [
    "pd.DataFrame([top_tokens_r, round(top_tokens_r_norm*100, 2)]).T.rename(columns={0: \"Token Count\", 1: \"Distribution (%)\"})"
   ]
  },
  {
   "cell_type": "markdown",
   "metadata": {},
   "source": [
    "#### for sexism"
   ]
  },
  {
   "cell_type": "code",
   "execution_count": 31,
   "metadata": {},
   "outputs": [],
   "source": [
    "top_tokens_s = train[train['Label'] == 'sexism']['tweets_train'].str.split(expand=True).stack().value_counts()[:10]\n",
    "top_tokens_s_norm = train[train['Label'] == 'sexism']['tweets_train'].str.split(expand=True).stack().value_counts(normalize=True)[:10]"
   ]
  },
  {
   "cell_type": "code",
   "execution_count": 32,
   "metadata": {},
   "outputs": [
    {
     "data": {
      "text/html": [
       "<div>\n",
       "<style scoped>\n",
       "    .dataframe tbody tr th:only-of-type {\n",
       "        vertical-align: middle;\n",
       "    }\n",
       "\n",
       "    .dataframe tbody tr th {\n",
       "        vertical-align: top;\n",
       "    }\n",
       "\n",
       "    .dataframe thead th {\n",
       "        text-align: right;\n",
       "    }\n",
       "</style>\n",
       "<table border=\"1\" class=\"dataframe\">\n",
       "  <thead>\n",
       "    <tr style=\"text-align: right;\">\n",
       "      <th></th>\n",
       "      <th>Token Count</th>\n",
       "      <th>Distribution (%)</th>\n",
       "    </tr>\n",
       "  </thead>\n",
       "  <tbody>\n",
       "    <tr>\n",
       "      <th>not</th>\n",
       "      <td>978.0</td>\n",
       "      <td>4.29</td>\n",
       "    </tr>\n",
       "    <tr>\n",
       "      <th>sexist</th>\n",
       "      <td>935.0</td>\n",
       "      <td>4.10</td>\n",
       "    </tr>\n",
       "    <tr>\n",
       "      <th>im</th>\n",
       "      <td>696.0</td>\n",
       "      <td>3.05</td>\n",
       "    </tr>\n",
       "    <tr>\n",
       "      <th>woman</th>\n",
       "      <td>666.0</td>\n",
       "      <td>2.92</td>\n",
       "    </tr>\n",
       "    <tr>\n",
       "      <th>girl</th>\n",
       "      <td>264.0</td>\n",
       "      <td>1.16</td>\n",
       "    </tr>\n",
       "    <tr>\n",
       "      <th>female</th>\n",
       "      <td>236.0</td>\n",
       "      <td>1.04</td>\n",
       "    </tr>\n",
       "    <tr>\n",
       "      <th>call</th>\n",
       "      <td>226.0</td>\n",
       "      <td>0.99</td>\n",
       "    </tr>\n",
       "    <tr>\n",
       "      <th>mkr</th>\n",
       "      <td>224.0</td>\n",
       "      <td>0.98</td>\n",
       "    </tr>\n",
       "    <tr>\n",
       "      <th>dont</th>\n",
       "      <td>215.0</td>\n",
       "      <td>0.94</td>\n",
       "    </tr>\n",
       "    <tr>\n",
       "      <th>men</th>\n",
       "      <td>204.0</td>\n",
       "      <td>0.89</td>\n",
       "    </tr>\n",
       "  </tbody>\n",
       "</table>\n",
       "</div>"
      ],
      "text/plain": [
       "        Token Count  Distribution (%)\n",
       "not     978.0        4.29            \n",
       "sexist  935.0        4.10            \n",
       "im      696.0        3.05            \n",
       "woman   666.0        2.92            \n",
       "girl    264.0        1.16            \n",
       "female  236.0        1.04            \n",
       "call    226.0        0.99            \n",
       "mkr     224.0        0.98            \n",
       "dont    215.0        0.94            \n",
       "men     204.0        0.89            "
      ]
     },
     "execution_count": 32,
     "metadata": {},
     "output_type": "execute_result"
    }
   ],
   "source": [
    "pd.DataFrame([top_tokens_s, round(top_tokens_s_norm*100, 2)]).T.rename(columns={0: \"Token Count\", 1: \"Distribution (%)\"})"
   ]
  },
  {
   "cell_type": "markdown",
   "metadata": {},
   "source": [
    " "
   ]
  },
  {
   "cell_type": "markdown",
   "metadata": {},
   "source": [
    " "
   ]
  },
  {
   "cell_type": "markdown",
   "metadata": {},
   "source": [
    "## Transform Target Label"
   ]
  },
  {
   "cell_type": "code",
   "execution_count": 33,
   "metadata": {},
   "outputs": [],
   "source": [
    "le = preprocessing.LabelEncoder()\n",
    "le.fit(train['Label'])\n",
    "train['label_train'] = le.transform(train['Label'])"
   ]
  },
  {
   "cell_type": "code",
   "execution_count": 34,
   "metadata": {},
   "outputs": [
    {
     "data": {
      "text/html": [
       "<div>\n",
       "<style scoped>\n",
       "    .dataframe tbody tr th:only-of-type {\n",
       "        vertical-align: middle;\n",
       "    }\n",
       "\n",
       "    .dataframe tbody tr th {\n",
       "        vertical-align: top;\n",
       "    }\n",
       "\n",
       "    .dataframe thead th {\n",
       "        text-align: right;\n",
       "    }\n",
       "</style>\n",
       "<table border=\"1\" class=\"dataframe\">\n",
       "  <thead>\n",
       "    <tr style=\"text-align: right;\">\n",
       "      <th></th>\n",
       "      <th>id</th>\n",
       "      <th>Tweets</th>\n",
       "      <th>Label</th>\n",
       "      <th>hashtags</th>\n",
       "      <th>usernames</th>\n",
       "      <th>tweets_train</th>\n",
       "      <th>label_train</th>\n",
       "    </tr>\n",
       "  </thead>\n",
       "  <tbody>\n",
       "    <tr>\n",
       "      <th>0</th>\n",
       "      <td>7281</td>\n",
       "      <td>The jokes and puns are flying free in this camping episode.\\n#mkr #mkr2015</td>\n",
       "      <td>none</td>\n",
       "      <td>#mkr #mkr2015</td>\n",
       "      <td></td>\n",
       "      <td>joke pun fly free camp episode mkr mkr</td>\n",
       "      <td>0</td>\n",
       "    </tr>\n",
       "    <tr>\n",
       "      <th>1</th>\n",
       "      <td>7282</td>\n",
       "      <td>#MKR Lets see who the producers think are going to be better TV - Kat or Nikki and Katie??</td>\n",
       "      <td>none</td>\n",
       "      <td>#mkr</td>\n",
       "      <td></td>\n",
       "      <td>mkr let see producer think go well tv kat nikki katie</td>\n",
       "      <td>0</td>\n",
       "    </tr>\n",
       "    <tr>\n",
       "      <th>2</th>\n",
       "      <td>7283</td>\n",
       "      <td>Praying Jac and Shaz do well! They're my faves. #MKR</td>\n",
       "      <td>none</td>\n",
       "      <td>#mkr</td>\n",
       "      <td></td>\n",
       "      <td>pray jac shaz well theyre faves mkr</td>\n",
       "      <td>0</td>\n",
       "    </tr>\n",
       "    <tr>\n",
       "      <th>3</th>\n",
       "      <td>7284</td>\n",
       "      <td>RT @realityraver: Pete Evans the Paleo Capitalist has had his cookbook pulled http://t.co/VubeLWZ9l9 #mkr</td>\n",
       "      <td>none</td>\n",
       "      <td>#mkr</td>\n",
       "      <td>@realityraver</td>\n",
       "      <td>pete evans paleo capitalist cookbook pull mkr</td>\n",
       "      <td>0</td>\n",
       "    </tr>\n",
       "    <tr>\n",
       "      <th>4</th>\n",
       "      <td>7285</td>\n",
       "      <td>If Kat and Andre stay tonight I will stop watching My Kitchen Rules. #mkr</td>\n",
       "      <td>none</td>\n",
       "      <td>#mkr</td>\n",
       "      <td></td>\n",
       "      <td>kat andre stay tonight stop watch kitchen rule mkr</td>\n",
       "      <td>0</td>\n",
       "    </tr>\n",
       "    <tr>\n",
       "      <th>5</th>\n",
       "      <td>7286</td>\n",
       "      <td>#mkr Kat is defining fair..... #hypocrite</td>\n",
       "      <td>none</td>\n",
       "      <td>#mkr #hypocrite</td>\n",
       "      <td></td>\n",
       "      <td>mkr kat define fair hypocrite</td>\n",
       "      <td>0</td>\n",
       "    </tr>\n",
       "    <tr>\n",
       "      <th>6</th>\n",
       "      <td>7287</td>\n",
       "      <td>Twist in the plot.. The bottom 2 teams leave!! I think everyone would be happy!! #MKR</td>\n",
       "      <td>none</td>\n",
       "      <td>#mkr</td>\n",
       "      <td></td>\n",
       "      <td>twist plot bottom team leave think everyone would happy mkr</td>\n",
       "      <td>0</td>\n",
       "    </tr>\n",
       "    <tr>\n",
       "      <th>7</th>\n",
       "      <td>7288</td>\n",
       "      <td>Doesn't anyone have a gif of Manu saying \"no you get out\" cos that would be awesome\\n#mkr</td>\n",
       "      <td>none</td>\n",
       "      <td>#mkr</td>\n",
       "      <td></td>\n",
       "      <td>doesnt anyone gif manu say get co would awesome mkr</td>\n",
       "      <td>0</td>\n",
       "    </tr>\n",
       "    <tr>\n",
       "      <th>8</th>\n",
       "      <td>7289</td>\n",
       "      <td>How Bianca puts up with Drasko is beyond me. #MKR</td>\n",
       "      <td>none</td>\n",
       "      <td>#mkr</td>\n",
       "      <td></td>\n",
       "      <td>bianca put drasko beyond mkr</td>\n",
       "      <td>0</td>\n",
       "    </tr>\n",
       "    <tr>\n",
       "      <th>9</th>\n",
       "      <td>7290</td>\n",
       "      <td>What's Irene doing on #mkr?</td>\n",
       "      <td>none</td>\n",
       "      <td>#mkr</td>\n",
       "      <td></td>\n",
       "      <td>whats irene mkr</td>\n",
       "      <td>0</td>\n",
       "    </tr>\n",
       "  </tbody>\n",
       "</table>\n",
       "</div>"
      ],
      "text/plain": [
       "     id  \\\n",
       "0  7281   \n",
       "1  7282   \n",
       "2  7283   \n",
       "3  7284   \n",
       "4  7285   \n",
       "5  7286   \n",
       "6  7287   \n",
       "7  7288   \n",
       "8  7289   \n",
       "9  7290   \n",
       "\n",
       "                                                                                                      Tweets  \\\n",
       "0  The jokes and puns are flying free in this camping episode.\\n#mkr #mkr2015                                  \n",
       "1  #MKR Lets see who the producers think are going to be better TV - Kat or Nikki and Katie??                  \n",
       "2  Praying Jac and Shaz do well! They're my faves. #MKR                                                        \n",
       "3  RT @realityraver: Pete Evans the Paleo Capitalist has had his cookbook pulled http://t.co/VubeLWZ9l9 #mkr   \n",
       "4  If Kat and Andre stay tonight I will stop watching My Kitchen Rules. #mkr                                   \n",
       "5  #mkr Kat is defining fair..... #hypocrite                                                                   \n",
       "6  Twist in the plot.. The bottom 2 teams leave!! I think everyone would be happy!! #MKR                       \n",
       "7  Doesn't anyone have a gif of Manu saying \"no you get out\" cos that would be awesome\\n#mkr                   \n",
       "8  How Bianca puts up with Drasko is beyond me. #MKR                                                           \n",
       "9  What's Irene doing on #mkr?                                                                                 \n",
       "\n",
       "  Label         hashtags      usernames  \\\n",
       "0  none  #mkr #mkr2015                    \n",
       "1  none  #mkr                             \n",
       "2  none  #mkr                             \n",
       "3  none  #mkr             @realityraver   \n",
       "4  none  #mkr                             \n",
       "5  none  #mkr #hypocrite                  \n",
       "6  none  #mkr                             \n",
       "7  none  #mkr                             \n",
       "8  none  #mkr                             \n",
       "9  none  #mkr                             \n",
       "\n",
       "                                                  tweets_train  label_train  \n",
       "0  joke pun fly free camp episode mkr mkr                       0            \n",
       "1  mkr let see producer think go well tv kat nikki katie        0            \n",
       "2  pray jac shaz well theyre faves mkr                          0            \n",
       "3  pete evans paleo capitalist cookbook pull mkr                0            \n",
       "4  kat andre stay tonight stop watch kitchen rule mkr           0            \n",
       "5  mkr kat define fair hypocrite                                0            \n",
       "6  twist plot bottom team leave think everyone would happy mkr  0            \n",
       "7  doesnt anyone gif manu say get co would awesome mkr          0            \n",
       "8  bianca put drasko beyond mkr                                 0            \n",
       "9  whats irene mkr                                              0            "
      ]
     },
     "execution_count": 34,
     "metadata": {},
     "output_type": "execute_result"
    }
   ],
   "source": [
    "train.head(10)"
   ]
  },
  {
   "cell_type": "code",
   "execution_count": 35,
   "metadata": {},
   "outputs": [
    {
     "data": {
      "text/plain": [
       "array(['none', 'racism', 'sexism'], dtype=object)"
      ]
     },
     "execution_count": 35,
     "metadata": {},
     "output_type": "execute_result"
    }
   ],
   "source": [
    "le.classes_"
   ]
  },
  {
   "cell_type": "code",
   "execution_count": 36,
   "metadata": {},
   "outputs": [
    {
     "data": {
      "text/plain": [
       "array([0, 1, 2])"
      ]
     },
     "execution_count": 36,
     "metadata": {},
     "output_type": "execute_result"
    }
   ],
   "source": [
    "le.transform(le.classes_)"
   ]
  },
  {
   "cell_type": "markdown",
   "metadata": {},
   "source": [
    " "
   ]
  },
  {
   "cell_type": "markdown",
   "metadata": {},
   "source": [
    "## Split Training Data"
   ]
  },
  {
   "cell_type": "code",
   "execution_count": 37,
   "metadata": {},
   "outputs": [],
   "source": [
    "X_train, X_test, y_train, y_test = train_test_split(train['tweets_train'], train['label_train'], test_size=0.2, random_state=12)"
   ]
  },
  {
   "cell_type": "markdown",
   "metadata": {},
   "source": [
    "# Using Naive Bayes\n",
    "### Baseline model"
   ]
  },
  {
   "cell_type": "code",
   "execution_count": 38,
   "metadata": {},
   "outputs": [],
   "source": [
    "pipe = Pipeline(steps = [('vect', CountVectorizer()),\n",
    "                        ('nb', MultinomialNB())])"
   ]
  },
  {
   "cell_type": "code",
   "execution_count": 39,
   "metadata": {},
   "outputs": [],
   "source": [
    "param_grid = {\n",
    "    'vect__analyzer': ['word', 'char', 'char_wb'],\n",
    "    'vect__ngram_range': [(1, 1), (1, 2), (1, 3), (1, 4)]\n",
    "}"
   ]
  },
  {
   "cell_type": "markdown",
   "metadata": {},
   "source": [
    "F1-macro will be used for GridSearchCV scoring method to focus on the minority classes."
   ]
  },
  {
   "cell_type": "code",
   "execution_count": 40,
   "metadata": {},
   "outputs": [],
   "source": [
    "search_nb = GridSearchCV(pipe, param_grid,\n",
    "                         n_jobs=-1,\n",
    "                         cv=10,\n",
    "                         scoring='f1_macro',\n",
    "                         refit=True)"
   ]
  },
  {
   "cell_type": "code",
   "execution_count": 41,
   "metadata": {
    "scrolled": true
   },
   "outputs": [
    {
     "data": {
      "text/plain": [
       "GridSearchCV(cv=10,\n",
       "             estimator=Pipeline(steps=[('vect', CountVectorizer()),\n",
       "                                       ('nb', MultinomialNB())]),\n",
       "             n_jobs=-1,\n",
       "             param_grid={'vect__analyzer': ['word', 'char', 'char_wb'],\n",
       "                         'vect__ngram_range': [(1, 1), (1, 2), (1, 3), (1, 4)]},\n",
       "             scoring='f1_macro')"
      ]
     },
     "execution_count": 41,
     "metadata": {},
     "output_type": "execute_result"
    }
   ],
   "source": [
    "search_nb.fit(X_train, y_train)"
   ]
  },
  {
   "cell_type": "code",
   "execution_count": 42,
   "metadata": {},
   "outputs": [
    {
     "data": {
      "text/plain": [
       "0.7495083592542107"
      ]
     },
     "execution_count": 42,
     "metadata": {},
     "output_type": "execute_result"
    }
   ],
   "source": [
    "search_nb.best_score_"
   ]
  },
  {
   "cell_type": "code",
   "execution_count": 43,
   "metadata": {},
   "outputs": [
    {
     "data": {
      "text/plain": [
       "{'vect__analyzer': 'word', 'vect__ngram_range': (1, 1)}"
      ]
     },
     "execution_count": 43,
     "metadata": {},
     "output_type": "execute_result"
    }
   ],
   "source": [
    "search_nb.best_params_"
   ]
  },
  {
   "cell_type": "code",
   "execution_count": 44,
   "metadata": {},
   "outputs": [],
   "source": [
    "search_nb_pred = search_nb.predict(X_test)"
   ]
  },
  {
   "cell_type": "code",
   "execution_count": 45,
   "metadata": {},
   "outputs": [
    {
     "name": "stdout",
     "output_type": "stream",
     "text": [
      "              precision    recall  f1-score   support\n",
      "\n",
      "           0      0.851     0.910     0.880      1745\n",
      "           1      0.701     0.686     0.693       318\n",
      "           2      0.825     0.638     0.720       503\n",
      "\n",
      "    accuracy                          0.829      2566\n",
      "   macro avg      0.792     0.745     0.764      2566\n",
      "weighted avg      0.827     0.829     0.825      2566\n",
      "\n"
     ]
    }
   ],
   "source": [
    "print(metrics.classification_report(y_test, search_nb_pred, digits=3))"
   ]
  },
  {
   "cell_type": "code",
   "execution_count": 46,
   "metadata": {},
   "outputs": [
    {
     "data": {
      "image/png": "[encoded data removed]",
      "text/plain": [
       "<Figure size 432x288 with 2 Axes>"
      ]
     },
     "metadata": {
      "needs_background": "light"
     },
     "output_type": "display_data"
    }
   ],
   "source": [
    "metrics.plot_confusion_matrix(search_nb, X_test, y_test)\n",
    "plt.show()"
   ]
  },
  {
   "cell_type": "markdown",
   "metadata": {},
   "source": [
    " "
   ]
  },
  {
   "cell_type": "markdown",
   "metadata": {},
   "source": [
    "### Using Tf-Idf as vectorizer"
   ]
  },
  {
   "cell_type": "code",
   "execution_count": 47,
   "metadata": {},
   "outputs": [],
   "source": [
    "pipe = Pipeline(steps = [('tfidf', TfidfVectorizer()),\n",
    "                        ('nb', MultinomialNB())])"
   ]
  },
  {
   "cell_type": "code",
   "execution_count": 48,
   "metadata": {},
   "outputs": [],
   "source": [
    "param_grid = {\n",
    "    'tfidf__max_df': (0.25, 0.5, 0.75, 1.0),\n",
    "    'tfidf__analyzer': ['word', 'char', 'char_wb'],\n",
    "    'tfidf__ngram_range': [(1, 1), (1, 2), (1, 3), (1, 4)]\n",
    "}"
   ]
  },
  {
   "cell_type": "code",
   "execution_count": 49,
   "metadata": {},
   "outputs": [],
   "source": [
    "nb_tfidf = GridSearchCV(pipe, param_grid,\n",
    "                         n_jobs=-1,\n",
    "                         cv=10,\n",
    "                         scoring='f1_macro',\n",
    "                         refit=True)"
   ]
  },
  {
   "cell_type": "code",
   "execution_count": 50,
   "metadata": {},
   "outputs": [
    {
     "data": {
      "text/plain": [
       "GridSearchCV(cv=10,\n",
       "             estimator=Pipeline(steps=[('tfidf', TfidfVectorizer()),\n",
       "                                       ('nb', MultinomialNB())]),\n",
       "             n_jobs=-1,\n",
       "             param_grid={'tfidf__analyzer': ['word', 'char', 'char_wb'],\n",
       "                         'tfidf__max_df': (0.25, 0.5, 0.75, 1.0),\n",
       "                         'tfidf__ngram_range': [(1, 1), (1, 2), (1, 3),\n",
       "                                                (1, 4)]},\n",
       "             scoring='f1_macro')"
      ]
     },
     "execution_count": 50,
     "metadata": {},
     "output_type": "execute_result"
    }
   ],
   "source": [
    "nb_tfidf.fit(X_train, y_train)"
   ]
  },
  {
   "cell_type": "code",
   "execution_count": 51,
   "metadata": {},
   "outputs": [
    {
     "data": {
      "text/plain": [
       "{'tfidf__analyzer': 'char_wb',\n",
       " 'tfidf__max_df': 0.25,\n",
       " 'tfidf__ngram_range': (1, 3)}"
      ]
     },
     "execution_count": 51,
     "metadata": {},
     "output_type": "execute_result"
    }
   ],
   "source": [
    "nb_tfidf.best_params_"
   ]
  },
  {
   "cell_type": "code",
   "execution_count": 52,
   "metadata": {},
   "outputs": [
    {
     "name": "stdout",
     "output_type": "stream",
     "text": [
      "              precision    recall  f1-score   support\n",
      "\n",
      "           0      0.767     0.977     0.859      1745\n",
      "           1      0.790     0.248     0.378       318\n",
      "           2      0.914     0.441     0.595       503\n",
      "\n",
      "    accuracy                          0.781      2566\n",
      "   macro avg      0.823     0.555     0.611      2566\n",
      "weighted avg      0.798     0.781     0.748      2566\n",
      "\n"
     ]
    }
   ],
   "source": [
    "nb_tfidf_pred = nb_tfidf.predict(X_test)\n",
    "print(metrics.classification_report(y_test, nb_tfidf_pred, digits=3))"
   ]
  },
  {
   "cell_type": "markdown",
   "metadata": {},
   "source": [
    " "
   ]
  },
  {
   "cell_type": "markdown",
   "metadata": {},
   "source": [
    " "
   ]
  },
  {
   "cell_type": "markdown",
   "metadata": {},
   "source": [
    "# Using Logistic Regression\n",
    "Logistic Regression is used because it performs reasonably well and is interpretable."
   ]
  },
  {
   "cell_type": "code",
   "execution_count": 53,
   "metadata": {},
   "outputs": [],
   "source": [
    "pipe = Pipeline(steps = [('tfidf', TfidfVectorizer()),\n",
    "                         ('lr', LogisticRegression(multi_class='auto',\n",
    "                                                   solver='lbfgs',\n",
    "                                                   class_weight='balanced',\n",
    "                                                   max_iter=1000,\n",
    "                                                   random_state=12))])"
   ]
  },
  {
   "cell_type": "markdown",
   "metadata": {},
   "source": [
    "#### Exploring hyperparams of vectorizer\n",
    "Will optimized hyperparams be similar to research paper?"
   ]
  },
  {
   "cell_type": "code",
   "execution_count": 54,
   "metadata": {},
   "outputs": [],
   "source": [
    "param_grid = {\n",
    "    'tfidf__max_df': (0.25, 0.5, 0.75, 1.0),\n",
    "    'tfidf__analyzer': ['word', 'char', 'char_wb'],\n",
    "    'tfidf__ngram_range': [(1, 1), (1, 2), (1, 3), (1, 4)]\n",
    "}"
   ]
  },
  {
   "cell_type": "code",
   "execution_count": 55,
   "metadata": {},
   "outputs": [],
   "source": [
    "search_lr = GridSearchCV(pipe, param_grid,\n",
    "                      n_jobs=-1,\n",
    "                      cv=10,\n",
    "                      scoring='f1_macro',\n",
    "                      refit=True)"
   ]
  },
  {
   "cell_type": "code",
   "execution_count": 56,
   "metadata": {
    "scrolled": true
   },
   "outputs": [
    {
     "data": {
      "text/plain": [
       "GridSearchCV(cv=10,\n",
       "             estimator=Pipeline(steps=[('tfidf', TfidfVectorizer()),\n",
       "                                       ('lr',\n",
       "                                        LogisticRegression(class_weight='balanced',\n",
       "                                                           max_iter=1000,\n",
       "                                                           random_state=12))]),\n",
       "             n_jobs=-1,\n",
       "             param_grid={'tfidf__analyzer': ['word', 'char', 'char_wb'],\n",
       "                         'tfidf__max_df': (0.25, 0.5, 0.75, 1.0),\n",
       "                         'tfidf__ngram_range': [(1, 1), (1, 2), (1, 3),\n",
       "                                                (1, 4)]},\n",
       "             scoring='f1_macro')"
      ]
     },
     "execution_count": 56,
     "metadata": {},
     "output_type": "execute_result"
    }
   ],
   "source": [
    "search_lr.fit(X_train, y_train)"
   ]
  },
  {
   "cell_type": "markdown",
   "metadata": {},
   "source": [
    "#### Best hyperparams for tfidf-logreg model\n",
    "- Similar to research paper\n",
    "- char n-gram with range of (1, 4)"
   ]
  },
  {
   "cell_type": "code",
   "execution_count": 57,
   "metadata": {},
   "outputs": [
    {
     "data": {
      "text/plain": [
       "{'tfidf__analyzer': 'char',\n",
       " 'tfidf__max_df': 0.25,\n",
       " 'tfidf__ngram_range': (1, 4)}"
      ]
     },
     "execution_count": 57,
     "metadata": {},
     "output_type": "execute_result"
    }
   ],
   "source": [
    "search_lr.best_params_"
   ]
  },
  {
   "cell_type": "code",
   "execution_count": 58,
   "metadata": {},
   "outputs": [],
   "source": [
    "search_lr_pred = search_lr.predict(X_test)"
   ]
  },
  {
   "cell_type": "code",
   "execution_count": 59,
   "metadata": {},
   "outputs": [
    {
     "name": "stdout",
     "output_type": "stream",
     "text": [
      "              precision    recall  f1-score   support\n",
      "\n",
      "           0      0.883     0.855     0.869      1745\n",
      "           1      0.673     0.796     0.729       318\n",
      "           2      0.716     0.712     0.714       503\n",
      "\n",
      "    accuracy                          0.820      2566\n",
      "   macro avg      0.757     0.787     0.771      2566\n",
      "weighted avg      0.824     0.820     0.821      2566\n",
      "\n"
     ]
    }
   ],
   "source": [
    "print(metrics.classification_report(y_test, search_lr_pred, digits=3))"
   ]
  },
  {
   "cell_type": "code",
   "execution_count": 60,
   "metadata": {},
   "outputs": [
    {
     "data": {
      "image/png": "[encoded data removed]",
      "text/plain": [
       "<Figure size 432x288 with 2 Axes>"
      ]
     },
     "metadata": {
      "needs_background": "light"
     },
     "output_type": "display_data"
    }
   ],
   "source": [
    "metrics.plot_confusion_matrix(search_lr, X_test, y_test)\n",
    "plt.show()"
   ]
  },
  {
   "cell_type": "markdown",
   "metadata": {},
   "source": [
    "### Look at feature importance for each classes \n",
    "To see if the model is able to discriminate the classes appropriately"
   ]
  },
  {
   "cell_type": "code",
   "execution_count": 61,
   "metadata": {},
   "outputs": [],
   "source": [
    "coefs_df = pd.DataFrame(search_lr.best_estimator_.named_steps['lr'].coef_).transpose()"
   ]
  },
  {
   "cell_type": "code",
   "execution_count": 62,
   "metadata": {},
   "outputs": [],
   "source": [
    "feature_array = search_lr.best_estimator_.named_steps['tfidf'].get_feature_names()"
   ]
  },
  {
   "cell_type": "code",
   "execution_count": 63,
   "metadata": {
    "scrolled": false
   },
   "outputs": [
    {
     "data": {
      "text/html": [
       "<div>\n",
       "<style scoped>\n",
       "    .dataframe tbody tr th:only-of-type {\n",
       "        vertical-align: middle;\n",
       "    }\n",
       "\n",
       "    .dataframe tbody tr th {\n",
       "        vertical-align: top;\n",
       "    }\n",
       "\n",
       "    .dataframe thead th {\n",
       "        text-align: right;\n",
       "    }\n",
       "</style>\n",
       "<table border=\"1\" class=\"dataframe\">\n",
       "  <thead>\n",
       "    <tr style=\"text-align: right;\">\n",
       "      <th></th>\n",
       "      <th>0</th>\n",
       "      <th>1</th>\n",
       "      <th>2</th>\n",
       "      <th>feature</th>\n",
       "    </tr>\n",
       "  </thead>\n",
       "  <tbody>\n",
       "    <tr>\n",
       "      <th>0</th>\n",
       "      <td>0.002352</td>\n",
       "      <td>-0.005844</td>\n",
       "      <td>0.003492</td>\n",
       "      <td>aa</td>\n",
       "    </tr>\n",
       "    <tr>\n",
       "      <th>1</th>\n",
       "      <td>0.002352</td>\n",
       "      <td>-0.005844</td>\n",
       "      <td>0.003492</td>\n",
       "      <td>aaa</td>\n",
       "    </tr>\n",
       "    <tr>\n",
       "      <th>2</th>\n",
       "      <td>-0.259052</td>\n",
       "      <td>-0.012660</td>\n",
       "      <td>0.271712</td>\n",
       "      <td>ab</td>\n",
       "    </tr>\n",
       "    <tr>\n",
       "      <th>3</th>\n",
       "      <td>0.007254</td>\n",
       "      <td>-0.003124</td>\n",
       "      <td>-0.004131</td>\n",
       "      <td>ab</td>\n",
       "    </tr>\n",
       "    <tr>\n",
       "      <th>4</th>\n",
       "      <td>-0.021679</td>\n",
       "      <td>-0.047605</td>\n",
       "      <td>0.069284</td>\n",
       "      <td>aba</td>\n",
       "    </tr>\n",
       "    <tr>\n",
       "      <th>5</th>\n",
       "      <td>0.008513</td>\n",
       "      <td>-0.001390</td>\n",
       "      <td>-0.007123</td>\n",
       "      <td>abc</td>\n",
       "    </tr>\n",
       "    <tr>\n",
       "      <th>6</th>\n",
       "      <td>0.044173</td>\n",
       "      <td>-0.038578</td>\n",
       "      <td>-0.005595</td>\n",
       "      <td>abd</td>\n",
       "    </tr>\n",
       "    <tr>\n",
       "      <th>7</th>\n",
       "      <td>-0.107594</td>\n",
       "      <td>0.143108</td>\n",
       "      <td>-0.035514</td>\n",
       "      <td>abe</td>\n",
       "    </tr>\n",
       "    <tr>\n",
       "      <th>8</th>\n",
       "      <td>-0.036320</td>\n",
       "      <td>0.069470</td>\n",
       "      <td>-0.033150</td>\n",
       "      <td>abi</td>\n",
       "    </tr>\n",
       "    <tr>\n",
       "      <th>9</th>\n",
       "      <td>0.201640</td>\n",
       "      <td>-0.134361</td>\n",
       "      <td>-0.067279</td>\n",
       "      <td>abl</td>\n",
       "    </tr>\n",
       "  </tbody>\n",
       "</table>\n",
       "</div>"
      ],
      "text/plain": [
       "          0         1         2 feature\n",
       "0  0.002352 -0.005844  0.003492   aa   \n",
       "1  0.002352 -0.005844  0.003492   aaa  \n",
       "2 -0.259052 -0.012660  0.271712   ab   \n",
       "3  0.007254 -0.003124 -0.004131   ab   \n",
       "4 -0.021679 -0.047605  0.069284   aba  \n",
       "5  0.008513 -0.001390 -0.007123   abc  \n",
       "6  0.044173 -0.038578 -0.005595   abd  \n",
       "7 -0.107594  0.143108 -0.035514   abe  \n",
       "8 -0.036320  0.069470 -0.033150   abi  \n",
       "9  0.201640 -0.134361 -0.067279   abl  "
      ]
     },
     "execution_count": 63,
     "metadata": {},
     "output_type": "execute_result"
    }
   ],
   "source": [
    "feature_coefs_df = coefs_df.join(pd.DataFrame(feature_array, columns=['feature']))\n",
    "feature_coefs_df.head(10)"
   ]
  },
  {
   "cell_type": "markdown",
   "metadata": {},
   "source": [
    "#### For class 1 (*racism*) and 2 (*sexism*)"
   ]
  },
  {
   "cell_type": "code",
   "execution_count": 64,
   "metadata": {},
   "outputs": [
    {
     "data": {
      "text/html": [
       "<div>\n",
       "<style scoped>\n",
       "    .dataframe tbody tr th:only-of-type {\n",
       "        vertical-align: middle;\n",
       "    }\n",
       "\n",
       "    .dataframe tbody tr th {\n",
       "        vertical-align: top;\n",
       "    }\n",
       "\n",
       "    .dataframe thead th {\n",
       "        text-align: right;\n",
       "    }\n",
       "</style>\n",
       "<table border=\"1\" class=\"dataframe\">\n",
       "  <thead>\n",
       "    <tr style=\"text-align: right;\">\n",
       "      <th></th>\n",
       "      <th>1</th>\n",
       "      <th>feature</th>\n",
       "    </tr>\n",
       "  </thead>\n",
       "  <tbody>\n",
       "    <tr>\n",
       "      <th>30029</th>\n",
       "      <td>3.321531</td>\n",
       "      <td>sl</td>\n",
       "    </tr>\n",
       "    <tr>\n",
       "      <th>30032</th>\n",
       "      <td>2.609274</td>\n",
       "      <td>sla</td>\n",
       "    </tr>\n",
       "    <tr>\n",
       "      <th>30036</th>\n",
       "      <td>2.206862</td>\n",
       "      <td>slam</td>\n",
       "    </tr>\n",
       "    <tr>\n",
       "      <th>21098</th>\n",
       "      <td>2.105425</td>\n",
       "      <td>musl</td>\n",
       "    </tr>\n",
       "    <tr>\n",
       "      <th>33868</th>\n",
       "      <td>2.105425</td>\n",
       "      <td>usli</td>\n",
       "    </tr>\n",
       "    <tr>\n",
       "      <th>16681</th>\n",
       "      <td>2.078663</td>\n",
       "      <td>isla</td>\n",
       "    </tr>\n",
       "    <tr>\n",
       "      <th>30054</th>\n",
       "      <td>2.061211</td>\n",
       "      <td>slim</td>\n",
       "    </tr>\n",
       "    <tr>\n",
       "      <th>21053</th>\n",
       "      <td>2.047848</td>\n",
       "      <td>mu</td>\n",
       "    </tr>\n",
       "    <tr>\n",
       "      <th>27136</th>\n",
       "      <td>2.030440</td>\n",
       "      <td>ra</td>\n",
       "    </tr>\n",
       "    <tr>\n",
       "      <th>18511</th>\n",
       "      <td>2.010553</td>\n",
       "      <td>lam</td>\n",
       "    </tr>\n",
       "    <tr>\n",
       "      <th>19040</th>\n",
       "      <td>2.007841</td>\n",
       "      <td>lim</td>\n",
       "    </tr>\n",
       "    <tr>\n",
       "      <th>1167</th>\n",
       "      <td>1.994253</td>\n",
       "      <td>is</td>\n",
       "    </tr>\n",
       "    <tr>\n",
       "      <th>16680</th>\n",
       "      <td>1.994033</td>\n",
       "      <td>isl</td>\n",
       "    </tr>\n",
       "    <tr>\n",
       "      <th>18446</th>\n",
       "      <td>1.982412</td>\n",
       "      <td>la</td>\n",
       "    </tr>\n",
       "    <tr>\n",
       "      <th>18510</th>\n",
       "      <td>1.978613</td>\n",
       "      <td>lam</td>\n",
       "    </tr>\n",
       "  </tbody>\n",
       "</table>\n",
       "</div>"
      ],
      "text/plain": [
       "              1 feature\n",
       "30029  3.321531  sl    \n",
       "30032  2.609274  sla   \n",
       "30036  2.206862  slam  \n",
       "21098  2.105425  musl  \n",
       "33868  2.105425  usli  \n",
       "16681  2.078663  isla  \n",
       "30054  2.061211  slim  \n",
       "21053  2.047848  mu    \n",
       "27136  2.030440  ra    \n",
       "18511  2.010553  lam   \n",
       "19040  2.007841  lim   \n",
       "1167   1.994253   is   \n",
       "16680  1.994033  isl   \n",
       "18446  1.982412  la    \n",
       "18510  1.978613  lam   "
      ]
     },
     "metadata": {},
     "output_type": "display_data"
    },
    {
     "data": {
      "text/html": [
       "<div>\n",
       "<style scoped>\n",
       "    .dataframe tbody tr th:only-of-type {\n",
       "        vertical-align: middle;\n",
       "    }\n",
       "\n",
       "    .dataframe tbody tr th {\n",
       "        vertical-align: top;\n",
       "    }\n",
       "\n",
       "    .dataframe thead th {\n",
       "        text-align: right;\n",
       "    }\n",
       "</style>\n",
       "<table border=\"1\" class=\"dataframe\">\n",
       "  <thead>\n",
       "    <tr style=\"text-align: right;\">\n",
       "      <th></th>\n",
       "      <th>2</th>\n",
       "      <th>feature</th>\n",
       "    </tr>\n",
       "  </thead>\n",
       "  <tbody>\n",
       "    <tr>\n",
       "      <th>29643</th>\n",
       "      <td>2.368254</td>\n",
       "      <td>sex</td>\n",
       "    </tr>\n",
       "    <tr>\n",
       "      <th>12063</th>\n",
       "      <td>2.365117</td>\n",
       "      <td>fem</td>\n",
       "    </tr>\n",
       "    <tr>\n",
       "      <th>29647</th>\n",
       "      <td>2.342850</td>\n",
       "      <td>sexi</td>\n",
       "    </tr>\n",
       "    <tr>\n",
       "      <th>35755</th>\n",
       "      <td>2.287269</td>\n",
       "      <td>xist</td>\n",
       "    </tr>\n",
       "    <tr>\n",
       "      <th>35728</th>\n",
       "      <td>1.921479</td>\n",
       "      <td>xi</td>\n",
       "    </tr>\n",
       "    <tr>\n",
       "      <th>11640</th>\n",
       "      <td>1.885658</td>\n",
       "      <td>exis</td>\n",
       "    </tr>\n",
       "    <tr>\n",
       "      <th>11636</th>\n",
       "      <td>1.883204</td>\n",
       "      <td>exi</td>\n",
       "    </tr>\n",
       "    <tr>\n",
       "      <th>35752</th>\n",
       "      <td>1.864107</td>\n",
       "      <td>xis</td>\n",
       "    </tr>\n",
       "    <tr>\n",
       "      <th>10435</th>\n",
       "      <td>1.758133</td>\n",
       "      <td>em</td>\n",
       "    </tr>\n",
       "    <tr>\n",
       "      <th>17604</th>\n",
       "      <td>1.697761</td>\n",
       "      <td>kat</td>\n",
       "    </tr>\n",
       "    <tr>\n",
       "      <th>2188</th>\n",
       "      <td>1.677172</td>\n",
       "      <td>sex</td>\n",
       "    </tr>\n",
       "    <tr>\n",
       "      <th>16733</th>\n",
       "      <td>1.666243</td>\n",
       "      <td>ist</td>\n",
       "    </tr>\n",
       "    <tr>\n",
       "      <th>17603</th>\n",
       "      <td>1.631593</td>\n",
       "      <td>kat</td>\n",
       "    </tr>\n",
       "    <tr>\n",
       "      <th>775</th>\n",
       "      <td>1.569601</td>\n",
       "      <td>fem</td>\n",
       "    </tr>\n",
       "    <tr>\n",
       "      <th>17551</th>\n",
       "      <td>1.514525</td>\n",
       "      <td>ka</td>\n",
       "    </tr>\n",
       "  </tbody>\n",
       "</table>\n",
       "</div>"
      ],
      "text/plain": [
       "              2 feature\n",
       "29643  2.368254  sex   \n",
       "12063  2.365117  fem   \n",
       "29647  2.342850  sexi  \n",
       "35755  2.287269  xist  \n",
       "35728  1.921479  xi    \n",
       "11640  1.885658  exis  \n",
       "11636  1.883204  exi   \n",
       "35752  1.864107  xis   \n",
       "10435  1.758133  em    \n",
       "17604  1.697761  kat   \n",
       "2188   1.677172   sex  \n",
       "16733  1.666243  ist   \n",
       "17603  1.631593  kat   \n",
       "775    1.569601   fem  \n",
       "17551  1.514525  ka    "
      ]
     },
     "metadata": {},
     "output_type": "display_data"
    }
   ],
   "source": [
    "feature_racism = feature_coefs_df.loc[:, [1, 'feature']].sort_values(by=1, ascending=False).head(15)\n",
    "feature_sexism = feature_coefs_df.loc[:, [2, 'feature']].sort_values(by=2, ascending=False).head(15)\n",
    "\n",
    "display(feature_racism)\n",
    "display(feature_sexism)"
   ]
  },
  {
   "cell_type": "markdown",
   "metadata": {},
   "source": [
    " "
   ]
  },
  {
   "cell_type": "markdown",
   "metadata": {},
   "source": [
    "### Unboxing TF-IDF Vectorizer\n",
    "#### How are the weights allocated?"
   ]
  },
  {
   "cell_type": "code",
   "execution_count": 65,
   "metadata": {},
   "outputs": [],
   "source": [
    "feature_vect = search_lr.best_estimator_.named_steps['tfidf'].idf_"
   ]
  },
  {
   "cell_type": "code",
   "execution_count": 66,
   "metadata": {},
   "outputs": [],
   "source": [
    "vect_df = pd.DataFrame([feature_array, feature_vect]).transpose().sort_values(by=1, ascending = False)"
   ]
  },
  {
   "cell_type": "code",
   "execution_count": 67,
   "metadata": {
    "scrolled": true
   },
   "outputs": [
    {
     "data": {
      "text/html": [
       "<div>\n",
       "<style scoped>\n",
       "    .dataframe tbody tr th:only-of-type {\n",
       "        vertical-align: middle;\n",
       "    }\n",
       "\n",
       "    .dataframe tbody tr th {\n",
       "        vertical-align: top;\n",
       "    }\n",
       "\n",
       "    .dataframe thead th {\n",
       "        text-align: right;\n",
       "    }\n",
       "</style>\n",
       "<table border=\"1\" class=\"dataframe\">\n",
       "  <thead>\n",
       "    <tr style=\"text-align: right;\">\n",
       "      <th></th>\n",
       "      <th>0</th>\n",
       "      <th>1</th>\n",
       "    </tr>\n",
       "  </thead>\n",
       "  <tbody>\n",
       "    <tr>\n",
       "      <th>37118</th>\n",
       "      <td>zzzz</td>\n",
       "      <td>9.54325</td>\n",
       "    </tr>\n",
       "    <tr>\n",
       "      <th>9022</th>\n",
       "      <td>dyke</td>\n",
       "      <td>9.54325</td>\n",
       "    </tr>\n",
       "    <tr>\n",
       "      <th>9011</th>\n",
       "      <td>dyal</td>\n",
       "      <td>9.54325</td>\n",
       "    </tr>\n",
       "    <tr>\n",
       "      <th>22718</th>\n",
       "      <td>nsec</td>\n",
       "      <td>9.54325</td>\n",
       "    </tr>\n",
       "    <tr>\n",
       "      <th>9013</th>\n",
       "      <td>dyce</td>\n",
       "      <td>9.54325</td>\n",
       "    </tr>\n",
       "    <tr>\n",
       "      <th>9014</th>\n",
       "      <td>dyco</td>\n",
       "      <td>9.54325</td>\n",
       "    </tr>\n",
       "    <tr>\n",
       "      <th>9015</th>\n",
       "      <td>dycu</td>\n",
       "      <td>9.54325</td>\n",
       "    </tr>\n",
       "    <tr>\n",
       "      <th>22715</th>\n",
       "      <td>nsde</td>\n",
       "      <td>9.54325</td>\n",
       "    </tr>\n",
       "    <tr>\n",
       "      <th>9018</th>\n",
       "      <td>dyed</td>\n",
       "      <td>9.54325</td>\n",
       "    </tr>\n",
       "    <tr>\n",
       "      <th>9019</th>\n",
       "      <td>dyg</td>\n",
       "      <td>9.54325</td>\n",
       "    </tr>\n",
       "  </tbody>\n",
       "</table>\n",
       "</div>"
      ],
      "text/plain": [
       "          0        1\n",
       "37118  zzzz  9.54325\n",
       "9022   dyke  9.54325\n",
       "9011   dyal  9.54325\n",
       "22718  nsec  9.54325\n",
       "9013   dyce  9.54325\n",
       "9014   dyco  9.54325\n",
       "9015   dycu  9.54325\n",
       "22715  nsde  9.54325\n",
       "9018   dyed  9.54325\n",
       "9019   dyg   9.54325"
      ]
     },
     "execution_count": 67,
     "metadata": {},
     "output_type": "execute_result"
    }
   ],
   "source": [
    "vect_df[vect_df[1] == vect_df[1].max()].head(10)"
   ]
  },
  {
   "cell_type": "code",
   "execution_count": 68,
   "metadata": {},
   "outputs": [
    {
     "data": {
      "text/plain": [
       "(11548, 2)"
      ]
     },
     "execution_count": 68,
     "metadata": {},
     "output_type": "execute_result"
    }
   ],
   "source": [
    "vect_df[vect_df[1] == vect_df[1].max()].shape"
   ]
  },
  {
   "cell_type": "markdown",
   "metadata": {},
   "source": [
    "- 1/3 of the features in vocab array in Tfidf Vectorizer has the same weights\n",
    "\n",
    "- Seems like noise"
   ]
  },
  {
   "cell_type": "code",
   "execution_count": 69,
   "metadata": {},
   "outputs": [
    {
     "data": {
      "text/plain": [
       "0.3111075190603195"
      ]
     },
     "execution_count": 69,
     "metadata": {},
     "output_type": "execute_result"
    }
   ],
   "source": [
    "vect_df[vect_df[1] == vect_df[1].max()].shape[0] / vect_df.shape[0]"
   ]
  },
  {
   "cell_type": "markdown",
   "metadata": {},
   "source": [
    " "
   ]
  },
  {
   "cell_type": "markdown",
   "metadata": {},
   "source": [
    "## Removing blank tweets"
   ]
  },
  {
   "cell_type": "code",
   "execution_count": 70,
   "metadata": {},
   "outputs": [],
   "source": [
    "tweets_train_noblanks = train[train['tweets_train'] != '']"
   ]
  },
  {
   "cell_type": "code",
   "execution_count": 71,
   "metadata": {},
   "outputs": [],
   "source": [
    "X_train_nb, X_test_nb, y_train_nb, y_test_nb = train_test_split(tweets_train_noblanks['tweets_train'], tweets_train_noblanks['label_train'], test_size=0.2, random_state=12)"
   ]
  },
  {
   "cell_type": "code",
   "execution_count": 72,
   "metadata": {},
   "outputs": [
    {
     "data": {
      "text/plain": [
       "none      0.675100\n",
       "sexism    0.201357\n",
       "racism    0.123543\n",
       "Name: Label, dtype: float64"
      ]
     },
     "execution_count": 72,
     "metadata": {},
     "output_type": "execute_result"
    }
   ],
   "source": [
    "tweets_train_noblanks.Label.value_counts(normalize = True)"
   ]
  },
  {
   "cell_type": "code",
   "execution_count": 73,
   "metadata": {},
   "outputs": [],
   "source": [
    "lr_noblanks = Pipeline(steps = [('tfidf', TfidfVectorizer(analyzer='char', \n",
    "                                                          max_df=0.25, \n",
    "                                                          ngram_range=(1,4))),\n",
    "                                \n",
    "                        ('lr', LogisticRegression(multi_class=\"auto\", \n",
    "                                                  solver='lbfgs', \n",
    "                                                  class_weight='balanced',\n",
    "                                                  max_iter=1000,\n",
    "                                                  random_state=12))])"
   ]
  },
  {
   "cell_type": "code",
   "execution_count": 74,
   "metadata": {},
   "outputs": [
    {
     "data": {
      "text/plain": [
       "Pipeline(steps=[('tfidf',\n",
       "                 TfidfVectorizer(analyzer='char', max_df=0.25,\n",
       "                                 ngram_range=(1, 4))),\n",
       "                ('lr',\n",
       "                 LogisticRegression(class_weight='balanced', max_iter=1000,\n",
       "                                    random_state=12))])"
      ]
     },
     "execution_count": 74,
     "metadata": {},
     "output_type": "execute_result"
    }
   ],
   "source": [
    "lr_noblanks.fit(X_train_nb, y_train_nb)"
   ]
  },
  {
   "cell_type": "code",
   "execution_count": 75,
   "metadata": {},
   "outputs": [],
   "source": [
    "lr_noblanks_pred = lr_noblanks.predict(X_test_nb)"
   ]
  },
  {
   "cell_type": "code",
   "execution_count": 76,
   "metadata": {},
   "outputs": [
    {
     "name": "stdout",
     "output_type": "stream",
     "text": [
      "              precision    recall  f1-score   support\n",
      "\n",
      "           0      0.876     0.846     0.861      1688\n",
      "           1      0.638     0.824     0.719       301\n",
      "           2      0.733     0.691     0.711       517\n",
      "\n",
      "    accuracy                          0.811      2506\n",
      "   macro avg      0.749     0.787     0.764      2506\n",
      "weighted avg      0.818     0.811     0.813      2506\n",
      "\n"
     ]
    }
   ],
   "source": [
    "print(metrics.classification_report(y_test_nb, lr_noblanks_pred, digits=3))"
   ]
  },
  {
   "cell_type": "code",
   "execution_count": 77,
   "metadata": {},
   "outputs": [],
   "source": [
    "noblanks_coefs_df = pd.DataFrame(lr_noblanks.named_steps['lr'].coef_).transpose()\n",
    "noblanks_feature_array = lr_noblanks.named_steps['tfidf'].get_feature_names()\n",
    "\n",
    "noblanks_feature_coefs_df = noblanks_coefs_df.join(pd.DataFrame(noblanks_feature_array, columns=['feature']))"
   ]
  },
  {
   "cell_type": "code",
   "execution_count": 78,
   "metadata": {},
   "outputs": [
    {
     "data": {
      "text/html": [
       "<div>\n",
       "<style scoped>\n",
       "    .dataframe tbody tr th:only-of-type {\n",
       "        vertical-align: middle;\n",
       "    }\n",
       "\n",
       "    .dataframe tbody tr th {\n",
       "        vertical-align: top;\n",
       "    }\n",
       "\n",
       "    .dataframe thead th {\n",
       "        text-align: right;\n",
       "    }\n",
       "</style>\n",
       "<table border=\"1\" class=\"dataframe\">\n",
       "  <thead>\n",
       "    <tr style=\"text-align: right;\">\n",
       "      <th></th>\n",
       "      <th>1</th>\n",
       "      <th>feature</th>\n",
       "    </tr>\n",
       "  </thead>\n",
       "  <tbody>\n",
       "    <tr>\n",
       "      <th>29911</th>\n",
       "      <td>3.388858</td>\n",
       "      <td>sl</td>\n",
       "    </tr>\n",
       "    <tr>\n",
       "      <th>29914</th>\n",
       "      <td>2.628398</td>\n",
       "      <td>sla</td>\n",
       "    </tr>\n",
       "    <tr>\n",
       "      <th>29918</th>\n",
       "      <td>2.295880</td>\n",
       "      <td>slam</td>\n",
       "    </tr>\n",
       "    <tr>\n",
       "      <th>18468</th>\n",
       "      <td>2.266603</td>\n",
       "      <td>lam</td>\n",
       "    </tr>\n",
       "    <tr>\n",
       "      <th>16640</th>\n",
       "      <td>2.173344</td>\n",
       "      <td>isla</td>\n",
       "    </tr>\n",
       "    <tr>\n",
       "      <th>20979</th>\n",
       "      <td>2.141450</td>\n",
       "      <td>mu</td>\n",
       "    </tr>\n",
       "    <tr>\n",
       "      <th>33753</th>\n",
       "      <td>2.115886</td>\n",
       "      <td>usli</td>\n",
       "    </tr>\n",
       "    <tr>\n",
       "      <th>21022</th>\n",
       "      <td>2.115886</td>\n",
       "      <td>musl</td>\n",
       "    </tr>\n",
       "    <tr>\n",
       "      <th>16639</th>\n",
       "      <td>2.095739</td>\n",
       "      <td>isl</td>\n",
       "    </tr>\n",
       "    <tr>\n",
       "      <th>18467</th>\n",
       "      <td>2.080586</td>\n",
       "      <td>lam</td>\n",
       "    </tr>\n",
       "    <tr>\n",
       "      <th>29939</th>\n",
       "      <td>2.071721</td>\n",
       "      <td>slim</td>\n",
       "    </tr>\n",
       "    <tr>\n",
       "      <th>1165</th>\n",
       "      <td>2.025851</td>\n",
       "      <td>is</td>\n",
       "    </tr>\n",
       "    <tr>\n",
       "      <th>18403</th>\n",
       "      <td>2.004538</td>\n",
       "      <td>la</td>\n",
       "    </tr>\n",
       "    <tr>\n",
       "      <th>27017</th>\n",
       "      <td>1.945122</td>\n",
       "      <td>ra</td>\n",
       "    </tr>\n",
       "    <tr>\n",
       "      <th>18991</th>\n",
       "      <td>1.940738</td>\n",
       "      <td>lim</td>\n",
       "    </tr>\n",
       "  </tbody>\n",
       "</table>\n",
       "</div>"
      ],
      "text/plain": [
       "              1 feature\n",
       "29911  3.388858  sl    \n",
       "29914  2.628398  sla   \n",
       "29918  2.295880  slam  \n",
       "18468  2.266603  lam   \n",
       "16640  2.173344  isla  \n",
       "20979  2.141450  mu    \n",
       "33753  2.115886  usli  \n",
       "21022  2.115886  musl  \n",
       "16639  2.095739  isl   \n",
       "18467  2.080586  lam   \n",
       "29939  2.071721  slim  \n",
       "1165   2.025851   is   \n",
       "18403  2.004538  la    \n",
       "27017  1.945122  ra    \n",
       "18991  1.940738  lim   "
      ]
     },
     "metadata": {},
     "output_type": "display_data"
    },
    {
     "data": {
      "text/html": [
       "<div>\n",
       "<style scoped>\n",
       "    .dataframe tbody tr th:only-of-type {\n",
       "        vertical-align: middle;\n",
       "    }\n",
       "\n",
       "    .dataframe tbody tr th {\n",
       "        vertical-align: top;\n",
       "    }\n",
       "\n",
       "    .dataframe thead th {\n",
       "        text-align: right;\n",
       "    }\n",
       "</style>\n",
       "<table border=\"1\" class=\"dataframe\">\n",
       "  <thead>\n",
       "    <tr style=\"text-align: right;\">\n",
       "      <th></th>\n",
       "      <th>2</th>\n",
       "      <th>feature</th>\n",
       "    </tr>\n",
       "  </thead>\n",
       "  <tbody>\n",
       "    <tr>\n",
       "      <th>29536</th>\n",
       "      <td>2.417055</td>\n",
       "      <td>sexi</td>\n",
       "    </tr>\n",
       "    <tr>\n",
       "      <th>29533</th>\n",
       "      <td>2.337427</td>\n",
       "      <td>sex</td>\n",
       "    </tr>\n",
       "    <tr>\n",
       "      <th>12085</th>\n",
       "      <td>2.273094</td>\n",
       "      <td>fem</td>\n",
       "    </tr>\n",
       "    <tr>\n",
       "      <th>35630</th>\n",
       "      <td>2.239761</td>\n",
       "      <td>xist</td>\n",
       "    </tr>\n",
       "    <tr>\n",
       "      <th>35603</th>\n",
       "      <td>1.932242</td>\n",
       "      <td>xi</td>\n",
       "    </tr>\n",
       "    <tr>\n",
       "      <th>11677</th>\n",
       "      <td>1.931465</td>\n",
       "      <td>exi</td>\n",
       "    </tr>\n",
       "    <tr>\n",
       "      <th>11681</th>\n",
       "      <td>1.928046</td>\n",
       "      <td>exis</td>\n",
       "    </tr>\n",
       "    <tr>\n",
       "      <th>35627</th>\n",
       "      <td>1.909489</td>\n",
       "      <td>xis</td>\n",
       "    </tr>\n",
       "    <tr>\n",
       "      <th>16690</th>\n",
       "      <td>1.843598</td>\n",
       "      <td>ist</td>\n",
       "    </tr>\n",
       "    <tr>\n",
       "      <th>2179</th>\n",
       "      <td>1.638605</td>\n",
       "      <td>sex</td>\n",
       "    </tr>\n",
       "    <tr>\n",
       "      <th>774</th>\n",
       "      <td>1.560589</td>\n",
       "      <td>fem</td>\n",
       "    </tr>\n",
       "    <tr>\n",
       "      <th>10482</th>\n",
       "      <td>1.559532</td>\n",
       "      <td>em</td>\n",
       "    </tr>\n",
       "    <tr>\n",
       "      <th>17557</th>\n",
       "      <td>1.537550</td>\n",
       "      <td>kat</td>\n",
       "    </tr>\n",
       "    <tr>\n",
       "      <th>17556</th>\n",
       "      <td>1.534745</td>\n",
       "      <td>kat</td>\n",
       "    </tr>\n",
       "    <tr>\n",
       "      <th>13286</th>\n",
       "      <td>1.450569</td>\n",
       "      <td>girl</td>\n",
       "    </tr>\n",
       "  </tbody>\n",
       "</table>\n",
       "</div>"
      ],
      "text/plain": [
       "              2 feature\n",
       "29536  2.417055  sexi  \n",
       "29533  2.337427  sex   \n",
       "12085  2.273094  fem   \n",
       "35630  2.239761  xist  \n",
       "35603  1.932242  xi    \n",
       "11677  1.931465  exi   \n",
       "11681  1.928046  exis  \n",
       "35627  1.909489  xis   \n",
       "16690  1.843598  ist   \n",
       "2179   1.638605   sex  \n",
       "774    1.560589   fem  \n",
       "10482  1.559532  em    \n",
       "17557  1.537550  kat   \n",
       "17556  1.534745  kat   \n",
       "13286  1.450569  girl  "
      ]
     },
     "metadata": {},
     "output_type": "display_data"
    }
   ],
   "source": [
    "noblanks_racism = noblanks_feature_coefs_df.loc[:, [1, 'feature']].sort_values(by=1, ascending=False).head(15)\n",
    "noblanks_sexism = noblanks_feature_coefs_df.loc[:, [2, 'feature']].sort_values(by=2, ascending=False).head(15)\n",
    "\n",
    "display(noblanks_racism)\n",
    "display(noblanks_sexism)"
   ]
  },
  {
   "cell_type": "markdown",
   "metadata": {},
   "source": [
    "Blank tweets could be due to aggressive preprocessing of the training data (as none of the original tweets were blank). What if stopwords are included instead?"
   ]
  },
  {
   "cell_type": "markdown",
   "metadata": {},
   "source": [
    " "
   ]
  },
  {
   "cell_type": "markdown",
   "metadata": {},
   "source": [
    "## Logistic Regression with Stopwords"
   ]
  },
  {
   "cell_type": "code",
   "execution_count": 79,
   "metadata": {},
   "outputs": [],
   "source": [
    "train['tweets_train_nsw'] = tweets_lemmatized"
   ]
  },
  {
   "cell_type": "code",
   "execution_count": 80,
   "metadata": {},
   "outputs": [],
   "source": [
    "train['tweets_train_nsw'] = train['tweets_train_nsw'].apply(lambda x: ' '.join([w for w in x]))"
   ]
  },
  {
   "cell_type": "code",
   "execution_count": 81,
   "metadata": {
    "scrolled": false
   },
   "outputs": [
    {
     "data": {
      "text/html": [
       "<div>\n",
       "<style scoped>\n",
       "    .dataframe tbody tr th:only-of-type {\n",
       "        vertical-align: middle;\n",
       "    }\n",
       "\n",
       "    .dataframe tbody tr th {\n",
       "        vertical-align: top;\n",
       "    }\n",
       "\n",
       "    .dataframe thead th {\n",
       "        text-align: right;\n",
       "    }\n",
       "</style>\n",
       "<table border=\"1\" class=\"dataframe\">\n",
       "  <thead>\n",
       "    <tr style=\"text-align: right;\">\n",
       "      <th></th>\n",
       "      <th>id</th>\n",
       "      <th>Tweets</th>\n",
       "      <th>Label</th>\n",
       "      <th>hashtags</th>\n",
       "      <th>usernames</th>\n",
       "      <th>tweets_train</th>\n",
       "      <th>label_train</th>\n",
       "      <th>tweets_train_nsw</th>\n",
       "    </tr>\n",
       "  </thead>\n",
       "  <tbody>\n",
       "    <tr>\n",
       "      <th>0</th>\n",
       "      <td>7281</td>\n",
       "      <td>The jokes and puns are flying free in this camping episode.\\n#mkr #mkr2015</td>\n",
       "      <td>none</td>\n",
       "      <td>#mkr #mkr2015</td>\n",
       "      <td></td>\n",
       "      <td>joke pun fly free camp episode mkr mkr</td>\n",
       "      <td>0</td>\n",
       "      <td>the joke and pun be fly free in this camp episode mkr mkr</td>\n",
       "    </tr>\n",
       "    <tr>\n",
       "      <th>1</th>\n",
       "      <td>7282</td>\n",
       "      <td>#MKR Lets see who the producers think are going to be better TV - Kat or Nikki and Katie??</td>\n",
       "      <td>none</td>\n",
       "      <td>#mkr</td>\n",
       "      <td></td>\n",
       "      <td>mkr let see producer think go well tv kat nikki katie</td>\n",
       "      <td>0</td>\n",
       "      <td>mkr let see who the producer think be go to be well tv kat or nikki and katie</td>\n",
       "    </tr>\n",
       "    <tr>\n",
       "      <th>2</th>\n",
       "      <td>7283</td>\n",
       "      <td>Praying Jac and Shaz do well! They're my faves. #MKR</td>\n",
       "      <td>none</td>\n",
       "      <td>#mkr</td>\n",
       "      <td></td>\n",
       "      <td>pray jac shaz well theyre faves mkr</td>\n",
       "      <td>0</td>\n",
       "      <td>pray jac and shaz do well theyre my faves mkr</td>\n",
       "    </tr>\n",
       "    <tr>\n",
       "      <th>3</th>\n",
       "      <td>7284</td>\n",
       "      <td>RT @realityraver: Pete Evans the Paleo Capitalist has had his cookbook pulled http://t.co/VubeLWZ9l9 #mkr</td>\n",
       "      <td>none</td>\n",
       "      <td>#mkr</td>\n",
       "      <td>@realityraver</td>\n",
       "      <td>pete evans paleo capitalist cookbook pull mkr</td>\n",
       "      <td>0</td>\n",
       "      <td>rt pete evans the paleo capitalist have have his cookbook pull mkr</td>\n",
       "    </tr>\n",
       "    <tr>\n",
       "      <th>4</th>\n",
       "      <td>7285</td>\n",
       "      <td>If Kat and Andre stay tonight I will stop watching My Kitchen Rules. #mkr</td>\n",
       "      <td>none</td>\n",
       "      <td>#mkr</td>\n",
       "      <td></td>\n",
       "      <td>kat andre stay tonight stop watch kitchen rule mkr</td>\n",
       "      <td>0</td>\n",
       "      <td>if kat and andre stay tonight i will stop watch my kitchen rule mkr</td>\n",
       "    </tr>\n",
       "    <tr>\n",
       "      <th>5</th>\n",
       "      <td>7286</td>\n",
       "      <td>#mkr Kat is defining fair..... #hypocrite</td>\n",
       "      <td>none</td>\n",
       "      <td>#mkr #hypocrite</td>\n",
       "      <td></td>\n",
       "      <td>mkr kat define fair hypocrite</td>\n",
       "      <td>0</td>\n",
       "      <td>mkr kat be define fair hypocrite</td>\n",
       "    </tr>\n",
       "    <tr>\n",
       "      <th>6</th>\n",
       "      <td>7287</td>\n",
       "      <td>Twist in the plot.. The bottom 2 teams leave!! I think everyone would be happy!! #MKR</td>\n",
       "      <td>none</td>\n",
       "      <td>#mkr</td>\n",
       "      <td></td>\n",
       "      <td>twist plot bottom team leave think everyone would happy mkr</td>\n",
       "      <td>0</td>\n",
       "      <td>twist in the plot the bottom team leave i think everyone would be happy mkr</td>\n",
       "    </tr>\n",
       "    <tr>\n",
       "      <th>7</th>\n",
       "      <td>7288</td>\n",
       "      <td>Doesn't anyone have a gif of Manu saying \"no you get out\" cos that would be awesome\\n#mkr</td>\n",
       "      <td>none</td>\n",
       "      <td>#mkr</td>\n",
       "      <td></td>\n",
       "      <td>doesnt anyone gif manu say get co would awesome mkr</td>\n",
       "      <td>0</td>\n",
       "      <td>doesnt anyone have a gif of manu say no you get out co that would be awesome mkr</td>\n",
       "    </tr>\n",
       "    <tr>\n",
       "      <th>8</th>\n",
       "      <td>7289</td>\n",
       "      <td>How Bianca puts up with Drasko is beyond me. #MKR</td>\n",
       "      <td>none</td>\n",
       "      <td>#mkr</td>\n",
       "      <td></td>\n",
       "      <td>bianca put drasko beyond mkr</td>\n",
       "      <td>0</td>\n",
       "      <td>how bianca put up with drasko be beyond me mkr</td>\n",
       "    </tr>\n",
       "    <tr>\n",
       "      <th>9</th>\n",
       "      <td>7290</td>\n",
       "      <td>What's Irene doing on #mkr?</td>\n",
       "      <td>none</td>\n",
       "      <td>#mkr</td>\n",
       "      <td></td>\n",
       "      <td>whats irene mkr</td>\n",
       "      <td>0</td>\n",
       "      <td>whats irene do on mkr</td>\n",
       "    </tr>\n",
       "  </tbody>\n",
       "</table>\n",
       "</div>"
      ],
      "text/plain": [
       "     id  \\\n",
       "0  7281   \n",
       "1  7282   \n",
       "2  7283   \n",
       "3  7284   \n",
       "4  7285   \n",
       "5  7286   \n",
       "6  7287   \n",
       "7  7288   \n",
       "8  7289   \n",
       "9  7290   \n",
       "\n",
       "                                                                                                      Tweets  \\\n",
       "0  The jokes and puns are flying free in this camping episode.\\n#mkr #mkr2015                                  \n",
       "1  #MKR Lets see who the producers think are going to be better TV - Kat or Nikki and Katie??                  \n",
       "2  Praying Jac and Shaz do well! They're my faves. #MKR                                                        \n",
       "3  RT @realityraver: Pete Evans the Paleo Capitalist has had his cookbook pulled http://t.co/VubeLWZ9l9 #mkr   \n",
       "4  If Kat and Andre stay tonight I will stop watching My Kitchen Rules. #mkr                                   \n",
       "5  #mkr Kat is defining fair..... #hypocrite                                                                   \n",
       "6  Twist in the plot.. The bottom 2 teams leave!! I think everyone would be happy!! #MKR                       \n",
       "7  Doesn't anyone have a gif of Manu saying \"no you get out\" cos that would be awesome\\n#mkr                   \n",
       "8  How Bianca puts up with Drasko is beyond me. #MKR                                                           \n",
       "9  What's Irene doing on #mkr?                                                                                 \n",
       "\n",
       "  Label         hashtags      usernames  \\\n",
       "0  none  #mkr #mkr2015                    \n",
       "1  none  #mkr                             \n",
       "2  none  #mkr                             \n",
       "3  none  #mkr             @realityraver   \n",
       "4  none  #mkr                             \n",
       "5  none  #mkr #hypocrite                  \n",
       "6  none  #mkr                             \n",
       "7  none  #mkr                             \n",
       "8  none  #mkr                             \n",
       "9  none  #mkr                             \n",
       "\n",
       "                                                  tweets_train  label_train  \\\n",
       "0  joke pun fly free camp episode mkr mkr                       0             \n",
       "1  mkr let see producer think go well tv kat nikki katie        0             \n",
       "2  pray jac shaz well theyre faves mkr                          0             \n",
       "3  pete evans paleo capitalist cookbook pull mkr                0             \n",
       "4  kat andre stay tonight stop watch kitchen rule mkr           0             \n",
       "5  mkr kat define fair hypocrite                                0             \n",
       "6  twist plot bottom team leave think everyone would happy mkr  0             \n",
       "7  doesnt anyone gif manu say get co would awesome mkr          0             \n",
       "8  bianca put drasko beyond mkr                                 0             \n",
       "9  whats irene mkr                                              0             \n",
       "\n",
       "                                                                   tweets_train_nsw  \n",
       "0  the joke and pun be fly free in this camp episode mkr mkr                         \n",
       "1  mkr let see who the producer think be go to be well tv kat or nikki and katie     \n",
       "2  pray jac and shaz do well theyre my faves mkr                                     \n",
       "3  rt pete evans the paleo capitalist have have his cookbook pull mkr                \n",
       "4  if kat and andre stay tonight i will stop watch my kitchen rule mkr               \n",
       "5  mkr kat be define fair hypocrite                                                  \n",
       "6  twist in the plot the bottom team leave i think everyone would be happy mkr       \n",
       "7  doesnt anyone have a gif of manu say no you get out co that would be awesome mkr  \n",
       "8  how bianca put up with drasko be beyond me mkr                                    \n",
       "9  whats irene do on mkr                                                             "
      ]
     },
     "execution_count": 81,
     "metadata": {},
     "output_type": "execute_result"
    }
   ],
   "source": [
    "train.head(10)"
   ]
  },
  {
   "cell_type": "code",
   "execution_count": 82,
   "metadata": {},
   "outputs": [
    {
     "data": {
      "text/plain": [
       "                                                                                                                       213\n",
       "yes                                                                                                                    21 \n",
       "rt                                                                                                                     20 \n",
       "yup                                                                                                                    16 \n",
       "here                                                                                                                   13 \n",
       "                                                                                                                       .. \n",
       "you can just do that with twitter search unless you be look to not block manually ez enough to write though            1  \n",
       "how can palestine be free when it be rule by islamofascists that behead gayspractice honor killingmurder opposition    1  \n",
       "it friday so i be go to order a pizza delivery time minute uh                                                          1  \n",
       "it total b ive see the attempt to derive ashias age use other event that effort produce about five different age       1  \n",
       "in the past hr gg hashtag saw tweetshr of which be rts min max majority of nonrt come from bot                         1  \n",
       "Name: tweets_train_nsw, Length: 12414, dtype: int64"
      ]
     },
     "execution_count": 82,
     "metadata": {},
     "output_type": "execute_result"
    }
   ],
   "source": [
    "train['tweets_train_nsw'].value_counts()"
   ]
  },
  {
   "cell_type": "markdown",
   "metadata": {},
   "source": [
    "### Checking blank tweets\n",
    "The remaining tweets are those that are not as useful in signaling their classes (hyperlinks, usernames, punctuations)."
   ]
  },
  {
   "cell_type": "code",
   "execution_count": 83,
   "metadata": {
    "scrolled": true
   },
   "outputs": [
    {
     "data": {
      "text/html": [
       "<div>\n",
       "<style scoped>\n",
       "    .dataframe tbody tr th:only-of-type {\n",
       "        vertical-align: middle;\n",
       "    }\n",
       "\n",
       "    .dataframe tbody tr th {\n",
       "        vertical-align: top;\n",
       "    }\n",
       "\n",
       "    .dataframe thead th {\n",
       "        text-align: right;\n",
       "    }\n",
       "</style>\n",
       "<table border=\"1\" class=\"dataframe\">\n",
       "  <thead>\n",
       "    <tr style=\"text-align: right;\">\n",
       "      <th></th>\n",
       "      <th>id</th>\n",
       "      <th>Tweets</th>\n",
       "      <th>Label</th>\n",
       "      <th>hashtags</th>\n",
       "      <th>usernames</th>\n",
       "      <th>tweets_train</th>\n",
       "      <th>label_train</th>\n",
       "      <th>tweets_train_nsw</th>\n",
       "    </tr>\n",
       "  </thead>\n",
       "  <tbody>\n",
       "    <tr>\n",
       "      <th>1247</th>\n",
       "      <td>8528</td>\n",
       "      <td>http://t.co/dALZL6ZuOV</td>\n",
       "      <td>none</td>\n",
       "      <td></td>\n",
       "      <td></td>\n",
       "      <td></td>\n",
       "      <td>0</td>\n",
       "      <td></td>\n",
       "    </tr>\n",
       "    <tr>\n",
       "      <th>1292</th>\n",
       "      <td>8573</td>\n",
       "      <td>http://t.co/daznQZR8Te</td>\n",
       "      <td>none</td>\n",
       "      <td></td>\n",
       "      <td></td>\n",
       "      <td></td>\n",
       "      <td>0</td>\n",
       "      <td></td>\n",
       "    </tr>\n",
       "    <tr>\n",
       "      <th>1380</th>\n",
       "      <td>8661</td>\n",
       "      <td>http://t.co/NXgtqSlchG</td>\n",
       "      <td>none</td>\n",
       "      <td></td>\n",
       "      <td></td>\n",
       "      <td></td>\n",
       "      <td>0</td>\n",
       "      <td></td>\n",
       "    </tr>\n",
       "    <tr>\n",
       "      <th>1580</th>\n",
       "      <td>8861</td>\n",
       "      <td>@sschinke http://t.co/wFqbTK0LGf</td>\n",
       "      <td>none</td>\n",
       "      <td></td>\n",
       "      <td>@sschinke</td>\n",
       "      <td></td>\n",
       "      <td>0</td>\n",
       "      <td></td>\n",
       "    </tr>\n",
       "    <tr>\n",
       "      <th>1715</th>\n",
       "      <td>8996</td>\n",
       "      <td>@theomn https://t.co/b5HFOAtfbk</td>\n",
       "      <td>none</td>\n",
       "      <td></td>\n",
       "      <td>@theomn</td>\n",
       "      <td></td>\n",
       "      <td>0</td>\n",
       "      <td></td>\n",
       "    </tr>\n",
       "    <tr>\n",
       "      <th>1728</th>\n",
       "      <td>9009</td>\n",
       "      <td>@super_trashbros https://t.co/b5HFOAtfbk</td>\n",
       "      <td>none</td>\n",
       "      <td></td>\n",
       "      <td>@super_trashbros</td>\n",
       "      <td></td>\n",
       "      <td>0</td>\n",
       "      <td></td>\n",
       "    </tr>\n",
       "    <tr>\n",
       "      <th>1748</th>\n",
       "      <td>9029</td>\n",
       "      <td>@mvelic https://t.co/b5HFOAtfbk</td>\n",
       "      <td>none</td>\n",
       "      <td></td>\n",
       "      <td>@mvelic</td>\n",
       "      <td></td>\n",
       "      <td>0</td>\n",
       "      <td></td>\n",
       "    </tr>\n",
       "    <tr>\n",
       "      <th>1750</th>\n",
       "      <td>9031</td>\n",
       "      <td>@josh_ag @ncweaver https://t.co/b5HFOAtfbk</td>\n",
       "      <td>none</td>\n",
       "      <td></td>\n",
       "      <td>@josh_ag @ncweaver</td>\n",
       "      <td></td>\n",
       "      <td>0</td>\n",
       "      <td></td>\n",
       "    </tr>\n",
       "    <tr>\n",
       "      <th>1756</th>\n",
       "      <td>9037</td>\n",
       "      <td>@onebrightlight https://t.co/b5HFOAtfbk</td>\n",
       "      <td>none</td>\n",
       "      <td></td>\n",
       "      <td>@onebrightlight</td>\n",
       "      <td></td>\n",
       "      <td>0</td>\n",
       "      <td></td>\n",
       "    </tr>\n",
       "    <tr>\n",
       "      <th>1948</th>\n",
       "      <td>9229</td>\n",
       "      <td>@directhex http://t.co/CAXXUs108l</td>\n",
       "      <td>none</td>\n",
       "      <td></td>\n",
       "      <td>@directhex</td>\n",
       "      <td></td>\n",
       "      <td>0</td>\n",
       "      <td></td>\n",
       "    </tr>\n",
       "    <tr>\n",
       "      <th>1957</th>\n",
       "      <td>9238</td>\n",
       "      <td>@aevitas_lux http://t.co/TtgdrP2oos</td>\n",
       "      <td>none</td>\n",
       "      <td></td>\n",
       "      <td>@aevitas_lux</td>\n",
       "      <td></td>\n",
       "      <td>0</td>\n",
       "      <td></td>\n",
       "    </tr>\n",
       "    <tr>\n",
       "      <th>2105</th>\n",
       "      <td>9386</td>\n",
       "      <td>@TheQuinnspiracy https://t.co/LVVahRaEZA</td>\n",
       "      <td>none</td>\n",
       "      <td></td>\n",
       "      <td>@thequinnspiracy</td>\n",
       "      <td></td>\n",
       "      <td>0</td>\n",
       "      <td></td>\n",
       "    </tr>\n",
       "    <tr>\n",
       "      <th>2186</th>\n",
       "      <td>9467</td>\n",
       "      <td>@DanAshTreeLane @Spacekatgal https://t.co/cGeIgCJgI2</td>\n",
       "      <td>none</td>\n",
       "      <td></td>\n",
       "      <td>@danashtreelane @spacekatgal</td>\n",
       "      <td></td>\n",
       "      <td>0</td>\n",
       "      <td></td>\n",
       "    </tr>\n",
       "    <tr>\n",
       "      <th>2199</th>\n",
       "      <td>9480</td>\n",
       "      <td>@youfoundthecard ?</td>\n",
       "      <td>none</td>\n",
       "      <td></td>\n",
       "      <td>@youfoundthecard</td>\n",
       "      <td></td>\n",
       "      <td>0</td>\n",
       "      <td></td>\n",
       "    </tr>\n",
       "    <tr>\n",
       "      <th>2460</th>\n",
       "      <td>9741</td>\n",
       "      <td>@ANDAASONSAN https://t.co/dtjOHnRNhQ</td>\n",
       "      <td>none</td>\n",
       "      <td></td>\n",
       "      <td>@andaasonsan</td>\n",
       "      <td></td>\n",
       "      <td>0</td>\n",
       "      <td></td>\n",
       "    </tr>\n",
       "    <tr>\n",
       "      <th>2481</th>\n",
       "      <td>9762</td>\n",
       "      <td>@sinboy https://t.co/T7sChyC2Vs</td>\n",
       "      <td>none</td>\n",
       "      <td></td>\n",
       "      <td>@sinboy</td>\n",
       "      <td></td>\n",
       "      <td>0</td>\n",
       "      <td></td>\n",
       "    </tr>\n",
       "    <tr>\n",
       "      <th>2514</th>\n",
       "      <td>9795</td>\n",
       "      <td>@milfgaardian @LeenaVanD http://t.co/BXygHtfPk6</td>\n",
       "      <td>none</td>\n",
       "      <td></td>\n",
       "      <td>@milfgaardian @leenavand</td>\n",
       "      <td></td>\n",
       "      <td>0</td>\n",
       "      <td></td>\n",
       "    </tr>\n",
       "    <tr>\n",
       "      <th>2544</th>\n",
       "      <td>9825</td>\n",
       "      <td>@Asajii http://t.co/BXygHtfPk6</td>\n",
       "      <td>none</td>\n",
       "      <td></td>\n",
       "      <td>@asajii</td>\n",
       "      <td></td>\n",
       "      <td>0</td>\n",
       "      <td></td>\n",
       "    </tr>\n",
       "    <tr>\n",
       "      <th>2596</th>\n",
       "      <td>9877</td>\n",
       "      <td>@KaelaJael http://t.co/BXygHtfPk6</td>\n",
       "      <td>none</td>\n",
       "      <td></td>\n",
       "      <td>@kaelajael</td>\n",
       "      <td></td>\n",
       "      <td>0</td>\n",
       "      <td></td>\n",
       "    </tr>\n",
       "    <tr>\n",
       "      <th>2599</th>\n",
       "      <td>9880</td>\n",
       "      <td>@jsigj http://t.co/BXygHtfPk6</td>\n",
       "      <td>none</td>\n",
       "      <td></td>\n",
       "      <td>@jsigj</td>\n",
       "      <td></td>\n",
       "      <td>0</td>\n",
       "      <td></td>\n",
       "    </tr>\n",
       "  </tbody>\n",
       "</table>\n",
       "</div>"
      ],
      "text/plain": [
       "        id                                                Tweets Label  \\\n",
       "1247  8528  http://t.co/dALZL6ZuOV                                none   \n",
       "1292  8573  http://t.co/daznQZR8Te                                none   \n",
       "1380  8661  http://t.co/NXgtqSlchG                                none   \n",
       "1580  8861  @sschinke http://t.co/wFqbTK0LGf                      none   \n",
       "1715  8996  @theomn https://t.co/b5HFOAtfbk                       none   \n",
       "1728  9009  @super_trashbros https://t.co/b5HFOAtfbk              none   \n",
       "1748  9029  @mvelic https://t.co/b5HFOAtfbk                       none   \n",
       "1750  9031  @josh_ag @ncweaver https://t.co/b5HFOAtfbk            none   \n",
       "1756  9037  @onebrightlight https://t.co/b5HFOAtfbk               none   \n",
       "1948  9229  @directhex http://t.co/CAXXUs108l                     none   \n",
       "1957  9238  @aevitas_lux http://t.co/TtgdrP2oos                   none   \n",
       "2105  9386  @TheQuinnspiracy https://t.co/LVVahRaEZA              none   \n",
       "2186  9467  @DanAshTreeLane @Spacekatgal https://t.co/cGeIgCJgI2  none   \n",
       "2199  9480  @youfoundthecard ?                                    none   \n",
       "2460  9741  @ANDAASONSAN https://t.co/dtjOHnRNhQ                  none   \n",
       "2481  9762  @sinboy https://t.co/T7sChyC2Vs                       none   \n",
       "2514  9795  @milfgaardian @LeenaVanD http://t.co/BXygHtfPk6       none   \n",
       "2544  9825  @Asajii http://t.co/BXygHtfPk6                        none   \n",
       "2596  9877  @KaelaJael http://t.co/BXygHtfPk6                     none   \n",
       "2599  9880  @jsigj http://t.co/BXygHtfPk6                         none   \n",
       "\n",
       "     hashtags                     usernames tweets_train  label_train  \\\n",
       "1247                                                      0             \n",
       "1292                                                      0             \n",
       "1380                                                      0             \n",
       "1580           @sschinke                                  0             \n",
       "1715           @theomn                                    0             \n",
       "1728           @super_trashbros                           0             \n",
       "1748           @mvelic                                    0             \n",
       "1750           @josh_ag @ncweaver                         0             \n",
       "1756           @onebrightlight                            0             \n",
       "1948           @directhex                                 0             \n",
       "1957           @aevitas_lux                               0             \n",
       "2105           @thequinnspiracy                           0             \n",
       "2186           @danashtreelane @spacekatgal               0             \n",
       "2199           @youfoundthecard                           0             \n",
       "2460           @andaasonsan                               0             \n",
       "2481           @sinboy                                    0             \n",
       "2514           @milfgaardian @leenavand                   0             \n",
       "2544           @asajii                                    0             \n",
       "2596           @kaelajael                                 0             \n",
       "2599           @jsigj                                     0             \n",
       "\n",
       "     tweets_train_nsw  \n",
       "1247                   \n",
       "1292                   \n",
       "1380                   \n",
       "1580                   \n",
       "1715                   \n",
       "1728                   \n",
       "1748                   \n",
       "1750                   \n",
       "1756                   \n",
       "1948                   \n",
       "1957                   \n",
       "2105                   \n",
       "2186                   \n",
       "2199                   \n",
       "2460                   \n",
       "2481                   \n",
       "2514                   \n",
       "2544                   \n",
       "2596                   \n",
       "2599                   "
      ]
     },
     "execution_count": 83,
     "metadata": {},
     "output_type": "execute_result"
    }
   ],
   "source": [
    "train[train['tweets_train_nsw'] == ''].head(20)"
   ]
  },
  {
   "cell_type": "code",
   "execution_count": 84,
   "metadata": {},
   "outputs": [
    {
     "data": {
      "text/plain": [
       "none      211\n",
       "sexism    2  \n",
       "Name: Label, dtype: int64"
      ]
     },
     "execution_count": 84,
     "metadata": {},
     "output_type": "execute_result"
    }
   ],
   "source": [
    "train[train['tweets_train_nsw'] == '']['Label'].value_counts()"
   ]
  },
  {
   "cell_type": "markdown",
   "metadata": {},
   "source": [
    "The blank tweets will be removed for training."
   ]
  },
  {
   "cell_type": "code",
   "execution_count": 85,
   "metadata": {},
   "outputs": [],
   "source": [
    "tweets_train_nbnsw = train[train['tweets_train_nsw'] != '']"
   ]
  },
  {
   "cell_type": "markdown",
   "metadata": {},
   "source": [
    " "
   ]
  },
  {
   "cell_type": "markdown",
   "metadata": {},
   "source": [
    "#### Split train test"
   ]
  },
  {
   "cell_type": "code",
   "execution_count": 86,
   "metadata": {},
   "outputs": [],
   "source": [
    "X_train_nsw, X_test_nsw, y_train_nsw, y_test_nsw = train_test_split(tweets_train_nbnsw['tweets_train_nsw'], tweets_train_nbnsw['label_train'], test_size=0.2, random_state=12)"
   ]
  },
  {
   "cell_type": "code",
   "execution_count": 87,
   "metadata": {},
   "outputs": [],
   "source": [
    "lr_nsw = Pipeline(steps = [('tfidf', TfidfVectorizer(analyzer='char', \n",
    "                                                          max_df=0.25, \n",
    "                                                          ngram_range=(1,4))),\n",
    "                                \n",
    "                        ('lr', LogisticRegression(multi_class=\"auto\", \n",
    "                                                  solver='lbfgs', \n",
    "                                                  class_weight='balanced',\n",
    "                                                  max_iter=1000,\n",
    "                                                  random_state=12))])"
   ]
  },
  {
   "cell_type": "code",
   "execution_count": 88,
   "metadata": {},
   "outputs": [
    {
     "data": {
      "text/plain": [
       "Pipeline(steps=[('tfidf',\n",
       "                 TfidfVectorizer(analyzer='char', max_df=0.25,\n",
       "                                 ngram_range=(1, 4))),\n",
       "                ('lr',\n",
       "                 LogisticRegression(class_weight='balanced', max_iter=1000,\n",
       "                                    random_state=12))])"
      ]
     },
     "execution_count": 88,
     "metadata": {},
     "output_type": "execute_result"
    }
   ],
   "source": [
    "lr_nsw.fit(X_train_nsw, y_train_nsw)"
   ]
  },
  {
   "cell_type": "code",
   "execution_count": 89,
   "metadata": {},
   "outputs": [
    {
     "name": "stdout",
     "output_type": "stream",
     "text": [
      "              precision    recall  f1-score   support\n",
      "\n",
      "           0      0.883     0.853     0.868      1696\n",
      "           1      0.673     0.848     0.750       310\n",
      "           2      0.737     0.703     0.719       518\n",
      "\n",
      "    accuracy                          0.822      2524\n",
      "   macro avg      0.764     0.801     0.779      2524\n",
      "weighted avg      0.827     0.822     0.823      2524\n",
      "\n"
     ]
    }
   ],
   "source": [
    "lr_nsw_pred = lr_nsw.predict(X_test_nsw)\n",
    "print(metrics.classification_report(y_test_nsw, lr_nsw_pred, digits=3))"
   ]
  },
  {
   "cell_type": "code",
   "execution_count": 90,
   "metadata": {},
   "outputs": [
    {
     "data": {
      "text/html": [
       "<div>\n",
       "<style scoped>\n",
       "    .dataframe tbody tr th:only-of-type {\n",
       "        vertical-align: middle;\n",
       "    }\n",
       "\n",
       "    .dataframe tbody tr th {\n",
       "        vertical-align: top;\n",
       "    }\n",
       "\n",
       "    .dataframe thead th {\n",
       "        text-align: right;\n",
       "    }\n",
       "</style>\n",
       "<table border=\"1\" class=\"dataframe\">\n",
       "  <thead>\n",
       "    <tr style=\"text-align: right;\">\n",
       "      <th></th>\n",
       "      <th>1</th>\n",
       "      <th>feature</th>\n",
       "    </tr>\n",
       "  </thead>\n",
       "  <tbody>\n",
       "    <tr>\n",
       "      <th>30173</th>\n",
       "      <td>3.399014</td>\n",
       "      <td>sl</td>\n",
       "    </tr>\n",
       "    <tr>\n",
       "      <th>30176</th>\n",
       "      <td>2.713366</td>\n",
       "      <td>sla</td>\n",
       "    </tr>\n",
       "    <tr>\n",
       "      <th>30179</th>\n",
       "      <td>2.277965</td>\n",
       "      <td>slam</td>\n",
       "    </tr>\n",
       "    <tr>\n",
       "      <th>16920</th>\n",
       "      <td>2.197214</td>\n",
       "      <td>isla</td>\n",
       "    </tr>\n",
       "    <tr>\n",
       "      <th>1245</th>\n",
       "      <td>2.138583</td>\n",
       "      <td>is</td>\n",
       "    </tr>\n",
       "    <tr>\n",
       "      <th>16919</th>\n",
       "      <td>2.112099</td>\n",
       "      <td>isl</td>\n",
       "    </tr>\n",
       "    <tr>\n",
       "      <th>18689</th>\n",
       "      <td>2.096958</td>\n",
       "      <td>lam</td>\n",
       "    </tr>\n",
       "    <tr>\n",
       "      <th>18626</th>\n",
       "      <td>2.029849</td>\n",
       "      <td>la</td>\n",
       "    </tr>\n",
       "    <tr>\n",
       "      <th>19213</th>\n",
       "      <td>1.966354</td>\n",
       "      <td>lim</td>\n",
       "    </tr>\n",
       "    <tr>\n",
       "      <th>27352</th>\n",
       "      <td>1.966129</td>\n",
       "      <td>ra</td>\n",
       "    </tr>\n",
       "    <tr>\n",
       "      <th>21186</th>\n",
       "      <td>1.964432</td>\n",
       "      <td>mu</td>\n",
       "    </tr>\n",
       "    <tr>\n",
       "      <th>30200</th>\n",
       "      <td>1.957885</td>\n",
       "      <td>slim</td>\n",
       "    </tr>\n",
       "    <tr>\n",
       "      <th>1668</th>\n",
       "      <td>1.939667</td>\n",
       "      <td>mu</td>\n",
       "    </tr>\n",
       "    <tr>\n",
       "      <th>21229</th>\n",
       "      <td>1.928909</td>\n",
       "      <td>musl</td>\n",
       "    </tr>\n",
       "    <tr>\n",
       "      <th>34096</th>\n",
       "      <td>1.928909</td>\n",
       "      <td>usli</td>\n",
       "    </tr>\n",
       "  </tbody>\n",
       "</table>\n",
       "</div>"
      ],
      "text/plain": [
       "              1 feature\n",
       "30173  3.399014  sl    \n",
       "30176  2.713366  sla   \n",
       "30179  2.277965  slam  \n",
       "16920  2.197214  isla  \n",
       "1245   2.138583   is   \n",
       "16919  2.112099  isl   \n",
       "18689  2.096958  lam   \n",
       "18626  2.029849  la    \n",
       "19213  1.966354  lim   \n",
       "27352  1.966129  ra    \n",
       "21186  1.964432  mu    \n",
       "30200  1.957885  slim  \n",
       "1668   1.939667   mu   \n",
       "21229  1.928909  musl  \n",
       "34096  1.928909  usli  "
      ]
     },
     "metadata": {},
     "output_type": "display_data"
    },
    {
     "data": {
      "text/html": [
       "<div>\n",
       "<style scoped>\n",
       "    .dataframe tbody tr th:only-of-type {\n",
       "        vertical-align: middle;\n",
       "    }\n",
       "\n",
       "    .dataframe tbody tr th {\n",
       "        vertical-align: top;\n",
       "    }\n",
       "\n",
       "    .dataframe thead th {\n",
       "        text-align: right;\n",
       "    }\n",
       "</style>\n",
       "<table border=\"1\" class=\"dataframe\">\n",
       "  <thead>\n",
       "    <tr style=\"text-align: right;\">\n",
       "      <th></th>\n",
       "      <th>2</th>\n",
       "      <th>feature</th>\n",
       "    </tr>\n",
       "  </thead>\n",
       "  <tbody>\n",
       "    <tr>\n",
       "      <th>12312</th>\n",
       "      <td>2.409761</td>\n",
       "      <td>fem</td>\n",
       "    </tr>\n",
       "    <tr>\n",
       "      <th>29815</th>\n",
       "      <td>2.193728</td>\n",
       "      <td>sexi</td>\n",
       "    </tr>\n",
       "    <tr>\n",
       "      <th>35983</th>\n",
       "      <td>2.127050</td>\n",
       "      <td>xist</td>\n",
       "    </tr>\n",
       "    <tr>\n",
       "      <th>29811</th>\n",
       "      <td>2.107415</td>\n",
       "      <td>sex</td>\n",
       "    </tr>\n",
       "    <tr>\n",
       "      <th>35957</th>\n",
       "      <td>1.815155</td>\n",
       "      <td>xi</td>\n",
       "    </tr>\n",
       "    <tr>\n",
       "      <th>11786</th>\n",
       "      <td>1.811996</td>\n",
       "      <td>exi</td>\n",
       "    </tr>\n",
       "    <tr>\n",
       "      <th>11790</th>\n",
       "      <td>1.800505</td>\n",
       "      <td>exis</td>\n",
       "    </tr>\n",
       "    <tr>\n",
       "      <th>35980</th>\n",
       "      <td>1.796385</td>\n",
       "      <td>xis</td>\n",
       "    </tr>\n",
       "    <tr>\n",
       "      <th>824</th>\n",
       "      <td>1.725947</td>\n",
       "      <td>fem</td>\n",
       "    </tr>\n",
       "    <tr>\n",
       "      <th>17813</th>\n",
       "      <td>1.672416</td>\n",
       "      <td>kat</td>\n",
       "    </tr>\n",
       "    <tr>\n",
       "      <th>17812</th>\n",
       "      <td>1.647963</td>\n",
       "      <td>kat</td>\n",
       "    </tr>\n",
       "    <tr>\n",
       "      <th>17761</th>\n",
       "      <td>1.582821</td>\n",
       "      <td>ka</td>\n",
       "    </tr>\n",
       "    <tr>\n",
       "      <th>31054</th>\n",
       "      <td>1.531611</td>\n",
       "      <td>t bu</td>\n",
       "    </tr>\n",
       "    <tr>\n",
       "      <th>12259</th>\n",
       "      <td>1.519867</td>\n",
       "      <td>fe</td>\n",
       "    </tr>\n",
       "    <tr>\n",
       "      <th>31268</th>\n",
       "      <td>1.505361</td>\n",
       "      <td>t s</td>\n",
       "    </tr>\n",
       "  </tbody>\n",
       "</table>\n",
       "</div>"
      ],
      "text/plain": [
       "              2 feature\n",
       "12312  2.409761  fem   \n",
       "29815  2.193728  sexi  \n",
       "35983  2.127050  xist  \n",
       "29811  2.107415  sex   \n",
       "35957  1.815155  xi    \n",
       "11786  1.811996  exi   \n",
       "11790  1.800505  exis  \n",
       "35980  1.796385  xis   \n",
       "824    1.725947   fem  \n",
       "17813  1.672416  kat   \n",
       "17812  1.647963  kat   \n",
       "17761  1.582821  ka    \n",
       "31054  1.531611  t bu  \n",
       "12259  1.519867  fe    \n",
       "31268  1.505361  t s   "
      ]
     },
     "metadata": {},
     "output_type": "display_data"
    }
   ],
   "source": [
    "nsw_coefs_df = pd.DataFrame(lr_nsw.named_steps['lr'].coef_).transpose()\n",
    "nsw_feature_array = lr_nsw.named_steps['tfidf'].get_feature_names()\n",
    "\n",
    "nsw_feature_coefs_df = nsw_coefs_df.join(pd.DataFrame(nsw_feature_array, columns=['feature']))\n",
    "\n",
    "nsw_racism = nsw_feature_coefs_df.loc[:, [1, 'feature']].sort_values(by=1, ascending=False).head(15)\n",
    "nsw_sexism = nsw_feature_coefs_df.loc[:, [2, 'feature']].sort_values(by=2, ascending=False).head(15)\n",
    "\n",
    "display(nsw_racism)\n",
    "display(nsw_sexism)"
   ]
  },
  {
   "cell_type": "markdown",
   "metadata": {},
   "source": [
    "Comparing the feature importance of the 2 classes for the two models, logit model without stopwords and logit model with stopwords, the former seems to have a stronger differentiation among the n-grams (giving higher weights to the top 5 n-grams). \n",
    "\n",
    "The logit model without stopwords will be used for testing. "
   ]
  },
  {
   "cell_type": "markdown",
   "metadata": {},
   "source": [
    " "
   ]
  },
  {
   "cell_type": "markdown",
   "metadata": {},
   "source": [
    " "
   ]
  },
  {
   "cell_type": "markdown",
   "metadata": {},
   "source": [
    "# Test on actual Test set"
   ]
  },
  {
   "cell_type": "code",
   "execution_count": 91,
   "metadata": {},
   "outputs": [
    {
     "data": {
      "text/html": [
       "<div>\n",
       "<style scoped>\n",
       "    .dataframe tbody tr th:only-of-type {\n",
       "        vertical-align: middle;\n",
       "    }\n",
       "\n",
       "    .dataframe tbody tr th {\n",
       "        vertical-align: top;\n",
       "    }\n",
       "\n",
       "    .dataframe thead th {\n",
       "        text-align: right;\n",
       "    }\n",
       "</style>\n",
       "<table border=\"1\" class=\"dataframe\">\n",
       "  <thead>\n",
       "    <tr style=\"text-align: right;\">\n",
       "      <th></th>\n",
       "      <th>id</th>\n",
       "      <th>Tweets</th>\n",
       "      <th>Label</th>\n",
       "    </tr>\n",
       "  </thead>\n",
       "  <tbody>\n",
       "    <tr>\n",
       "      <th>0</th>\n",
       "      <td>5014</td>\n",
       "      <td>#mkr at least there are judging honestly</td>\n",
       "      <td>none</td>\n",
       "    </tr>\n",
       "    <tr>\n",
       "      <th>1</th>\n",
       "      <td>5015</td>\n",
       "      <td>At the end of this Steve is going to run away to Mexico and go into witness protection #MKR</td>\n",
       "      <td>none</td>\n",
       "    </tr>\n",
       "    <tr>\n",
       "      <th>2</th>\n",
       "      <td>5016</td>\n",
       "      <td>Catching up on #MKR. Did Nikki &amp;amp; Katie get a script to say the things they are saying because I wouldn't be caught dead saying any of that!</td>\n",
       "      <td>none</td>\n",
       "    </tr>\n",
       "    <tr>\n",
       "      <th>3</th>\n",
       "      <td>5017</td>\n",
       "      <td>Has anyone made a Twitter account for Rob's hat yet? #MKR</td>\n",
       "      <td>none</td>\n",
       "    </tr>\n",
       "    <tr>\n",
       "      <th>4</th>\n",
       "      <td>5020</td>\n",
       "      <td>Will someone pls assist Colin in the washing of his hair. Sorry Colin, big fan but pls... Some shampoo mate! #mkr</td>\n",
       "      <td>none</td>\n",
       "    </tr>\n",
       "    <tr>\n",
       "      <th>5</th>\n",
       "      <td>5026</td>\n",
       "      <td>#mkr if they had to walk up and down there steps to use the loo all night..\\n2 much effort @Sarah_jane666</td>\n",
       "      <td>none</td>\n",
       "    </tr>\n",
       "    <tr>\n",
       "      <th>6</th>\n",
       "      <td>5027</td>\n",
       "      <td>Cream and crumbs on a plate....work it gurls #MKR</td>\n",
       "      <td>none</td>\n",
       "    </tr>\n",
       "    <tr>\n",
       "      <th>7</th>\n",
       "      <td>5028</td>\n",
       "      <td>I'm done - won't bother with the rest of this pathetic shit show #mkr</td>\n",
       "      <td>none</td>\n",
       "    </tr>\n",
       "    <tr>\n",
       "      <th>8</th>\n",
       "      <td>5029</td>\n",
       "      <td>“@TodClarey: lemon \"tart\" looks like shit #MKR”\\n\\nPlease- don't  hold back - tell it how you see it</td>\n",
       "      <td>none</td>\n",
       "    </tr>\n",
       "    <tr>\n",
       "      <th>9</th>\n",
       "      <td>5030</td>\n",
       "      <td>Why do teams look shocked when they announce the final score will be revealed at a different location? Haven't they watched #mkr before?</td>\n",
       "      <td>none</td>\n",
       "    </tr>\n",
       "  </tbody>\n",
       "</table>\n",
       "</div>"
      ],
      "text/plain": [
       "     id  \\\n",
       "0  5014   \n",
       "1  5015   \n",
       "2  5016   \n",
       "3  5017   \n",
       "4  5020   \n",
       "5  5026   \n",
       "6  5027   \n",
       "7  5028   \n",
       "8  5029   \n",
       "9  5030   \n",
       "\n",
       "                                                                                                                                            Tweets  \\\n",
       "0  #mkr at least there are judging honestly                                                                                                          \n",
       "1  At the end of this Steve is going to run away to Mexico and go into witness protection #MKR                                                       \n",
       "2  Catching up on #MKR. Did Nikki &amp; Katie get a script to say the things they are saying because I wouldn't be caught dead saying any of that!   \n",
       "3  Has anyone made a Twitter account for Rob's hat yet? #MKR                                                                                         \n",
       "4  Will someone pls assist Colin in the washing of his hair. Sorry Colin, big fan but pls... Some shampoo mate! #mkr                                 \n",
       "5  #mkr if they had to walk up and down there steps to use the loo all night..\\n2 much effort @Sarah_jane666                                         \n",
       "6  Cream and crumbs on a plate....work it gurls #MKR                                                                                                 \n",
       "7  I'm done - won't bother with the rest of this pathetic shit show #mkr                                                                             \n",
       "8  “@TodClarey: lemon \"tart\" looks like shit #MKR”\\n\\nPlease- don't  hold back - tell it how you see it                                              \n",
       "9  Why do teams look shocked when they announce the final score will be revealed at a different location? Haven't they watched #mkr before?          \n",
       "\n",
       "  Label  \n",
       "0  none  \n",
       "1  none  \n",
       "2  none  \n",
       "3  none  \n",
       "4  none  \n",
       "5  none  \n",
       "6  none  \n",
       "7  none  \n",
       "8  none  \n",
       "9  none  "
      ]
     },
     "execution_count": 91,
     "metadata": {},
     "output_type": "execute_result"
    }
   ],
   "source": [
    "test = pd.read_csv(\"dataset_test.csv\", engine='python')\n",
    "test.head(10)"
   ]
  },
  {
   "cell_type": "code",
   "execution_count": 92,
   "metadata": {},
   "outputs": [
    {
     "data": {
      "text/plain": [
       "(3206, 3)"
      ]
     },
     "execution_count": 92,
     "metadata": {},
     "output_type": "execute_result"
    }
   ],
   "source": [
    "test.shape"
   ]
  },
  {
   "cell_type": "markdown",
   "metadata": {},
   "source": [
    "##### Same distribution of classes as per Training data"
   ]
  },
  {
   "cell_type": "code",
   "execution_count": 93,
   "metadata": {},
   "outputs": [
    {
     "data": {
      "text/plain": [
       "none      2186\n",
       "sexism    633 \n",
       "racism    387 \n",
       "Name: Label, dtype: int64"
      ]
     },
     "execution_count": 93,
     "metadata": {},
     "output_type": "execute_result"
    }
   ],
   "source": [
    "test.Label.value_counts()"
   ]
  },
  {
   "cell_type": "code",
   "execution_count": 94,
   "metadata": {},
   "outputs": [
    {
     "data": {
      "text/plain": [
       "none      0.681847\n",
       "sexism    0.197442\n",
       "racism    0.120711\n",
       "Name: Label, dtype: float64"
      ]
     },
     "execution_count": 94,
     "metadata": {},
     "output_type": "execute_result"
    }
   ],
   "source": [
    "test.Label.value_counts(normalize=True)"
   ]
  },
  {
   "cell_type": "markdown",
   "metadata": {},
   "source": [
    " "
   ]
  },
  {
   "cell_type": "markdown",
   "metadata": {},
   "source": [
    "## Preprocess Tweets in Test set"
   ]
  },
  {
   "cell_type": "code",
   "execution_count": 95,
   "metadata": {},
   "outputs": [],
   "source": [
    "test_clean_tokens = clean_tokenizer(test['Tweets'])"
   ]
  },
  {
   "cell_type": "code",
   "execution_count": 96,
   "metadata": {},
   "outputs": [],
   "source": [
    "test_lemmatized = [[lemmatizer.lemmatize(w, get_wordnet_pos(w)) for w in t] for t in test_clean_tokens]"
   ]
  },
  {
   "cell_type": "code",
   "execution_count": 97,
   "metadata": {},
   "outputs": [],
   "source": [
    "tweets_test = [[w for w in t if w not in stopword_list and w != ('rt')] for t in test_lemmatized]"
   ]
  },
  {
   "cell_type": "code",
   "execution_count": 98,
   "metadata": {},
   "outputs": [],
   "source": [
    "test['tweets_test'] = tweets_test\n",
    "test['tweets_test'] = test['tweets_test'].apply(lambda x: ' '.join([w for w in x]))"
   ]
  },
  {
   "cell_type": "code",
   "execution_count": 99,
   "metadata": {},
   "outputs": [
    {
     "data": {
      "text/html": [
       "<div>\n",
       "<style scoped>\n",
       "    .dataframe tbody tr th:only-of-type {\n",
       "        vertical-align: middle;\n",
       "    }\n",
       "\n",
       "    .dataframe tbody tr th {\n",
       "        vertical-align: top;\n",
       "    }\n",
       "\n",
       "    .dataframe thead th {\n",
       "        text-align: right;\n",
       "    }\n",
       "</style>\n",
       "<table border=\"1\" class=\"dataframe\">\n",
       "  <thead>\n",
       "    <tr style=\"text-align: right;\">\n",
       "      <th></th>\n",
       "      <th>id</th>\n",
       "      <th>Tweets</th>\n",
       "      <th>Label</th>\n",
       "      <th>tweets_test</th>\n",
       "    </tr>\n",
       "  </thead>\n",
       "  <tbody>\n",
       "    <tr>\n",
       "      <th>0</th>\n",
       "      <td>5014</td>\n",
       "      <td>#mkr at least there are judging honestly</td>\n",
       "      <td>none</td>\n",
       "      <td>mkr least judging honestly</td>\n",
       "    </tr>\n",
       "    <tr>\n",
       "      <th>1</th>\n",
       "      <td>5015</td>\n",
       "      <td>At the end of this Steve is going to run away to Mexico and go into witness protection #MKR</td>\n",
       "      <td>none</td>\n",
       "      <td>end steve go run away mexico go witness protection mkr</td>\n",
       "    </tr>\n",
       "    <tr>\n",
       "      <th>2</th>\n",
       "      <td>5016</td>\n",
       "      <td>Catching up on #MKR. Did Nikki &amp;amp; Katie get a script to say the things they are saying because I wouldn't be caught dead saying any of that!</td>\n",
       "      <td>none</td>\n",
       "      <td>catch mkr nikki amp katie get script say thing say wouldnt caught dead say</td>\n",
       "    </tr>\n",
       "    <tr>\n",
       "      <th>3</th>\n",
       "      <td>5017</td>\n",
       "      <td>Has anyone made a Twitter account for Rob's hat yet? #MKR</td>\n",
       "      <td>none</td>\n",
       "      <td>anyone make twitter account robs hat yet mkr</td>\n",
       "    </tr>\n",
       "    <tr>\n",
       "      <th>4</th>\n",
       "      <td>5020</td>\n",
       "      <td>Will someone pls assist Colin in the washing of his hair. Sorry Colin, big fan but pls... Some shampoo mate! #mkr</td>\n",
       "      <td>none</td>\n",
       "      <td>someone pls assist colin wash hair sorry colin big fan pls shampoo mate mkr</td>\n",
       "    </tr>\n",
       "    <tr>\n",
       "      <th>5</th>\n",
       "      <td>5026</td>\n",
       "      <td>#mkr if they had to walk up and down there steps to use the loo all night..\\n2 much effort @Sarah_jane666</td>\n",
       "      <td>none</td>\n",
       "      <td>mkr walk step use loo night much effort</td>\n",
       "    </tr>\n",
       "    <tr>\n",
       "      <th>6</th>\n",
       "      <td>5027</td>\n",
       "      <td>Cream and crumbs on a plate....work it gurls #MKR</td>\n",
       "      <td>none</td>\n",
       "      <td>cream crumb platework gurls mkr</td>\n",
       "    </tr>\n",
       "    <tr>\n",
       "      <th>7</th>\n",
       "      <td>5028</td>\n",
       "      <td>I'm done - won't bother with the rest of this pathetic shit show #mkr</td>\n",
       "      <td>none</td>\n",
       "      <td>im wont bother rest pathetic shit show mkr</td>\n",
       "    </tr>\n",
       "    <tr>\n",
       "      <th>8</th>\n",
       "      <td>5029</td>\n",
       "      <td>“@TodClarey: lemon \"tart\" looks like shit #MKR”\\n\\nPlease- don't  hold back - tell it how you see it</td>\n",
       "      <td>none</td>\n",
       "      <td>lemon tart look like shit mkr please dont hold back tell see</td>\n",
       "    </tr>\n",
       "    <tr>\n",
       "      <th>9</th>\n",
       "      <td>5030</td>\n",
       "      <td>Why do teams look shocked when they announce the final score will be revealed at a different location? Haven't they watched #mkr before?</td>\n",
       "      <td>none</td>\n",
       "      <td>team look shock announce final score reveal different location havent watch mkr</td>\n",
       "    </tr>\n",
       "  </tbody>\n",
       "</table>\n",
       "</div>"
      ],
      "text/plain": [
       "     id  \\\n",
       "0  5014   \n",
       "1  5015   \n",
       "2  5016   \n",
       "3  5017   \n",
       "4  5020   \n",
       "5  5026   \n",
       "6  5027   \n",
       "7  5028   \n",
       "8  5029   \n",
       "9  5030   \n",
       "\n",
       "                                                                                                                                            Tweets  \\\n",
       "0  #mkr at least there are judging honestly                                                                                                          \n",
       "1  At the end of this Steve is going to run away to Mexico and go into witness protection #MKR                                                       \n",
       "2  Catching up on #MKR. Did Nikki &amp; Katie get a script to say the things they are saying because I wouldn't be caught dead saying any of that!   \n",
       "3  Has anyone made a Twitter account for Rob's hat yet? #MKR                                                                                         \n",
       "4  Will someone pls assist Colin in the washing of his hair. Sorry Colin, big fan but pls... Some shampoo mate! #mkr                                 \n",
       "5  #mkr if they had to walk up and down there steps to use the loo all night..\\n2 much effort @Sarah_jane666                                         \n",
       "6  Cream and crumbs on a plate....work it gurls #MKR                                                                                                 \n",
       "7  I'm done - won't bother with the rest of this pathetic shit show #mkr                                                                             \n",
       "8  “@TodClarey: lemon \"tart\" looks like shit #MKR”\\n\\nPlease- don't  hold back - tell it how you see it                                              \n",
       "9  Why do teams look shocked when they announce the final score will be revealed at a different location? Haven't they watched #mkr before?          \n",
       "\n",
       "  Label  \\\n",
       "0  none   \n",
       "1  none   \n",
       "2  none   \n",
       "3  none   \n",
       "4  none   \n",
       "5  none   \n",
       "6  none   \n",
       "7  none   \n",
       "8  none   \n",
       "9  none   \n",
       "\n",
       "                                                                       tweets_test  \n",
       "0  mkr least judging honestly                                                       \n",
       "1  end steve go run away mexico go witness protection mkr                           \n",
       "2  catch mkr nikki amp katie get script say thing say wouldnt caught dead say       \n",
       "3  anyone make twitter account robs hat yet mkr                                     \n",
       "4  someone pls assist colin wash hair sorry colin big fan pls shampoo mate mkr      \n",
       "5  mkr walk step use loo night much effort                                          \n",
       "6  cream crumb platework gurls mkr                                                  \n",
       "7  im wont bother rest pathetic shit show mkr                                       \n",
       "8  lemon tart look like shit mkr please dont hold back tell see                     \n",
       "9  team look shock announce final score reveal different location havent watch mkr  "
      ]
     },
     "execution_count": 99,
     "metadata": {},
     "output_type": "execute_result"
    }
   ],
   "source": [
    "test = test[test['tweets_test'] != ''] # remove blank tweets\n",
    "test.head(10)"
   ]
  },
  {
   "cell_type": "markdown",
   "metadata": {},
   "source": [
    " "
   ]
  },
  {
   "cell_type": "markdown",
   "metadata": {},
   "source": [
    "## Looking at clean Test data"
   ]
  },
  {
   "cell_type": "code",
   "execution_count": 100,
   "metadata": {},
   "outputs": [
    {
     "data": {
      "text/html": [
       "<div>\n",
       "<style scoped>\n",
       "    .dataframe tbody tr th:only-of-type {\n",
       "        vertical-align: middle;\n",
       "    }\n",
       "\n",
       "    .dataframe tbody tr th {\n",
       "        vertical-align: top;\n",
       "    }\n",
       "\n",
       "    .dataframe thead th {\n",
       "        text-align: right;\n",
       "    }\n",
       "</style>\n",
       "<table border=\"1\" class=\"dataframe\">\n",
       "  <thead>\n",
       "    <tr style=\"text-align: right;\">\n",
       "      <th></th>\n",
       "      <th>Token Count</th>\n",
       "      <th>Distribution (%)</th>\n",
       "    </tr>\n",
       "  </thead>\n",
       "  <tbody>\n",
       "    <tr>\n",
       "      <th>islam</th>\n",
       "      <td>177.0</td>\n",
       "      <td>5.34</td>\n",
       "    </tr>\n",
       "    <tr>\n",
       "      <th>muslim</th>\n",
       "      <td>99.0</td>\n",
       "      <td>2.98</td>\n",
       "    </tr>\n",
       "    <tr>\n",
       "      <th>murder</th>\n",
       "      <td>56.0</td>\n",
       "      <td>1.69</td>\n",
       "    </tr>\n",
       "    <tr>\n",
       "      <th>religion</th>\n",
       "      <td>50.0</td>\n",
       "      <td>1.51</td>\n",
       "    </tr>\n",
       "    <tr>\n",
       "      <th>not</th>\n",
       "      <td>42.0</td>\n",
       "      <td>1.27</td>\n",
       "    </tr>\n",
       "    <tr>\n",
       "      <th>prophet</th>\n",
       "      <td>38.0</td>\n",
       "      <td>1.15</td>\n",
       "    </tr>\n",
       "    <tr>\n",
       "      <th>people</th>\n",
       "      <td>36.0</td>\n",
       "      <td>1.09</td>\n",
       "    </tr>\n",
       "    <tr>\n",
       "      <th>mohammed</th>\n",
       "      <td>33.0</td>\n",
       "      <td>0.99</td>\n",
       "    </tr>\n",
       "    <tr>\n",
       "      <th>year</th>\n",
       "      <td>30.0</td>\n",
       "      <td>0.90</td>\n",
       "    </tr>\n",
       "    <tr>\n",
       "      <th>like</th>\n",
       "      <td>29.0</td>\n",
       "      <td>0.87</td>\n",
       "    </tr>\n",
       "  </tbody>\n",
       "</table>\n",
       "</div>"
      ],
      "text/plain": [
       "          Token Count  Distribution (%)\n",
       "islam     177.0        5.34            \n",
       "muslim    99.0         2.98            \n",
       "murder    56.0         1.69            \n",
       "religion  50.0         1.51            \n",
       "not       42.0         1.27            \n",
       "prophet   38.0         1.15            \n",
       "people    36.0         1.09            \n",
       "mohammed  33.0         0.99            \n",
       "year      30.0         0.90            \n",
       "like      29.0         0.87            "
      ]
     },
     "execution_count": 100,
     "metadata": {},
     "output_type": "execute_result"
    }
   ],
   "source": [
    "test_r = test[test['Label'] == 'racism']['tweets_test'].str.split(expand=True).stack().value_counts()[:10]\n",
    "test_r_norm = test[test['Label'] == 'racism']['tweets_test'].str.split(expand=True).stack().value_counts(normalize=True)[:10]\n",
    "\n",
    "pd.DataFrame([test_r, round(test_r_norm*100, 2)]).T.rename(columns={0: \"Token Count\", 1: \"Distribution (%)\"})"
   ]
  },
  {
   "cell_type": "code",
   "execution_count": 101,
   "metadata": {
    "scrolled": true
   },
   "outputs": [
    {
     "data": {
      "text/html": [
       "<div>\n",
       "<style scoped>\n",
       "    .dataframe tbody tr th:only-of-type {\n",
       "        vertical-align: middle;\n",
       "    }\n",
       "\n",
       "    .dataframe tbody tr th {\n",
       "        vertical-align: top;\n",
       "    }\n",
       "\n",
       "    .dataframe thead th {\n",
       "        text-align: right;\n",
       "    }\n",
       "</style>\n",
       "<table border=\"1\" class=\"dataframe\">\n",
       "  <thead>\n",
       "    <tr style=\"text-align: right;\">\n",
       "      <th></th>\n",
       "      <th>Token Count</th>\n",
       "      <th>Distribution (%)</th>\n",
       "    </tr>\n",
       "  </thead>\n",
       "  <tbody>\n",
       "    <tr>\n",
       "      <th>mkr</th>\n",
       "      <td>671.0</td>\n",
       "      <td>12.20</td>\n",
       "    </tr>\n",
       "    <tr>\n",
       "      <th>kat</th>\n",
       "      <td>217.0</td>\n",
       "      <td>3.95</td>\n",
       "    </tr>\n",
       "    <tr>\n",
       "      <th>girl</th>\n",
       "      <td>88.0</td>\n",
       "      <td>1.60</td>\n",
       "    </tr>\n",
       "    <tr>\n",
       "      <th>blonde</th>\n",
       "      <td>65.0</td>\n",
       "      <td>1.18</td>\n",
       "    </tr>\n",
       "    <tr>\n",
       "      <th>go</th>\n",
       "      <td>56.0</td>\n",
       "      <td>1.02</td>\n",
       "    </tr>\n",
       "    <tr>\n",
       "      <th>like</th>\n",
       "      <td>54.0</td>\n",
       "      <td>0.98</td>\n",
       "    </tr>\n",
       "    <tr>\n",
       "      <th>not</th>\n",
       "      <td>52.0</td>\n",
       "      <td>0.95</td>\n",
       "    </tr>\n",
       "    <tr>\n",
       "      <th>get</th>\n",
       "      <td>49.0</td>\n",
       "      <td>0.89</td>\n",
       "    </tr>\n",
       "    <tr>\n",
       "      <th>face</th>\n",
       "      <td>47.0</td>\n",
       "      <td>0.85</td>\n",
       "    </tr>\n",
       "    <tr>\n",
       "      <th>andre</th>\n",
       "      <td>45.0</td>\n",
       "      <td>0.82</td>\n",
       "    </tr>\n",
       "  </tbody>\n",
       "</table>\n",
       "</div>"
      ],
      "text/plain": [
       "        Token Count  Distribution (%)\n",
       "mkr     671.0        12.20           \n",
       "kat     217.0        3.95            \n",
       "girl    88.0         1.60            \n",
       "blonde  65.0         1.18            \n",
       "go      56.0         1.02            \n",
       "like    54.0         0.98            \n",
       "not     52.0         0.95            \n",
       "get     49.0         0.89            \n",
       "face    47.0         0.85            \n",
       "andre   45.0         0.82            "
      ]
     },
     "execution_count": 101,
     "metadata": {},
     "output_type": "execute_result"
    }
   ],
   "source": [
    "test_s = test[test['Label'] == 'sexism']['tweets_test'].str.split(expand=True).stack().value_counts()[:10]\n",
    "test_s_norm = test[test['Label'] == 'sexism']['tweets_test'].str.split(expand=True).stack().value_counts(normalize=True)[:10]\n",
    "\n",
    "pd.DataFrame([test_s, round(test_s_norm*100, 2)]).T.rename(columns={0: \"Token Count\", 1: \"Distribution (%)\"})"
   ]
  },
  {
   "cell_type": "markdown",
   "metadata": {},
   "source": [
    " "
   ]
  },
  {
   "cell_type": "markdown",
   "metadata": {},
   "source": [
    "## Label Encode target variable"
   ]
  },
  {
   "cell_type": "code",
   "execution_count": 102,
   "metadata": {},
   "outputs": [],
   "source": [
    "test['label_test'] = le.transform(test['Label'])"
   ]
  },
  {
   "cell_type": "code",
   "execution_count": 103,
   "metadata": {},
   "outputs": [
    {
     "data": {
      "text/html": [
       "<div>\n",
       "<style scoped>\n",
       "    .dataframe tbody tr th:only-of-type {\n",
       "        vertical-align: middle;\n",
       "    }\n",
       "\n",
       "    .dataframe tbody tr th {\n",
       "        vertical-align: top;\n",
       "    }\n",
       "\n",
       "    .dataframe thead th {\n",
       "        text-align: right;\n",
       "    }\n",
       "</style>\n",
       "<table border=\"1\" class=\"dataframe\">\n",
       "  <thead>\n",
       "    <tr style=\"text-align: right;\">\n",
       "      <th></th>\n",
       "      <th>id</th>\n",
       "      <th>Tweets</th>\n",
       "      <th>Label</th>\n",
       "      <th>tweets_test</th>\n",
       "      <th>label_test</th>\n",
       "    </tr>\n",
       "  </thead>\n",
       "  <tbody>\n",
       "    <tr>\n",
       "      <th>0</th>\n",
       "      <td>5014</td>\n",
       "      <td>#mkr at least there are judging honestly</td>\n",
       "      <td>none</td>\n",
       "      <td>mkr least judging honestly</td>\n",
       "      <td>0</td>\n",
       "    </tr>\n",
       "    <tr>\n",
       "      <th>1</th>\n",
       "      <td>5015</td>\n",
       "      <td>At the end of this Steve is going to run away to Mexico and go into witness protection #MKR</td>\n",
       "      <td>none</td>\n",
       "      <td>end steve go run away mexico go witness protection mkr</td>\n",
       "      <td>0</td>\n",
       "    </tr>\n",
       "    <tr>\n",
       "      <th>2</th>\n",
       "      <td>5016</td>\n",
       "      <td>Catching up on #MKR. Did Nikki &amp;amp; Katie get a script to say the things they are saying because I wouldn't be caught dead saying any of that!</td>\n",
       "      <td>none</td>\n",
       "      <td>catch mkr nikki amp katie get script say thing say wouldnt caught dead say</td>\n",
       "      <td>0</td>\n",
       "    </tr>\n",
       "    <tr>\n",
       "      <th>3</th>\n",
       "      <td>5017</td>\n",
       "      <td>Has anyone made a Twitter account for Rob's hat yet? #MKR</td>\n",
       "      <td>none</td>\n",
       "      <td>anyone make twitter account robs hat yet mkr</td>\n",
       "      <td>0</td>\n",
       "    </tr>\n",
       "    <tr>\n",
       "      <th>4</th>\n",
       "      <td>5020</td>\n",
       "      <td>Will someone pls assist Colin in the washing of his hair. Sorry Colin, big fan but pls... Some shampoo mate! #mkr</td>\n",
       "      <td>none</td>\n",
       "      <td>someone pls assist colin wash hair sorry colin big fan pls shampoo mate mkr</td>\n",
       "      <td>0</td>\n",
       "    </tr>\n",
       "    <tr>\n",
       "      <th>5</th>\n",
       "      <td>5026</td>\n",
       "      <td>#mkr if they had to walk up and down there steps to use the loo all night..\\n2 much effort @Sarah_jane666</td>\n",
       "      <td>none</td>\n",
       "      <td>mkr walk step use loo night much effort</td>\n",
       "      <td>0</td>\n",
       "    </tr>\n",
       "    <tr>\n",
       "      <th>6</th>\n",
       "      <td>5027</td>\n",
       "      <td>Cream and crumbs on a plate....work it gurls #MKR</td>\n",
       "      <td>none</td>\n",
       "      <td>cream crumb platework gurls mkr</td>\n",
       "      <td>0</td>\n",
       "    </tr>\n",
       "    <tr>\n",
       "      <th>7</th>\n",
       "      <td>5028</td>\n",
       "      <td>I'm done - won't bother with the rest of this pathetic shit show #mkr</td>\n",
       "      <td>none</td>\n",
       "      <td>im wont bother rest pathetic shit show mkr</td>\n",
       "      <td>0</td>\n",
       "    </tr>\n",
       "    <tr>\n",
       "      <th>8</th>\n",
       "      <td>5029</td>\n",
       "      <td>“@TodClarey: lemon \"tart\" looks like shit #MKR”\\n\\nPlease- don't  hold back - tell it how you see it</td>\n",
       "      <td>none</td>\n",
       "      <td>lemon tart look like shit mkr please dont hold back tell see</td>\n",
       "      <td>0</td>\n",
       "    </tr>\n",
       "    <tr>\n",
       "      <th>9</th>\n",
       "      <td>5030</td>\n",
       "      <td>Why do teams look shocked when they announce the final score will be revealed at a different location? Haven't they watched #mkr before?</td>\n",
       "      <td>none</td>\n",
       "      <td>team look shock announce final score reveal different location havent watch mkr</td>\n",
       "      <td>0</td>\n",
       "    </tr>\n",
       "  </tbody>\n",
       "</table>\n",
       "</div>"
      ],
      "text/plain": [
       "     id  \\\n",
       "0  5014   \n",
       "1  5015   \n",
       "2  5016   \n",
       "3  5017   \n",
       "4  5020   \n",
       "5  5026   \n",
       "6  5027   \n",
       "7  5028   \n",
       "8  5029   \n",
       "9  5030   \n",
       "\n",
       "                                                                                                                                            Tweets  \\\n",
       "0  #mkr at least there are judging honestly                                                                                                          \n",
       "1  At the end of this Steve is going to run away to Mexico and go into witness protection #MKR                                                       \n",
       "2  Catching up on #MKR. Did Nikki &amp; Katie get a script to say the things they are saying because I wouldn't be caught dead saying any of that!   \n",
       "3  Has anyone made a Twitter account for Rob's hat yet? #MKR                                                                                         \n",
       "4  Will someone pls assist Colin in the washing of his hair. Sorry Colin, big fan but pls... Some shampoo mate! #mkr                                 \n",
       "5  #mkr if they had to walk up and down there steps to use the loo all night..\\n2 much effort @Sarah_jane666                                         \n",
       "6  Cream and crumbs on a plate....work it gurls #MKR                                                                                                 \n",
       "7  I'm done - won't bother with the rest of this pathetic shit show #mkr                                                                             \n",
       "8  “@TodClarey: lemon \"tart\" looks like shit #MKR”\\n\\nPlease- don't  hold back - tell it how you see it                                              \n",
       "9  Why do teams look shocked when they announce the final score will be revealed at a different location? Haven't they watched #mkr before?          \n",
       "\n",
       "  Label  \\\n",
       "0  none   \n",
       "1  none   \n",
       "2  none   \n",
       "3  none   \n",
       "4  none   \n",
       "5  none   \n",
       "6  none   \n",
       "7  none   \n",
       "8  none   \n",
       "9  none   \n",
       "\n",
       "                                                                       tweets_test  \\\n",
       "0  mkr least judging honestly                                                        \n",
       "1  end steve go run away mexico go witness protection mkr                            \n",
       "2  catch mkr nikki amp katie get script say thing say wouldnt caught dead say        \n",
       "3  anyone make twitter account robs hat yet mkr                                      \n",
       "4  someone pls assist colin wash hair sorry colin big fan pls shampoo mate mkr       \n",
       "5  mkr walk step use loo night much effort                                           \n",
       "6  cream crumb platework gurls mkr                                                   \n",
       "7  im wont bother rest pathetic shit show mkr                                        \n",
       "8  lemon tart look like shit mkr please dont hold back tell see                      \n",
       "9  team look shock announce final score reveal different location havent watch mkr   \n",
       "\n",
       "   label_test  \n",
       "0  0           \n",
       "1  0           \n",
       "2  0           \n",
       "3  0           \n",
       "4  0           \n",
       "5  0           \n",
       "6  0           \n",
       "7  0           \n",
       "8  0           \n",
       "9  0           "
      ]
     },
     "execution_count": 103,
     "metadata": {},
     "output_type": "execute_result"
    }
   ],
   "source": [
    "test.head(10)"
   ]
  },
  {
   "cell_type": "markdown",
   "metadata": {},
   "source": [
    " "
   ]
  },
  {
   "cell_type": "markdown",
   "metadata": {},
   "source": [
    "## Predict on Test Set"
   ]
  },
  {
   "cell_type": "code",
   "execution_count": 104,
   "metadata": {},
   "outputs": [],
   "source": [
    "pred = lr_noblanks.predict(test['tweets_test'])"
   ]
  },
  {
   "cell_type": "code",
   "execution_count": 105,
   "metadata": {},
   "outputs": [
    {
     "name": "stdout",
     "output_type": "stream",
     "text": [
      "              precision    recall  f1-score   support\n",
      "\n",
      "           0      0.828     0.914     0.869      2186\n",
      "           1      0.997     0.837     0.910       387\n",
      "           2      0.591     0.438     0.503       633\n",
      "\n",
      "    accuracy                          0.810      3206\n",
      "   macro avg      0.805     0.729     0.760      3206\n",
      "weighted avg      0.801     0.810     0.801      3206\n",
      "\n"
     ]
    }
   ],
   "source": [
    "print(metrics.classification_report(test['label_test'], pred, digits=3))"
   ]
  },
  {
   "cell_type": "code",
   "execution_count": 106,
   "metadata": {},
   "outputs": [
    {
     "data": {
      "image/png": "[encoded data removed]",
      "text/plain": [
       "<Figure size 432x288 with 2 Axes>"
      ]
     },
     "metadata": {
      "needs_background": "light"
     },
     "output_type": "display_data"
    }
   ],
   "source": [
    "metrics.plot_confusion_matrix(lr_noblanks, test['tweets_test'], test['label_test'])\n",
    "plt.show()"
   ]
  },
  {
   "cell_type": "markdown",
   "metadata": {},
   "source": [
    " "
   ]
  },
  {
   "cell_type": "markdown",
   "metadata": {},
   "source": [
    "### Exploring prediction for class 2\n",
    "\n",
    "#### False Negative: All class 2 (sexism) misclassifications were misclassifed as class 0 (none)."
   ]
  },
  {
   "cell_type": "code",
   "execution_count": 107,
   "metadata": {},
   "outputs": [],
   "source": [
    "test['pred'] = pred"
   ]
  },
  {
   "cell_type": "code",
   "execution_count": 108,
   "metadata": {
    "scrolled": true
   },
   "outputs": [],
   "source": [
    "fn_2 = test[(test['label_test'] == 2) & (test['pred'] != 2)] "
   ]
  },
  {
   "cell_type": "code",
   "execution_count": 109,
   "metadata": {},
   "outputs": [
    {
     "data": {
      "text/html": [
       "<div>\n",
       "<style scoped>\n",
       "    .dataframe tbody tr th:only-of-type {\n",
       "        vertical-align: middle;\n",
       "    }\n",
       "\n",
       "    .dataframe tbody tr th {\n",
       "        vertical-align: top;\n",
       "    }\n",
       "\n",
       "    .dataframe thead th {\n",
       "        text-align: right;\n",
       "    }\n",
       "</style>\n",
       "<table border=\"1\" class=\"dataframe\">\n",
       "  <thead>\n",
       "    <tr style=\"text-align: right;\">\n",
       "      <th></th>\n",
       "      <th>id</th>\n",
       "      <th>Tweets</th>\n",
       "      <th>Label</th>\n",
       "      <th>tweets_test</th>\n",
       "      <th>label_test</th>\n",
       "      <th>pred</th>\n",
       "    </tr>\n",
       "  </thead>\n",
       "  <tbody>\n",
       "    <tr>\n",
       "      <th>2574</th>\n",
       "      <td>1868</td>\n",
       "      <td>The face of very ugly promo girls ! Faces like cats arsehole #mkr excited to see them@go down tonight...literally http://t.co/HgoJrfoIeO</td>\n",
       "      <td>sexism</td>\n",
       "      <td>face ugly promo girl face like cat arsehole mkr excite see tonightliterally</td>\n",
       "      <td>2</td>\n",
       "      <td>0</td>\n",
       "    </tr>\n",
       "    <tr>\n",
       "      <th>2576</th>\n",
       "      <td>1872</td>\n",
       "      <td>Stop saying dumb blondes with pretty faces as you need a pretty face to pull that off!!!! #mkr</td>\n",
       "      <td>sexism</td>\n",
       "      <td>stop say dumb blonde pretty face need pretty face pull mkr</td>\n",
       "      <td>2</td>\n",
       "      <td>0</td>\n",
       "    </tr>\n",
       "    <tr>\n",
       "      <th>2577</th>\n",
       "      <td>1873</td>\n",
       "      <td>#mkr Omg there restaurant looks like a a little girls room oh my! Gosh</td>\n",
       "      <td>sexism</td>\n",
       "      <td>mkr omg restaurant look like little girl room oh gosh</td>\n",
       "      <td>2</td>\n",
       "      <td>0</td>\n",
       "    </tr>\n",
       "    <tr>\n",
       "      <th>2578</th>\n",
       "      <td>1881</td>\n",
       "      <td>Drasko only likes his mum's hot pot, especially when she's drunk and unconscious #MKR</td>\n",
       "      <td>sexism</td>\n",
       "      <td>drasko like mum hot pot especially shes drunk unconscious mkr</td>\n",
       "      <td>2</td>\n",
       "      <td>0</td>\n",
       "    </tr>\n",
       "    <tr>\n",
       "      <th>2581</th>\n",
       "      <td>1886</td>\n",
       "      <td>I think they're deconstraucted Pro . . . mowhores #MKR</td>\n",
       "      <td>sexism</td>\n",
       "      <td>think theyre deconstraucted pro mowhores mkr</td>\n",
       "      <td>2</td>\n",
       "      <td>0</td>\n",
       "    </tr>\n",
       "    <tr>\n",
       "      <th>2583</th>\n",
       "      <td>1891</td>\n",
       "      <td>#mkr deconstructed by girls that have deconstructed brains  ! Nearly brought up my dinner when I saw that crap on the plate</td>\n",
       "      <td>sexism</td>\n",
       "      <td>mkr deconstruct girl deconstruct brain nearly brought dinner saw crap plate</td>\n",
       "      <td>2</td>\n",
       "      <td>0</td>\n",
       "    </tr>\n",
       "    <tr>\n",
       "      <th>2587</th>\n",
       "      <td>1901</td>\n",
       "      <td>Wish these blondes were in that How To Get Away With Murder show....#MKR</td>\n",
       "      <td>sexism</td>\n",
       "      <td>wish blonde get away murder showmkr</td>\n",
       "      <td>2</td>\n",
       "      <td>0</td>\n",
       "    </tr>\n",
       "    <tr>\n",
       "      <th>2588</th>\n",
       "      <td>1903</td>\n",
       "      <td>In the words of former contestant @whatsnextjake , Katie and Nikki need to calm their farm. #MKR</td>\n",
       "      <td>sexism</td>\n",
       "      <td>word former contestant katie nikki need calm farm mkr</td>\n",
       "      <td>2</td>\n",
       "      <td>0</td>\n",
       "    </tr>\n",
       "    <tr>\n",
       "      <th>2590</th>\n",
       "      <td>1912</td>\n",
       "      <td>I dislike Kat more than the blondes who are going to tell us they're hot another 50,000 times #MKR #notaustraliasnexttopmodel</td>\n",
       "      <td>sexism</td>\n",
       "      <td>dislike kat blonde go tell u theyre hot another time mkr notaustraliasnexttopmodel</td>\n",
       "      <td>2</td>\n",
       "      <td>0</td>\n",
       "    </tr>\n",
       "    <tr>\n",
       "      <th>2592</th>\n",
       "      <td>1929</td>\n",
       "      <td>I cannot stop looking at Nikki's dreadful black crooked bra #MKR #MKR2015</td>\n",
       "      <td>sexism</td>\n",
       "      <td>cannot stop look nikkis dreadful black crooked bra mkr mkr</td>\n",
       "      <td>2</td>\n",
       "      <td>0</td>\n",
       "    </tr>\n",
       "  </tbody>\n",
       "</table>\n",
       "</div>"
      ],
      "text/plain": [
       "        id  \\\n",
       "2574  1868   \n",
       "2576  1872   \n",
       "2577  1873   \n",
       "2578  1881   \n",
       "2581  1886   \n",
       "2583  1891   \n",
       "2587  1901   \n",
       "2588  1903   \n",
       "2590  1912   \n",
       "2592  1929   \n",
       "\n",
       "                                                                                                                                        Tweets  \\\n",
       "2574  The face of very ugly promo girls ! Faces like cats arsehole #mkr excited to see them@go down tonight...literally http://t.co/HgoJrfoIeO   \n",
       "2576  Stop saying dumb blondes with pretty faces as you need a pretty face to pull that off!!!! #mkr                                             \n",
       "2577  #mkr Omg there restaurant looks like a a little girls room oh my! Gosh                                                                     \n",
       "2578  Drasko only likes his mum's hot pot, especially when she's drunk and unconscious #MKR                                                      \n",
       "2581  I think they're deconstraucted Pro . . . mowhores #MKR                                                                                     \n",
       "2583  #mkr deconstructed by girls that have deconstructed brains  ! Nearly brought up my dinner when I saw that crap on the plate                \n",
       "2587  Wish these blondes were in that How To Get Away With Murder show....#MKR                                                                   \n",
       "2588  In the words of former contestant @whatsnextjake , Katie and Nikki need to calm their farm. #MKR                                           \n",
       "2590  I dislike Kat more than the blondes who are going to tell us they're hot another 50,000 times #MKR #notaustraliasnexttopmodel              \n",
       "2592  I cannot stop looking at Nikki's dreadful black crooked bra #MKR #MKR2015                                                                  \n",
       "\n",
       "       Label  \\\n",
       "2574  sexism   \n",
       "2576  sexism   \n",
       "2577  sexism   \n",
       "2578  sexism   \n",
       "2581  sexism   \n",
       "2583  sexism   \n",
       "2587  sexism   \n",
       "2588  sexism   \n",
       "2590  sexism   \n",
       "2592  sexism   \n",
       "\n",
       "                                                                             tweets_test  \\\n",
       "2574  face ugly promo girl face like cat arsehole mkr excite see tonightliterally          \n",
       "2576  stop say dumb blonde pretty face need pretty face pull mkr                           \n",
       "2577  mkr omg restaurant look like little girl room oh gosh                                \n",
       "2578  drasko like mum hot pot especially shes drunk unconscious mkr                        \n",
       "2581  think theyre deconstraucted pro mowhores mkr                                         \n",
       "2583  mkr deconstruct girl deconstruct brain nearly brought dinner saw crap plate          \n",
       "2587  wish blonde get away murder showmkr                                                  \n",
       "2588  word former contestant katie nikki need calm farm mkr                                \n",
       "2590  dislike kat blonde go tell u theyre hot another time mkr notaustraliasnexttopmodel   \n",
       "2592  cannot stop look nikkis dreadful black crooked bra mkr mkr                           \n",
       "\n",
       "      label_test  pred  \n",
       "2574  2           0     \n",
       "2576  2           0     \n",
       "2577  2           0     \n",
       "2578  2           0     \n",
       "2581  2           0     \n",
       "2583  2           0     \n",
       "2587  2           0     \n",
       "2588  2           0     \n",
       "2590  2           0     \n",
       "2592  2           0     "
      ]
     },
     "execution_count": 109,
     "metadata": {},
     "output_type": "execute_result"
    }
   ],
   "source": [
    "fn_2.head(10)"
   ]
  },
  {
   "cell_type": "code",
   "execution_count": 110,
   "metadata": {},
   "outputs": [
    {
     "data": {
      "text/plain": [
       "mkr       382\n",
       "kat       109\n",
       "andre     40 \n",
       "like      35 \n",
       "get       35 \n",
       "go        34 \n",
       "nikki     31 \n",
       "amp       31 \n",
       "think     28 \n",
       "blonde    28 \n",
       "dtype: int64"
      ]
     },
     "execution_count": 110,
     "metadata": {},
     "output_type": "execute_result"
    }
   ],
   "source": [
    "fn_2['tweets_test'].str.split(expand=True).stack().value_counts().head(10)"
   ]
  },
  {
   "cell_type": "markdown",
   "metadata": {},
   "source": [
    "Most tokens individually do not strongly signal \"sexism\", so they might not be picked up on by the model. It seems like the context is important. \n",
    "\n",
    "How the words are stringed together might be important too (e.g. id 1891, the tokens \"deconstructed brain\" refers to the noun \"girl\", and this relationship is not picked up by the character n-gram model).  "
   ]
  },
  {
   "cell_type": "markdown",
   "metadata": {},
   "source": [
    " "
   ]
  },
  {
   "cell_type": "markdown",
   "metadata": {},
   "source": [
    "#### Based on token frequency, 'kat' seems to have a higher distribution in the testing set (3.95%) compared to in the training set.\n",
    "\n",
    "Comparing 'kat' in train set"
   ]
  },
  {
   "cell_type": "code",
   "execution_count": 111,
   "metadata": {
    "scrolled": true
   },
   "outputs": [
    {
     "data": {
      "text/html": [
       "<div>\n",
       "<style scoped>\n",
       "    .dataframe tbody tr th:only-of-type {\n",
       "        vertical-align: middle;\n",
       "    }\n",
       "\n",
       "    .dataframe tbody tr th {\n",
       "        vertical-align: top;\n",
       "    }\n",
       "\n",
       "    .dataframe thead th {\n",
       "        text-align: right;\n",
       "    }\n",
       "</style>\n",
       "<table border=\"1\" class=\"dataframe\">\n",
       "  <thead>\n",
       "    <tr style=\"text-align: right;\">\n",
       "      <th></th>\n",
       "      <th>id</th>\n",
       "      <th>Tweets</th>\n",
       "      <th>Label</th>\n",
       "      <th>hashtags</th>\n",
       "      <th>usernames</th>\n",
       "      <th>tweets_train</th>\n",
       "      <th>label_train</th>\n",
       "      <th>tweets_train_nsw</th>\n",
       "    </tr>\n",
       "  </thead>\n",
       "  <tbody>\n",
       "    <tr>\n",
       "      <th>10295</th>\n",
       "      <td>2562</td>\n",
       "      <td>I hope Kat breaks both of her ankles. #MKR</td>\n",
       "      <td>sexism</td>\n",
       "      <td>#mkr</td>\n",
       "      <td></td>\n",
       "      <td>hope kat break ankle mkr</td>\n",
       "      <td>2</td>\n",
       "      <td>i hope kat break both of her ankle mkr</td>\n",
       "    </tr>\n",
       "    <tr>\n",
       "      <th>10296</th>\n",
       "      <td>2563</td>\n",
       "      <td>@initials_games Big news! Wait does kat actually still think she can cook? #mkr</td>\n",
       "      <td>sexism</td>\n",
       "      <td>#mkr</td>\n",
       "      <td>@initials_games</td>\n",
       "      <td>big news wait kat actually still think cook mkr</td>\n",
       "      <td>2</td>\n",
       "      <td>big news wait do kat actually still think she can cook mkr</td>\n",
       "    </tr>\n",
       "    <tr>\n",
       "      <th>10299</th>\n",
       "      <td>2566</td>\n",
       "      <td>#MKR those pieces to camera are recorded after the event. Kat knows she gets smacked down and she STILL gloats like a crazy Bond villain</td>\n",
       "      <td>sexism</td>\n",
       "      <td>#mkr</td>\n",
       "      <td></td>\n",
       "      <td>mkr piece camera record event kat know get smack still gloat like crazy bond villain</td>\n",
       "      <td>2</td>\n",
       "      <td>mkr those piece to camera be record after the event kat know she get smack down and she still gloat like a crazy bond villain</td>\n",
       "    </tr>\n",
       "    <tr>\n",
       "      <th>10300</th>\n",
       "      <td>2567</td>\n",
       "      <td>my hate for kat is getting stronger and stronger every time i watch her. #MKR</td>\n",
       "      <td>sexism</td>\n",
       "      <td>#mkr</td>\n",
       "      <td></td>\n",
       "      <td>hate kat get strong strong every time watch mkr</td>\n",
       "      <td>2</td>\n",
       "      <td>my hate for kat be get strong and strong every time i watch her mkr</td>\n",
       "    </tr>\n",
       "    <tr>\n",
       "      <th>10301</th>\n",
       "      <td>2568</td>\n",
       "      <td>#mkr all Kat needs now is a witch's hat! Let's see how they go.</td>\n",
       "      <td>sexism</td>\n",
       "      <td>#mkr</td>\n",
       "      <td></td>\n",
       "      <td>mkr kat need witch hat let see go</td>\n",
       "      <td>2</td>\n",
       "      <td>mkr all kat need now be a witch hat let see how they go</td>\n",
       "    </tr>\n",
       "    <tr>\n",
       "      <th>...</th>\n",
       "      <td>...</td>\n",
       "      <td>...</td>\n",
       "      <td>...</td>\n",
       "      <td>...</td>\n",
       "      <td>...</td>\n",
       "      <td>...</td>\n",
       "      <td>...</td>\n",
       "      <td>...</td>\n",
       "    </tr>\n",
       "    <tr>\n",
       "      <th>12784</th>\n",
       "      <td>5095</td>\n",
       "      <td>And Annie is a total fruit cake! RT @lismarie56: Kat is so delusional that Annie has a better grip on reality ? #MKR2015 #mkr</td>\n",
       "      <td>sexism</td>\n",
       "      <td>#mkr2015 #mkr</td>\n",
       "      <td>@lismarie56</td>\n",
       "      <td>annie total fruit cake kat delusional annie well grip reality mkr mkr</td>\n",
       "      <td>2</td>\n",
       "      <td>and annie be a total fruit cake rt kat be so delusional that annie have a well grip on reality mkr mkr</td>\n",
       "    </tr>\n",
       "    <tr>\n",
       "      <th>12799</th>\n",
       "      <td>5319</td>\n",
       "      <td>My #MKR take: Nikki and Katie should be the poster children for the obliviously mediocre http://t.co/VtkzDvl7ys http://t.co/VspCN4rvjX</td>\n",
       "      <td>sexism</td>\n",
       "      <td>#mkr</td>\n",
       "      <td></td>\n",
       "      <td>mkr take nikki katie poster child obliviously mediocre</td>\n",
       "      <td>2</td>\n",
       "      <td>my mkr take nikki and katie should be the poster child for the obliviously mediocre</td>\n",
       "    </tr>\n",
       "    <tr>\n",
       "      <th>12804</th>\n",
       "      <td>5347</td>\n",
       "      <td>Omg. All those girl teams and 2 couples. Hahaha, poor Kats husband and Lloyd. #MKR</td>\n",
       "      <td>sexism</td>\n",
       "      <td>#mkr</td>\n",
       "      <td></td>\n",
       "      <td>omg girl team couple hahaha poor kat husband lloyd mkr</td>\n",
       "      <td>2</td>\n",
       "      <td>omg all those girl team and couple hahaha poor kat husband and lloyd mkr</td>\n",
       "    </tr>\n",
       "    <tr>\n",
       "      <th>12824</th>\n",
       "      <td>5884</td>\n",
       "      <td>RT @immichaeldixon: Katie and Nikki, smug, vacuous, condescending, putrid, self congratulatory and bland. There. #MKR</td>\n",
       "      <td>sexism</td>\n",
       "      <td>#mkr</td>\n",
       "      <td>@immichaeldixon</td>\n",
       "      <td>katie nikki smug vacuous condescend putrid self congratulatory bland mkr</td>\n",
       "      <td>2</td>\n",
       "      <td>rt katie and nikki smug vacuous condescend putrid self congratulatory and bland there mkr</td>\n",
       "    </tr>\n",
       "    <tr>\n",
       "      <th>12825</th>\n",
       "      <td>15551</td>\n",
       "      <td>I can barely watch the #MKR episode of Katie and Nikki or whatever. Like my skin is crawling. They have thattt many tickets on themselves ?</td>\n",
       "      <td>sexism</td>\n",
       "      <td>#mkr</td>\n",
       "      <td></td>\n",
       "      <td>barely watch mkr episode katie nikki whatever like skin crawl thattt many ticket</td>\n",
       "      <td>2</td>\n",
       "      <td>i can barely watch the mkr episode of katie and nikki or whatever like my skin be crawl they have thattt many ticket on themselves</td>\n",
       "    </tr>\n",
       "  </tbody>\n",
       "</table>\n",
       "<p>116 rows × 8 columns</p>\n",
       "</div>"
      ],
      "text/plain": [
       "          id  \\\n",
       "10295  2562    \n",
       "10296  2563    \n",
       "10299  2566    \n",
       "10300  2567    \n",
       "10301  2568    \n",
       "...     ...    \n",
       "12784  5095    \n",
       "12799  5319    \n",
       "12804  5347    \n",
       "12824  5884    \n",
       "12825  15551   \n",
       "\n",
       "                                                                                                                                            Tweets  \\\n",
       "10295  I hope Kat breaks both of her ankles. #MKR                                                                                                    \n",
       "10296  @initials_games Big news! Wait does kat actually still think she can cook? #mkr                                                               \n",
       "10299  #MKR those pieces to camera are recorded after the event. Kat knows she gets smacked down and she STILL gloats like a crazy Bond villain      \n",
       "10300  my hate for kat is getting stronger and stronger every time i watch her. #MKR                                                                 \n",
       "10301  #mkr all Kat needs now is a witch's hat! Let's see how they go.                                                                               \n",
       "...                                                                ...                                                                               \n",
       "12784  And Annie is a total fruit cake! RT @lismarie56: Kat is so delusional that Annie has a better grip on reality ? #MKR2015 #mkr                 \n",
       "12799  My #MKR take: Nikki and Katie should be the poster children for the obliviously mediocre http://t.co/VtkzDvl7ys http://t.co/VspCN4rvjX        \n",
       "12804  Omg. All those girl teams and 2 couples. Hahaha, poor Kats husband and Lloyd. #MKR                                                            \n",
       "12824  RT @immichaeldixon: Katie and Nikki, smug, vacuous, condescending, putrid, self congratulatory and bland. There. #MKR                         \n",
       "12825  I can barely watch the #MKR episode of Katie and Nikki or whatever. Like my skin is crawling. They have thattt many tickets on themselves ?   \n",
       "\n",
       "        Label       hashtags        usernames  \\\n",
       "10295  sexism  #mkr                             \n",
       "10296  sexism  #mkr           @initials_games   \n",
       "10299  sexism  #mkr                             \n",
       "10300  sexism  #mkr                             \n",
       "10301  sexism  #mkr                             \n",
       "...       ...   ...          ..                 \n",
       "12784  sexism  #mkr2015 #mkr  @lismarie56       \n",
       "12799  sexism  #mkr                             \n",
       "12804  sexism  #mkr                             \n",
       "12824  sexism  #mkr           @immichaeldixon   \n",
       "12825  sexism  #mkr                             \n",
       "\n",
       "                                                                               tweets_train  \\\n",
       "10295  hope kat break ankle mkr                                                               \n",
       "10296  big news wait kat actually still think cook mkr                                        \n",
       "10299  mkr piece camera record event kat know get smack still gloat like crazy bond villain   \n",
       "10300  hate kat get strong strong every time watch mkr                                        \n",
       "10301  mkr kat need witch hat let see go                                                      \n",
       "...                                  ...                                                      \n",
       "12784  annie total fruit cake kat delusional annie well grip reality mkr mkr                  \n",
       "12799  mkr take nikki katie poster child obliviously mediocre                                 \n",
       "12804  omg girl team couple hahaha poor kat husband lloyd mkr                                 \n",
       "12824  katie nikki smug vacuous condescend putrid self congratulatory bland mkr               \n",
       "12825  barely watch mkr episode katie nikki whatever like skin crawl thattt many ticket       \n",
       "\n",
       "       label_train  \\\n",
       "10295  2             \n",
       "10296  2             \n",
       "10299  2             \n",
       "10300  2             \n",
       "10301  2             \n",
       "...   ..             \n",
       "12784  2             \n",
       "12799  2             \n",
       "12804  2             \n",
       "12824  2             \n",
       "12825  2             \n",
       "\n",
       "                                                                                                                         tweets_train_nsw  \n",
       "10295  i hope kat break both of her ankle mkr                                                                                              \n",
       "10296  big news wait do kat actually still think she can cook mkr                                                                          \n",
       "10299  mkr those piece to camera be record after the event kat know she get smack down and she still gloat like a crazy bond villain       \n",
       "10300  my hate for kat be get strong and strong every time i watch her mkr                                                                 \n",
       "10301  mkr all kat need now be a witch hat let see how they go                                                                             \n",
       "...                                                        ...                                                                             \n",
       "12784  and annie be a total fruit cake rt kat be so delusional that annie have a well grip on reality mkr mkr                              \n",
       "12799  my mkr take nikki and katie should be the poster child for the obliviously mediocre                                                 \n",
       "12804  omg all those girl team and couple hahaha poor kat husband and lloyd mkr                                                            \n",
       "12824  rt katie and nikki smug vacuous condescend putrid self congratulatory and bland there mkr                                           \n",
       "12825  i can barely watch the mkr episode of katie and nikki or whatever like my skin be crawl they have thattt many ticket on themselves  \n",
       "\n",
       "[116 rows x 8 columns]"
      ]
     },
     "execution_count": 111,
     "metadata": {},
     "output_type": "execute_result"
    }
   ],
   "source": [
    "train[(train['tweets_train'].str.contains('kat')) & (train['Label'] == 'sexism')]"
   ]
  },
  {
   "cell_type": "code",
   "execution_count": 112,
   "metadata": {},
   "outputs": [
    {
     "data": {
      "text/plain": [
       "0.9042014186608466"
      ]
     },
     "execution_count": 112,
     "metadata": {},
     "output_type": "execute_result"
    }
   ],
   "source": [
    "# estimated frequency of 'kat' in training set\n",
    "(len(train[(train['tweets_train'].str.contains('kat')) & (train['Label'] == 'sexism')])/len(train))*100"
   ]
  },
  {
   "cell_type": "markdown",
   "metadata": {},
   "source": [
    "Words like \"kat\" refers to a person. Perhaps a more nuanced cleaning of the data would be helpful. For instance, converting names to their genders based on the other tokens in the document (\"kat\"...\"she\"...) could reduce noise in the data. Especially for sexism, the (hypothesised) key words are usually gender related."
   ]
  },
  {
   "cell_type": "markdown",
   "metadata": {},
   "source": [
    " "
   ]
  },
  {
   "cell_type": "markdown",
   "metadata": {},
   "source": [
    "#### False Positives: Where class 0 was misclassifed as class 2."
   ]
  },
  {
   "cell_type": "code",
   "execution_count": 113,
   "metadata": {},
   "outputs": [],
   "source": [
    "fp_2 = test[(test['label_test'] == 0) & (test['pred'] == 2)] "
   ]
  },
  {
   "cell_type": "code",
   "execution_count": 114,
   "metadata": {},
   "outputs": [
    {
     "data": {
      "text/html": [
       "<div>\n",
       "<style scoped>\n",
       "    .dataframe tbody tr th:only-of-type {\n",
       "        vertical-align: middle;\n",
       "    }\n",
       "\n",
       "    .dataframe tbody tr th {\n",
       "        vertical-align: top;\n",
       "    }\n",
       "\n",
       "    .dataframe thead th {\n",
       "        text-align: right;\n",
       "    }\n",
       "</style>\n",
       "<table border=\"1\" class=\"dataframe\">\n",
       "  <thead>\n",
       "    <tr style=\"text-align: right;\">\n",
       "      <th></th>\n",
       "      <th>id</th>\n",
       "      <th>Tweets</th>\n",
       "      <th>Label</th>\n",
       "      <th>tweets_test</th>\n",
       "      <th>label_test</th>\n",
       "      <th>pred</th>\n",
       "    </tr>\n",
       "  </thead>\n",
       "  <tbody>\n",
       "    <tr>\n",
       "      <th>2</th>\n",
       "      <td>5016</td>\n",
       "      <td>Catching up on #MKR. Did Nikki &amp;amp; Katie get a script to say the things they are saying because I wouldn't be caught dead saying any of that!</td>\n",
       "      <td>none</td>\n",
       "      <td>catch mkr nikki amp katie get script say thing say wouldnt caught dead say</td>\n",
       "      <td>0</td>\n",
       "      <td>2</td>\n",
       "    </tr>\n",
       "    <tr>\n",
       "      <th>14</th>\n",
       "      <td>5035</td>\n",
       "      <td>#mkr 3 the girls are gonna be pissed about that</td>\n",
       "      <td>none</td>\n",
       "      <td>mkr girl gonna piss</td>\n",
       "      <td>0</td>\n",
       "      <td>2</td>\n",
       "    </tr>\n",
       "    <tr>\n",
       "      <th>16</th>\n",
       "      <td>5041</td>\n",
       "      <td>Katie and Nikki can't cook!!! #MKR</td>\n",
       "      <td>none</td>\n",
       "      <td>katie nikki cant cook mkr</td>\n",
       "      <td>0</td>\n",
       "      <td>2</td>\n",
       "    </tr>\n",
       "    <tr>\n",
       "      <th>42</th>\n",
       "      <td>5093</td>\n",
       "      <td>That blonde chick from #mkr is wearing my hot pink #becandbridge dress!! Lol</td>\n",
       "      <td>none</td>\n",
       "      <td>blonde chick mkr wear hot pink becandbridge dress lol</td>\n",
       "      <td>0</td>\n",
       "      <td>2</td>\n",
       "    </tr>\n",
       "    <tr>\n",
       "      <th>79</th>\n",
       "      <td>5133</td>\n",
       "      <td>Hashtag killerblondes is the dickiest hashtag in all  #MKR history... Seriously... Why not #butcherthemodels</td>\n",
       "      <td>none</td>\n",
       "      <td>hashtag killerblondes dickiest hashtag mkr history seriously not butcherthemodels</td>\n",
       "      <td>0</td>\n",
       "      <td>2</td>\n",
       "    </tr>\n",
       "    <tr>\n",
       "      <th>83</th>\n",
       "      <td>5137</td>\n",
       "      <td>Can't even make your own chicken stock... #MKR</td>\n",
       "      <td>none</td>\n",
       "      <td>cant even make chicken stock mkr</td>\n",
       "      <td>0</td>\n",
       "      <td>2</td>\n",
       "    </tr>\n",
       "    <tr>\n",
       "      <th>85</th>\n",
       "      <td>5139</td>\n",
       "      <td>@Matt_Cooke86 Nutrition is key to closing the .#Aboriginal life expectancy gap http://t.co/IHtNiRJMa9 @croakeyblog http://t.co/ktnqAD0TM3</td>\n",
       "      <td>none</td>\n",
       "      <td>nutrition key closing aboriginal life expectancy gap</td>\n",
       "      <td>0</td>\n",
       "      <td>2</td>\n",
       "    </tr>\n",
       "    <tr>\n",
       "      <th>177</th>\n",
       "      <td>5232</td>\n",
       "      <td>Sounds good. #killerblondes #mkr</td>\n",
       "      <td>none</td>\n",
       "      <td>sound good killerblondes mkr</td>\n",
       "      <td>0</td>\n",
       "      <td>2</td>\n",
       "    </tr>\n",
       "    <tr>\n",
       "      <th>210</th>\n",
       "      <td>5265</td>\n",
       "      <td>Sassy girls rule. #killerblonds #MKR</td>\n",
       "      <td>none</td>\n",
       "      <td>sassy girl rule killerblonds mkr</td>\n",
       "      <td>0</td>\n",
       "      <td>2</td>\n",
       "    </tr>\n",
       "    <tr>\n",
       "      <th>242</th>\n",
       "      <td>5310</td>\n",
       "      <td>RT @AmyMunce: #MKR maybe you girls should go back to cutting up cows and pigs, don't quit your day job!! @mykitchenrules</td>\n",
       "      <td>none</td>\n",
       "      <td>mkr maybe girl go back cut cow pig dont quit day job</td>\n",
       "      <td>0</td>\n",
       "      <td>2</td>\n",
       "    </tr>\n",
       "    <tr>\n",
       "      <th>244</th>\n",
       "      <td>5312</td>\n",
       "      <td>RT @BeLikeNaNaNa: those blond girls make me crazy, they are so annoying #mkr</td>\n",
       "      <td>none</td>\n",
       "      <td>blond girl make crazy annoy mkr</td>\n",
       "      <td>0</td>\n",
       "      <td>2</td>\n",
       "    </tr>\n",
       "    <tr>\n",
       "      <th>253</th>\n",
       "      <td>5322</td>\n",
       "      <td>I hate these girls, far out. #mkr</td>\n",
       "      <td>none</td>\n",
       "      <td>hate girl far mkr</td>\n",
       "      <td>0</td>\n",
       "      <td>2</td>\n",
       "    </tr>\n",
       "    <tr>\n",
       "      <th>264</th>\n",
       "      <td>5336</td>\n",
       "      <td>RT @mishbucsai: If I hear \"hot\" \"pretty\" \"sassy\" \"like us\" one more time.. I will deconstruct.. #MKR #killerblondes</td>\n",
       "      <td>none</td>\n",
       "      <td>hear hot pretty sassy like u one time deconstruct mkr killerblondes</td>\n",
       "      <td>0</td>\n",
       "      <td>2</td>\n",
       "    </tr>\n",
       "    <tr>\n",
       "      <th>274</th>\n",
       "      <td>5349</td>\n",
       "      <td>RT @KeeniMaree: Hashtag killerblondes is the dickiest hashtag in all  #MKR history... Seriously... Why not #butcherthemodels</td>\n",
       "      <td>none</td>\n",
       "      <td>hashtag killerblondes dickiest hashtag mkr history seriously not butcherthemodels</td>\n",
       "      <td>0</td>\n",
       "      <td>2</td>\n",
       "    </tr>\n",
       "    <tr>\n",
       "      <th>278</th>\n",
       "      <td>5353</td>\n",
       "      <td>RT @digital_bunnies: These girls are pretty...awful. #gohome #MKR</td>\n",
       "      <td>none</td>\n",
       "      <td>girl prettyawful gohome mkr</td>\n",
       "      <td>0</td>\n",
       "      <td>2</td>\n",
       "    </tr>\n",
       "    <tr>\n",
       "      <th>332</th>\n",
       "      <td>5415</td>\n",
       "      <td>Just get rid of the two big drips #MKR</td>\n",
       "      <td>none</td>\n",
       "      <td>get rid two big drip mkr</td>\n",
       "      <td>0</td>\n",
       "      <td>2</td>\n",
       "    </tr>\n",
       "    <tr>\n",
       "      <th>334</th>\n",
       "      <td>5417</td>\n",
       "      <td>A shot for every time we have to hear the word \"sassy\" and hopefully we'll all be passed out before dessert is served. #MKR #somuchsass</td>\n",
       "      <td>none</td>\n",
       "      <td>shot every time hear word sassy hopefully well pass dessert serve mkr somuchsass</td>\n",
       "      <td>0</td>\n",
       "      <td>2</td>\n",
       "    </tr>\n",
       "    <tr>\n",
       "      <th>387</th>\n",
       "      <td>5480</td>\n",
       "      <td>Blondes vs blondes #MKR</td>\n",
       "      <td>none</td>\n",
       "      <td>blonde v blonde mkr</td>\n",
       "      <td>0</td>\n",
       "      <td>2</td>\n",
       "    </tr>\n",
       "    <tr>\n",
       "      <th>399</th>\n",
       "      <td>5492</td>\n",
       "      <td>Haha girls, it's not over yet! #mkr #MKR2015</td>\n",
       "      <td>none</td>\n",
       "      <td>haha girl not yet mkr mkr</td>\n",
       "      <td>0</td>\n",
       "      <td>2</td>\n",
       "    </tr>\n",
       "    <tr>\n",
       "      <th>404</th>\n",
       "      <td>5497</td>\n",
       "      <td>Hope you do okay XD\\nLooks like youll do good\\nDarn I want a lemon tart now :/ #killerblondes #MKR</td>\n",
       "      <td>none</td>\n",
       "      <td>hope okay xd look like youll good darn want lemon tart killerblondes mkr</td>\n",
       "      <td>0</td>\n",
       "      <td>2</td>\n",
       "    </tr>\n",
       "  </tbody>\n",
       "</table>\n",
       "</div>"
      ],
      "text/plain": [
       "       id  \\\n",
       "2    5016   \n",
       "14   5035   \n",
       "16   5041   \n",
       "42   5093   \n",
       "79   5133   \n",
       "83   5137   \n",
       "85   5139   \n",
       "177  5232   \n",
       "210  5265   \n",
       "242  5310   \n",
       "244  5312   \n",
       "253  5322   \n",
       "264  5336   \n",
       "274  5349   \n",
       "278  5353   \n",
       "332  5415   \n",
       "334  5417   \n",
       "387  5480   \n",
       "399  5492   \n",
       "404  5497   \n",
       "\n",
       "                                                                                                                                              Tweets  \\\n",
       "2    Catching up on #MKR. Did Nikki &amp; Katie get a script to say the things they are saying because I wouldn't be caught dead saying any of that!   \n",
       "14   #mkr 3 the girls are gonna be pissed about that                                                                                                   \n",
       "16   Katie and Nikki can't cook!!! #MKR                                                                                                                \n",
       "42   That blonde chick from #mkr is wearing my hot pink #becandbridge dress!! Lol                                                                      \n",
       "79   Hashtag killerblondes is the dickiest hashtag in all  #MKR history... Seriously... Why not #butcherthemodels                                      \n",
       "83   Can't even make your own chicken stock... #MKR                                                                                                    \n",
       "85   @Matt_Cooke86 Nutrition is key to closing the .#Aboriginal life expectancy gap http://t.co/IHtNiRJMa9 @croakeyblog http://t.co/ktnqAD0TM3         \n",
       "177  Sounds good. #killerblondes #mkr                                                                                                                  \n",
       "210  Sassy girls rule. #killerblonds #MKR                                                                                                              \n",
       "242  RT @AmyMunce: #MKR maybe you girls should go back to cutting up cows and pigs, don't quit your day job!! @mykitchenrules                          \n",
       "244  RT @BeLikeNaNaNa: those blond girls make me crazy, they are so annoying #mkr                                                                      \n",
       "253  I hate these girls, far out. #mkr                                                                                                                 \n",
       "264  RT @mishbucsai: If I hear \"hot\" \"pretty\" \"sassy\" \"like us\" one more time.. I will deconstruct.. #MKR #killerblondes                               \n",
       "274  RT @KeeniMaree: Hashtag killerblondes is the dickiest hashtag in all  #MKR history... Seriously... Why not #butcherthemodels                      \n",
       "278  RT @digital_bunnies: These girls are pretty...awful. #gohome #MKR                                                                                 \n",
       "332  Just get rid of the two big drips #MKR                                                                                                            \n",
       "334  A shot for every time we have to hear the word \"sassy\" and hopefully we'll all be passed out before dessert is served. #MKR #somuchsass           \n",
       "387  Blondes vs blondes #MKR                                                                                                                           \n",
       "399  Haha girls, it's not over yet! #mkr #MKR2015                                                                                                      \n",
       "404  Hope you do okay XD\\nLooks like youll do good\\nDarn I want a lemon tart now :/ #killerblondes #MKR                                                \n",
       "\n",
       "    Label  \\\n",
       "2    none   \n",
       "14   none   \n",
       "16   none   \n",
       "42   none   \n",
       "79   none   \n",
       "83   none   \n",
       "85   none   \n",
       "177  none   \n",
       "210  none   \n",
       "242  none   \n",
       "244  none   \n",
       "253  none   \n",
       "264  none   \n",
       "274  none   \n",
       "278  none   \n",
       "332  none   \n",
       "334  none   \n",
       "387  none   \n",
       "399  none   \n",
       "404  none   \n",
       "\n",
       "                                                                           tweets_test  \\\n",
       "2    catch mkr nikki amp katie get script say thing say wouldnt caught dead say          \n",
       "14   mkr girl gonna piss                                                                 \n",
       "16   katie nikki cant cook mkr                                                           \n",
       "42   blonde chick mkr wear hot pink becandbridge dress lol                               \n",
       "79   hashtag killerblondes dickiest hashtag mkr history seriously not butcherthemodels   \n",
       "83   cant even make chicken stock mkr                                                    \n",
       "85   nutrition key closing aboriginal life expectancy gap                                \n",
       "177  sound good killerblondes mkr                                                        \n",
       "210  sassy girl rule killerblonds mkr                                                    \n",
       "242  mkr maybe girl go back cut cow pig dont quit day job                                \n",
       "244  blond girl make crazy annoy mkr                                                     \n",
       "253  hate girl far mkr                                                                   \n",
       "264  hear hot pretty sassy like u one time deconstruct mkr killerblondes                 \n",
       "274  hashtag killerblondes dickiest hashtag mkr history seriously not butcherthemodels   \n",
       "278  girl prettyawful gohome mkr                                                         \n",
       "332  get rid two big drip mkr                                                            \n",
       "334  shot every time hear word sassy hopefully well pass dessert serve mkr somuchsass    \n",
       "387  blonde v blonde mkr                                                                 \n",
       "399  haha girl not yet mkr mkr                                                           \n",
       "404  hope okay xd look like youll good darn want lemon tart killerblondes mkr            \n",
       "\n",
       "     label_test  pred  \n",
       "2    0           2     \n",
       "14   0           2     \n",
       "16   0           2     \n",
       "42   0           2     \n",
       "79   0           2     \n",
       "83   0           2     \n",
       "85   0           2     \n",
       "177  0           2     \n",
       "210  0           2     \n",
       "242  0           2     \n",
       "244  0           2     \n",
       "253  0           2     \n",
       "264  0           2     \n",
       "274  0           2     \n",
       "278  0           2     \n",
       "332  0           2     \n",
       "334  0           2     \n",
       "387  0           2     \n",
       "399  0           2     \n",
       "404  0           2     "
      ]
     },
     "execution_count": 114,
     "metadata": {},
     "output_type": "execute_result"
    }
   ],
   "source": [
    "fp_2.head(20)"
   ]
  },
  {
   "cell_type": "code",
   "execution_count": 115,
   "metadata": {},
   "outputs": [
    {
     "data": {
      "text/plain": [
       "mkr              198\n",
       "kat              73 \n",
       "girl             61 \n",
       "not              23 \n",
       "killerblondes    20 \n",
       "go               18 \n",
       "make             17 \n",
       "like             16 \n",
       "say              16 \n",
       "cant             15 \n",
       "dtype: int64"
      ]
     },
     "execution_count": 115,
     "metadata": {},
     "output_type": "execute_result"
    }
   ],
   "source": [
    "fp_2['tweets_test'].str.split(expand=True).stack().value_counts().head(10)"
   ]
  },
  {
   "cell_type": "markdown",
   "metadata": {},
   "source": [
    "On another hand, the model picked up on common n-grams that were wrongly classified as sexism. Certain tweets seem to have a negative sentiment on females, but are not necessarily sexist (e.g. id 5322, 5353). They seem like personal opinion about people on the show who happen to be female. The model may have been overfitted for this class. "
   ]
  },
  {
   "cell_type": "markdown",
   "metadata": {},
   "source": [
    " "
   ]
  },
  {
   "cell_type": "markdown",
   "metadata": {},
   "source": [
    " "
   ]
  },
  {
   "cell_type": "markdown",
   "metadata": {},
   "source": [
    "### In general, sexism seems to be harder to detect than racism. Perhaps more nuanced cleaning of the data is needed. The model could also be further tuned or another model, like SVM, could be introduced. "
   ]
  },
  {
   "cell_type": "markdown",
   "metadata": {},
   "source": [
    " "
   ]
  },
  {
   "cell_type": "markdown",
   "metadata": {},
   "source": [
    " "
   ]
  }
 ],
 "metadata": {
  "kernelspec": {
   "display_name": "Python 3",
   "language": "python",
   "name": "python3"
  },
  "language_info": {
   "codemirror_mode": {
    "name": "ipython",
    "version": 3
   },
   "file_extension": ".py",
   "mimetype": "text/x-python",
   "name": "python",
   "nbconvert_exporter": "python",
   "pygments_lexer": "ipython3",
   "version": "3.7.4"
  }
 },
 "nbformat": 4,
 "nbformat_minor": 2
}
